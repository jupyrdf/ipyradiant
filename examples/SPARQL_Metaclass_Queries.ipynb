{
 "cells": [
  {
   "cell_type": "markdown",
   "metadata": {},
   "source": [
    "## SPARQLQueryFramer and Metaclass Values\n",
    "One of the challenges with using RDF is in passing new values as bindings to the query string. A pythonic way to specify values is safer than requiring each value specification to require re-engineering. This notebook demonstrates the use of a `metaclass` together with the `ipyradiant` `SPARQLQueryFramer` class to support (semi) pythonic specification of SPARQL `VALUES` blocks.  "
   ]
  },
  {
   "cell_type": "code",
   "execution_count": null,
   "metadata": {},
   "outputs": [],
   "source": [
    "from rdflib import URIRef"
   ]
  },
  {
   "cell_type": "markdown",
   "metadata": {},
   "source": [
    "### Load an example RDF graph\n",
    "\n",
    "In this example, we will use the `ipyradiant` `FileManager`."
   ]
  },
  {
   "cell_type": "code",
   "execution_count": null,
   "metadata": {},
   "outputs": [],
   "source": [
    "from ipyradiant import FileManager, PathLoader\n",
    "\n",
    "lw = FileManager(loader=PathLoader(path=\"data\"))\n",
    "# here we hard set what we want the file to be, but ideally a user can choose a file to work with.\n",
    "lw.loader.file_picker.value = lw.loader.file_picker.options[\"starwars.ttl\"]\n",
    "lw.loader.file_picker.disabled = True  # disabling for the example\n",
    "graph = lw.graph  # convenience variable\n",
    "lw"
   ]
  },
  {
   "cell_type": "markdown",
   "metadata": {},
   "source": [
    "### Example Query with `rdflib`\n",
    "One common way to perform a SPARQL query in python is using the `query` method on a `rdflib.graph.Graph`. This requires that we specify namespaces and bindings at runtime, or within the query body itself. "
   ]
  },
  {
   "cell_type": "code",
   "execution_count": null,
   "metadata": {},
   "outputs": [],
   "source": [
    "qres = graph.query(\n",
    "    \"\"\"\n",
    "    SELECT DISTINCT ?subject ?label\n",
    "    WHERE {\n",
    "        ?subject a ?type ;\n",
    "            rdfs:label ?label .\n",
    "    }\n",
    "    LIMIT 3\n",
    "    \"\"\",\n",
    "    initBindings={\"type\": URIRef('https://swapi.co/vocabulary/Character')}\n",
    ")\n",
    "list(qres)"
   ]
  },
  {
   "cell_type": "markdown",
   "metadata": {},
   "source": [
    "> Note the specification of the initBindings at runtime. This evaluates to the same result as the following query string:\n",
    "\n",
    "```sparql\n",
    "SELECT DISTINCT ?subject ?label\n",
    "WHERE {\n",
    "    ?subject a <https://swapi.co/vocabulary/Character> ;\n",
    "        rdfs:label ?label .\n",
    "}\n",
    "LIMIT 3\n",
    "```\n",
    "\n",
    "which is the same as using the shorthand prefix and defining the prefix within the SPARQL string:\n",
    "\n",
    "```sparql\n",
    "PREFIX voc: <https://swapi.co/vocabulary/>\n",
    "SELECT DISTINCT ?subject ?label\n",
    "WHERE {\n",
    "    ?subject a voc:Character ;\n",
    "        rdfs:label ?label .\n",
    "}\n",
    "LIMIT 3\n",
    "```"
   ]
  },
  {
   "cell_type": "markdown",
   "metadata": {},
   "source": [
    "Now, imagine we wanted to run this query many times with different bindings for `type`. We would have to replicate a lot of code, or fall back on f-string formatted SPARQL queries. What we need is a common class pattern for defining SPARLQ queries and tracking variables such as the SPARQL string, the bindings, and namespaces. "
   ]
  },
  {
   "cell_type": "markdown",
   "metadata": {},
   "source": [
    "### Example Query with `SPARQLQueryFramer`\n",
    "The `SPARQLQueryFramer` has a number of useful capabilities. Building upon the example above, the `SPARQLQueryFramer` class allows us to build new sub-classes for SPARQL queries that can neatly maintain the query, namespaces, bindings, etc.\n",
    "\n",
    "The following is an example of the query shown above using the framer class:"
   ]
  },
  {
   "cell_type": "code",
   "execution_count": null,
   "metadata": {},
   "outputs": [],
   "source": [
    "from ipyradiant.query.api import SPARQLQueryFramer\n",
    "\n",
    "\n",
    "class CharacterLabels(SPARQLQueryFramer):\n",
    "    sparql = \"\"\"\n",
    "    SELECT DISTINCT ?subject ?label\n",
    "    WHERE {\n",
    "        ?subject a voc:Character ;\n",
    "            rdfs:label ?label .\n",
    "    }\n",
    "    LIMIT 3\n",
    "    \"\"\"\n",
    "    initNs = {\"voc\": \"https://swapi.co/vocabulary/\"}"
   ]
  },
  {
   "cell_type": "markdown",
   "metadata": {},
   "source": [
    "We can easily run this query on any number of graphs by using the classmethod `run_query`. This accepts a `rdflib.graph.Graph` as input, and returns a `pandas.DataFrame` with inferred columns (which can be manually specified). "
   ]
  },
  {
   "cell_type": "code",
   "execution_count": null,
   "metadata": {},
   "outputs": [],
   "source": [
    "CharacterLabels.run_query(graph)"
   ]
  },
  {
   "cell_type": "markdown",
   "metadata": {},
   "source": [
    "We can still use the `rdflib.graph.Graph.query` kwargs at runtime. For example, if we knew which subject we wanted to query for, we could use the `initBindings` kwarg:"
   ]
  },
  {
   "cell_type": "code",
   "execution_count": null,
   "metadata": {},
   "outputs": [],
   "source": [
    "CharacterLabels.run_query(graph, initBindings={\"subject\": URIRef(\"https://swapi.co/resource/mirialan/64\")})"
   ]
  },
  {
   "cell_type": "markdown",
   "metadata": {},
   "source": [
    "Alternately, we could use the binding variable as the kwarg key directly:"
   ]
  },
  {
   "cell_type": "code",
   "execution_count": null,
   "metadata": {},
   "outputs": [],
   "source": [
    "CharacterLabels.run_query(graph, subject=URIRef(\"https://swapi.co/resource/mirialan/64\"))"
   ]
  },
  {
   "cell_type": "markdown",
   "metadata": {},
   "source": [
    "> Note: take care when using the binding variables as kwargs. Protected python names (e.g. `type`, `id`) will cause problems."
   ]
  },
  {
   "cell_type": "markdown",
   "metadata": {},
   "source": [
    "Now imagine we want to run this query for multiple `type`s (e.g. `voc:Character` and `voc:Film`). How would we do this?"
   ]
  },
  {
   "cell_type": "markdown",
   "metadata": {},
   "source": [
    "### Querying using `VALUES` block\n",
    "SPARQL provides a built-in `VALUES` specification that allows us to specify multiple types within a SPARQL string. The following basic query illustrates the previous query example, but extended to return subjects of both `voc:Character` and `voc:Film` types (i.e. `rdf:type`). "
   ]
  },
  {
   "cell_type": "code",
   "execution_count": null,
   "metadata": {},
   "outputs": [],
   "source": [
    "qres = graph.query(\n",
    "    \"\"\"\n",
    "    PREFIX voc: <https://swapi.co/vocabulary/>\n",
    "    SELECT DISTINCT ?subject ?type\n",
    "    WHERE {\n",
    "        ?subject a ?type .\n",
    "        \n",
    "        VALUES (?type) {\n",
    "            (voc:Character)\n",
    "            (voc:Film)\n",
    "        }\n",
    "    }\n",
    "    ORDER BY DESC(?type)  # so that we can see film and character subjects\n",
    "    LIMIT 10\n",
    "    \"\"\"\n",
    ")\n",
    "list(qres)"
   ]
  },
  {
   "cell_type": "markdown",
   "metadata": {},
   "source": [
    "If we tried to create a query class using `SPARQLQueryFramer` (or another implementation), we would have to know the `VALUES` before defining the query string. This poses a problem for many applications. \n",
    "\n",
    "Imagine two queries. The first returns subjects of a particular type (like our example above), and the second uses the returned subjects to query for specific information. The second query would require the results of the first, which would prevent us from being able to define the query class up front (we don't know the `VALUES` a priori). \n",
    "\n",
    "We could define a class with an unformatted `VALUES` block, but this would require us to get the VALUES syntax correct each time, and would make our query class clunky (when do we tell the class to format?). Instead, we can use a python metaclass to achieve the same effect, while providing a (slightly?) simpler interface. "
   ]
  },
  {
   "cell_type": "markdown",
   "metadata": {},
   "source": [
    "### Querying using `SPARQLQueryFramer` with `metaclass`\n",
    "If you don't know about python metaclasses, I encourage you to review the [official python docs](https://docs.python.org/3/reference/datamodel.html#metaclasses) and [this great overview](https://jeffknupp.com/blog/2013/12/28/improve-your-python-metaclasses-and-dynamic-classes-with-type/).\n",
    "\n",
    "Essentially, `SPARQLQueryFramer` uses `metaclass` and `@property` to allow us to define `VALUES` pythonically and dynamically. The internals are fairly advanced, so we will simplify by showing a basic example.  "
   ]
  },
  {
   "cell_type": "markdown",
   "metadata": {},
   "source": [
    "The first step is to define a `metaclass` with an unformatted `VALUES` block. This `metaclass` with contain the `_sparql` string, and will maintain the values that will be used to format it."
   ]
  },
  {
   "cell_type": "code",
   "execution_count": null,
   "metadata": {},
   "outputs": [],
   "source": [
    "from ipyradiant.query.api import build_values\n",
    "\n",
    "\n",
    "class MetaSubjectOfType(type):\n",
    "    \"\"\"Metaclass to query for type and label for specific VALUES.\"\"\"\n",
    "\n",
    "    _sparql = \"\"\"\n",
    "        SELECT DISTINCT ?subject ?type\n",
    "        WHERE {{\n",
    "            ?subject a ?type .\n",
    "\n",
    "            VALUES ({}) {{\n",
    "                {}\n",
    "            }}\n",
    "        }}\n",
    "        ORDER BY DESC(?type)\n",
    "        LIMIT 10\n",
    "    \"\"\"\n",
    "    values = None\n",
    "    \n",
    "    @property\n",
    "    def sparql(cls):\n",
    "        return build_values(cls._sparql, cls.values)"
   ]
  },
  {
   "cell_type": "markdown",
   "metadata": {},
   "source": [
    "> Note 1: IMPORTANT The attribute for the metaclass is `_sparql` not `sparql` (important for the `@property`).\n",
    "\n",
    "> Note 2: The `metaclass` is not subclassed from `SPARQLQueryFramer`, so we cannot run the query directly. \n",
    "\n",
    "> Note 3: If this seems like a complicated way to still end up f-string formatting the sparql string, you are right! There are a number of other underlying capabilities that further motivate the requirement for using a python metaclass here. If you have a potential solution that you think avoids the need for metaclassed, please [submit an issue/PR](https://github.com/jupyrdf/ipyradiant/issues). "
   ]
  },
  {
   "cell_type": "markdown",
   "metadata": {},
   "source": [
    "We can now define a barebones `SPARQLQueryFramer` class. "
   ]
  },
  {
   "cell_type": "code",
   "execution_count": null,
   "metadata": {},
   "outputs": [],
   "source": [
    "class SubjectsOfType(SPARQLQueryFramer, metaclass=MetaSubjectOfType):\n",
    "    values = None  # Note, we could have passed a dictionary here if we wanted to"
   ]
  },
  {
   "cell_type": "markdown",
   "metadata": {},
   "source": [
    "We still can't run the query because we did not define a set of values. "
   ]
  },
  {
   "cell_type": "code",
   "execution_count": null,
   "metadata": {},
   "outputs": [],
   "source": [
    "try:\n",
    "    SubjectsOfType.run_query(graph)\n",
    "except AssertionError as e:\n",
    "    print(\"Unable to run without specifying VALUES. See error below:\")\n",
    "    print(f\"AssertionError: {e}\")"
   ]
  },
  {
   "cell_type": "markdown",
   "metadata": {},
   "source": [
    "We could easily set a default `values` for the class (if applicable). You can refer to the docs for the `values` schema."
   ]
  },
  {
   "cell_type": "code",
   "execution_count": null,
   "metadata": {},
   "outputs": [],
   "source": [
    "class SubjectsOfType(SPARQLQueryFramer, metaclass=MetaSubjectOfType):\n",
    "    values = {\n",
    "        \"type\": [URIRef(\"https://swapi.co/vocabulary/Character\")]\n",
    "    }\n",
    "    \n",
    "SubjectsOfType.run_query(graph)"
   ]
  },
  {
   "cell_type": "markdown",
   "metadata": {},
   "source": [
    "And now we can pythonically update `VALUES` (e.g. to include `voc:Film`) for the class as needed. Simple as that!"
   ]
  },
  {
   "cell_type": "code",
   "execution_count": null,
   "metadata": {},
   "outputs": [],
   "source": [
    "# We can use rdflib.namespace.Namespace here too!\n",
    "from rdflib.namespace import Namespace\n",
    "\n",
    "VOC = Namespace(\"https://swapi.co/vocabulary/\")\n",
    "\n",
    "SubjectsOfType.values = {\n",
    "    \"type\": [VOC.Character, VOC.Film]\n",
    "}\n",
    "SubjectsOfType.run_query(graph)"
   ]
  },
  {
   "cell_type": "markdown",
   "metadata": {},
   "source": [
    "### Conclusion\n",
    "\n",
    "`SPARQLQueryFramer` and `metaclass` provide a flexible way to build SPARQL queries in python. This allows us to dynamically specify queries from reusable query classes. \n",
    "\n",
    "There are a lot of other cool ways to use `SPARQLQueryFramer` classes. Check out usages in the `ipyradiant` sourcecode [here](https://github.com/jupyrdf/ipyradiant/search?q=SPARQLQueryFramer)."
   ]
  }
 ],
 "metadata": {
  "kernelspec": {
   "display_name": "Python 3",
   "language": "python",
   "name": "python3"
  },
  "language_info": {
   "codemirror_mode": {
    "name": "ipython",
    "version": 3
   },
   "file_extension": ".py",
   "mimetype": "text/x-python",
   "name": "python",
   "nbconvert_exporter": "python",
   "pygments_lexer": "ipython3",
   "version": "3.7.8"
  }
 },
 "nbformat": 4,
 "nbformat_minor": 4
}
