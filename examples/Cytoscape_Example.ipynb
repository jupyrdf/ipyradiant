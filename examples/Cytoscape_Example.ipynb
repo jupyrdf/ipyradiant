{
 "cells": [
  {
   "cell_type": "markdown",
   "metadata": {},
   "source": [
    "# Visualizing Small Graphs with Cytoscape\n",
    "\n",
    "The `CytoscapeVisualizer` is preferred to the\n",
    "[DatashaderVisualizer](./Datashader_Example.ipynb) for small RDF Graphs. Above a few\n",
    "thousand triples, `CytoscapeVisualizer` will be pretty slow."
   ]
  },
  {
   "cell_type": "code",
   "execution_count": null,
   "metadata": {},
   "outputs": [],
   "source": [
    "import traitlets as T\n",
    "\n",
    "import ipywidgets as W\n",
    "import pandas as pd\n",
    "from ipyradiant import CytoscapeVisualizer, FileManager, PathLoader\n",
    "from ipyradiant.loader.util import SUFFIX_FORMAT_MAP"
   ]
  },
  {
   "cell_type": "markdown",
   "metadata": {},
   "source": [
    "For this example, we will combines a path-based [FileManager](./FileManager.ipynb) and a\n",
    "`CytoscapeVisualizer` to view the [example datasets](./data/README.md).\n",
    "\n",
    "> Note: The `tree.jsonld` example may take a while to load."
   ]
  },
  {
   "cell_type": "code",
   "execution_count": null,
   "metadata": {},
   "outputs": [],
   "source": [
    "pl = PathLoader(path=\"data\")\n",
    "fm = FileManager(layout=dict(min_width=\"250px\"), loader=pl)\n",
    "cy = CytoscapeVisualizer(layout=dict(flex=\"1\"))\n",
    "T.link((fm, \"graph\"), (cy, \"graph\"))\n",
    "cy_ex = W.HBox([W.VBox([fm]), cy])\n",
    "cy_ex"
   ]
  }
 ],
 "metadata": {
  "kernelspec": {
   "display_name": "Python 3",
   "language": "python",
   "name": "python3"
  },
  "language_info": {
   "codemirror_mode": {
    "name": "ipython",
    "version": 3
   },
   "file_extension": ".py",
   "mimetype": "text/x-python",
   "name": "python",
   "nbconvert_exporter": "python",
   "pygments_lexer": "ipython3",
   "version": "3.7.8"
  }
 },
 "nbformat": 4,
 "nbformat_minor": 4
}
