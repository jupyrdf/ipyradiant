{
 "cells": [
  {
   "cell_type": "code",
   "execution_count": 3,
   "metadata": {},
   "outputs": [],
   "source": [
    "from ipycytoscape import CytoscapeWidget\n",
    "import networkx as nx\n",
    "from ipycytoscape import Node, Edge\n",
    "import rdflib\n",
    "from ipyradiant import FileManager, PathLoader\n",
    "from ipyradiant.rdf2nx import URItoID, URItoShortID\n",
    "from rdflib.namespace import RDFS\n",
    "from ipyradiant.rdf2nx import RDF2NX\n",
    "import json\n",
    "import ipycytoscape\n",
    "import ipywidgets as W\n",
    "from IPython.display import JSON, display"
   ]
  },
  {
   "cell_type": "markdown",
   "metadata": {},
   "source": [
    "Set up graph using stuff from RDF_to_NX.ipynb"
   ]
  },
  {
   "cell_type": "code",
   "execution_count": 4,
   "metadata": {},
   "outputs": [],
   "source": [
    "lw = FileManager(loader=PathLoader(path=\"data\"))\n",
    "# here we hard set what we want the file to be, but ideally a user can choose a file to work with.\n",
    "lw.loader.file_picker.value = lw.loader.file_picker.options[\"starwars.ttl\"]\n",
    "rdf_graph = lw.graph\n",
    "qres = lw.graph.query(\n",
    "    \"\"\"\n",
    "    PREFIX hum: <https://swapi.co/resource/human/>\n",
    "    PREFIX film: <https://swapi.co/resource/film/>\n",
    "    \n",
    "    CONSTRUCT {\n",
    "        ?s ?p ?o .\n",
    "    }\n",
    "    WHERE {\n",
    "        ?s ?p ?o .\n",
    "        \n",
    "        VALUES (?s) {\n",
    "            (hum:1)  # Luke\n",
    "            (hum:4)  # Vader\n",
    "            (film:1) # A New Hope\n",
    "        }\n",
    "    }\n",
    "    \"\"\"\n",
    ")\n",
    "\n",
    "simple_graph = rdflib.graph.Graph().parse(data=qres.serialize(format=\"xml\"))\n",
    "uri = RDFS.label\n",
    "ns = {\"rdfs\": str(RDFS)}\n",
    "initNs = {\n",
    "    \"rdf\": \"http://www.w3.org/1999/02/22-rdf-syntax-ns#\",\n",
    "    \"rdfs\": \"http://www.w3.org/2000/01/rdf-schema#\",\n",
    "    \"res\": \"https://swapi.co/resource/\",\n",
    "    \"voc\": \"https://swapi.co/vocabulary/\",\n",
    "    \"base\": \"https://swapi.co/resource/\",\n",
    "}\n",
    " \n",
    "nx_graph = RDF2NX.convert(simple_graph, namespaces=initNs)\n",
    "directed = ipycytoscape.CytoscapeWidget()\n",
    "directed.graph.add_graph_from_networkx(nx_graph, multiple_edges=True, directed=True)\n",
    "for node in directed.graph.nodes:\n",
    "    # deal with inability to handle colons\n",
    "    node.data[\"_label\"] = node.data.get(\"rdfs:label\", None)\n",
    "    node.data[\"_attrs\"] = json.dumps(\n",
    "        node.data, indent=2\n",
    "    )"
   ]
  },
  {
   "cell_type": "markdown",
   "metadata": {},
   "source": [
    "Update layout."
   ]
  },
  {
   "cell_type": "markdown",
   "metadata": {},
   "source": [
    "Create HBox with buttons, json viewer"
   ]
  },
  {
   "cell_type": "code",
   "execution_count": 5,
   "metadata": {},
   "outputs": [],
   "source": [
    "expand_button = W.Button(description=\"Expand Upon Selected Node\", layout = W.Layout(width='250px', height='40px'))\n",
    "remove_button = W.Button(description=\"Remove Expansions Upon Node\", layout = W.Layout(width='250px', height='40px'))\n",
    "left_vbox = W.VBox(children=[directed, W.HBox(children=[expand_button,remove_button])], border=True, layout=W.Layout(height='450px', border='solid 2px'))\n",
    "json_output = W.Output()\n",
    "right_vbox = W.VBox(children=[W.HTML(\"<h1>JSON Data from Node</h1>\", layout=W.Layout(height='100px')), json_output])\n",
    "full_display = W.GridBox(children = [left_vbox, right_vbox],layout=W.Layout(grid_template_columns=\"repeat(2, 500px)\", height='450px') )"
   ]
  },
  {
   "cell_type": "code",
   "execution_count": 6,
   "metadata": {},
   "outputs": [],
   "source": [
    "def log_node_clicks(node):\n",
    "    full_display.selected_node = node #['data']['iri'] ??? do i want this\n",
    "    data = node['data']\n",
    "    data.pop('_label', None)\n",
    "    data.pop('_attrs', None)\n",
    "    with json_output:\n",
    "        json_output.clear_output()\n",
    "        display(JSON(data))\n",
    "    \n",
    "directed.on(\"node\", \"click\", log_node_clicks)\n",
    "directed.set_layout(\n",
    "    name=\"dagre\", animate=False, randomize=False, maxSimulationTime=2000\n",
    ")\n",
    "# Workaround for style overwriting\n",
    "directed.set_style(\n",
    "    [\n",
    "        {\n",
    "            \"selector\": \"node\",\n",
    "            \"css\": {\n",
    "                \"label\": \"data(_label)\",\n",
    "                \"text-wrap\": \"wrap\",\n",
    "                \"text-max-width\": \"150px\",\n",
    "                \"text-valign\": \"center\",\n",
    "                \"text-halign\": \"center\",\n",
    "                \"font-size\": \"10\",\n",
    "                \"font-family\": '\"Gill Sans\", sans-serif',\n",
    "                \"color\": \"blue\",\n",
    "            },\n",
    "        },\n",
    "        {\n",
    "            \"selector\": \"edge\",\n",
    "            \"css\": {\n",
    "                \"label\": \"data(_label)\",\n",
    "                \"text-wrap\": \"wrap\",\n",
    "                \"text-max-width\": \"150px\",\n",
    "                \"text-valign\": \"center\",\n",
    "                \"text-halign\": \"center\",\n",
    "                \"font-size\": \"10\",\n",
    "                \"font-family\": '\"Gill Sans\", sans-serif',\n",
    "                \"color\": \"green\",\n",
    "            },\n",
    "        },\n",
    "        {\n",
    "            \"selector\": \"edge.directed\",\n",
    "            \"style\": {\n",
    "                \"curve-style\": \"bezier\",\n",
    "                \"target-arrow-shape\": \"triangle\",\n",
    "            },\n",
    "        },\n",
    "        {\"selector\": \"edge.multiple_edges\", \"style\": {\"curve-style\": \"bezier\"}},\n",
    "        {\n",
    "            \"selector\": \":active \",\n",
    "            \"css\": {\n",
    "                \"label\": \"data(_attrs)\",\n",
    "                \"text-wrap\": \"wrap\",\n",
    "                \"text-max-width\": \"500px\",\n",
    "                \"text-valign\": \"bottom\",\n",
    "                \"text-halign\": \"right\",\n",
    "                \"text-background-opacity\": 0.9,\n",
    "                \"text-background-color\": \"white\",\n",
    "                \"text-background-shape\": \"roundrectangle\",\n",
    "                \"color\": \"black\",\n",
    "            },\n",
    "        },\n",
    "    ]\n",
    ")"
   ]
  },
  {
   "cell_type": "code",
   "execution_count": 7,
   "metadata": {},
   "outputs": [
    {
     "data": {
      "application/vnd.jupyter.widget-view+json": {
       "model_id": "f42789937fee422b951e3049debe56c5",
       "version_major": 2,
       "version_minor": 0
      },
      "text/plain": [
       "GridBox(children=(VBox(children=(CytoscapeWidget(cytoscape_layout={'name': 'dagre', 'animate': False, 'randomi…"
      ]
     },
     "metadata": {},
     "output_type": "display_data"
    }
   ],
   "source": [
    "full_display"
   ]
  },
  {
   "cell_type": "markdown",
   "metadata": {},
   "source": [
    "## Now attempting to put this into a class."
   ]
  },
  {
   "cell_type": "code",
   "execution_count": 15,
   "metadata": {},
   "outputs": [],
   "source": [
    "import traitlets as trt\n",
    "from ipyradiant.query.api import SPARQLQueryFramer\n",
    "import pandas \n",
    "import rdflib\n",
    "from typing import Union\n",
    "from rdflib.namespace import RDF\n",
    "\n",
    "\n",
    "class GetOutgoingPredicateObjects(SPARQLQueryFramer):\n",
    "    sparql =  \"\"\"\n",
    "    SELECT DISTINCT ?s ?p ?o ?label\n",
    "    \n",
    "    WHERE {\n",
    "        ?s ?p ?o .\n",
    "        FILTER (!isLiteral(?o))\n",
    "        OPTIONAL {?o rdfs:label ?label}\n",
    "    }\n",
    "    \n",
    "    \"\"\"\n",
    "    @classmethod\n",
    "    def run_query(\n",
    "        cls,\n",
    "        graph: rdflib.graph.Graph,\n",
    "        subject: Union[rdflib.term.URIRef, str],\n",
    "        initBindings: dict = None,\n",
    "        **initBindingsKwarg,\n",
    "    ) -> pandas.DataFrame:\n",
    "        \"\"\"Overwrite the super method in order to wrap with validation checks.\"\"\"\n",
    "        \n",
    "        qres = super().run_query(graph, s=rdflib.term.URIRef(subject), initBindings=initBindings, **initBindingsKwarg)\n",
    "        # Validating with known requirements on query results\n",
    "        # TODO\n",
    "        return qres\n",
    "\n",
    "\n",
    "class InteractiveViewer(W.VBox):\n",
    "    expand_button = trt.Instance(W.Button)\n",
    "    remove_button = trt.Instance(W.Button)\n",
    "    cyto_graph = trt.Instance(ipycytoscape.CytoscapeWidget)\n",
    "    selected_node = trt.Dict(allow_none=True)\n",
    "    rdf_graph = trt.Instance(rdflib.graph.Graph, allow_none=True)\n",
    "    cyto_style = trt.List(allow_none=True)\n",
    "    \n",
    "    # TODO: should this be a traitlet?\n",
    "    _uri_converter = URItoShortID\n",
    "    \n",
    "    \n",
    "    @trt.default(\"expand_button\")\n",
    "    def _create_expand_button(self):\n",
    "        return W.Button(\n",
    "            description=\"Expand Upon Selected Node\", \n",
    "            layout = W.Layout(width='500px', height='40px')\n",
    "        )\n",
    "    \n",
    "    @trt.default(\"remove_button\")\n",
    "    def _create_remove_button(self):\n",
    "        return W.Button(\n",
    "            description=\"Remove Expansions Upon Node\", \n",
    "            layout = W.Layout(width='500px', height='40px')\n",
    "        )\n",
    "    \n",
    "    @trt.default(\"selected_node\")\n",
    "    def _create_default_selected_node(self):\n",
    "        return None\n",
    "    \n",
    "    @trt.default(\"cyto_style\")\n",
    "    def _create_cyto_style(self):\n",
    "        return  [\n",
    "        {\n",
    "            \"selector\": \"node\",\n",
    "            \"css\": {\n",
    "                \"label\": \"data(_label)\",\n",
    "                \"text-wrap\": \"wrap\",\n",
    "                \"text-max-width\": \"150px\",\n",
    "                \"text-valign\": \"center\",\n",
    "                \"text-halign\": \"center\",\n",
    "                \"font-size\": \"10\",\n",
    "                \"font-family\": '\"Gill Sans\", sans-serif',\n",
    "                \"color\": \"blue\",\n",
    "            },\n",
    "        },\n",
    "        {\n",
    "            \"selector\": \"node[classes='selected-node']\",\n",
    "            \"css\": {\n",
    "                \"label\": \"data(_label)\",\n",
    "                \"text-wrap\": \"wrap\",\n",
    "                \"text-max-width\": \"150px\",\n",
    "                \"text-valign\": \"center\",\n",
    "                \"text-halign\": \"center\",\n",
    "                \"font-size\": \"10\",\n",
    "                \"font-family\": '\"Gill Sans\", sans-serif',\n",
    "                \"background-color\": \"red\",\n",
    "            },\n",
    "        },\n",
    "        {\n",
    "            \"selector\": \"node[classes='temp-node']\",\n",
    "            \"css\": {\n",
    "                \"label\": \"data(_label)\",\n",
    "                \"text-wrap\": \"wrap\",\n",
    "                \"text-max-width\": \"150px\",\n",
    "                \"text-valign\": \"center\",\n",
    "                \"text-halign\": \"center\",\n",
    "                \"font-size\": \"10\",\n",
    "                \"font-family\": '\"Gill Sans\", sans-serif',\n",
    "                \"background-color\": \"green\",\n",
    "            },\n",
    "        },\n",
    "        {\n",
    "            \"selector\": \"edge[classes='temp-edge']\",\n",
    "            \"css\": {\n",
    "                \"label\": \"data(_label)\",\n",
    "                \"text-wrap\": \"wrap\",\n",
    "                \"text-max-width\": \"150px\",\n",
    "                \"text-valign\": \"center\",\n",
    "                \"text-halign\": \"center\",\n",
    "                \"font-size\": \"10\",\n",
    "                \"font-family\": '\"Gill Sans\", sans-serif',\n",
    "                \"color\": \"green\",\n",
    "            },\n",
    "        },\n",
    "        {\n",
    "            \"selector\": \"edge.directed\",\n",
    "            \"style\": {\n",
    "                \"curve-style\": \"bezier\",\n",
    "                \"target-arrow-shape\": \"triangle\",\n",
    "            },\n",
    "        },\n",
    "        {\"selector\": \"edge.multiple_edges\", \"style\": {\"curve-style\": \"bezier\"}},\n",
    "    ]\n",
    "    \n",
    "    \n",
    "    \n",
    "    def __init__(self, *args, **kwargs):\n",
    "        super().__init__(*args, **kwargs)\n",
    "        if kwargs is not None and 'rdf_graph' in kwargs:\n",
    "            self.rdf_graph = kwargs['rdf_graph']\n",
    "        else:\n",
    "            print('must pass in an rdf_graph')\n",
    "        if kwargs is not None and 'cyto_graph' in kwargs:\n",
    "            self.cyto_graph = kwargs['cyto_graph']\n",
    "            self.cyto_graph.set_layout(\n",
    "                    name=\"dagre\", animate=False, randomize=False, maxSimulationTime=2000\n",
    "            )\n",
    "        else:\n",
    "            print('must pass in a cyto_graph')\n",
    "\n",
    "        \n",
    "        self.cyto_graph.set_style(self.cyto_style)\n",
    "        self.expand_button.on_click(self.expand_button_clicked)\n",
    "        self.cyto_graph.on(\"node\", \"click\", self.log_node_clicks)\n",
    "        self.buttons = W.HBox(children = [self.expand_button, self.remove_button])\n",
    "        self.children = [self.cyto_graph, self.buttons]\n",
    "        self.layout = W.Layout(width='1000px', border='solid 2px')\n",
    "    \n",
    "    \n",
    "    def log_node_clicks(self, node):\n",
    "        try:\n",
    "            self.selected_node['data']['classes'] = None\n",
    "        except:\n",
    "            pass\n",
    "        self.selected_node = node\n",
    "        self.selected_node['data']['classes'] = 'selected-node' \n",
    "        data = node['data']\n",
    "        # TODO: replace pops with filter for private attributes\n",
    "        data.pop('_label', None)\n",
    "        data.pop('_attrs', None)\n",
    "        with json_output:\n",
    "            json_output.clear_output()\n",
    "            display(JSON(data))\n",
    "        \n",
    "    def expand_button_clicked(self, b):\n",
    "        if self.selected_node is None:\n",
    "            return None\n",
    "        new_data = GetOutgoingPredicateObjects.run_query(graph=self.rdf_graph, subject=self.selected_node['data']['iri'])\n",
    "        objs = new_data['o'].tolist()\n",
    "        preds = new_data['p'].tolist()\n",
    "        labels = new_data['label'].tolist()\n",
    "        # add nodes\n",
    "        for ii, x in enumerate(objs):\n",
    "            print(str(x))\n",
    "            if preds[ii] == RDF.type:\n",
    "                labels[ii] = \"Type: \" + self._uri_converter(str(x))\n",
    "            self.cyto_graph.graph.add_node(Node(data={'id':str(x), 'classes':'temp-node', '_label':labels[ii]}))\n",
    "            self.cyto_graph.graph.add_edge(Edge(data={'source':self.selected_node['data']['id'], 'target': str(x), 'classes':'temp-edge'}))\n",
    "\n",
    "\n",
    "            \n",
    "        \n",
    "        \n",
    "        \n",
    "    \n",
    "    \n",
    "    \n",
    "    \n",
    "    \n",
    "    "
   ]
  },
  {
   "cell_type": "code",
   "execution_count": 22,
   "metadata": {},
   "outputs": [],
   "source": [
    "directed = ipycytoscape.CytoscapeWidget()\n",
    "directed.graph.add_graph_from_networkx(nx_graph, multiple_edges=True, directed=True)\n",
    "for node in directed.graph.nodes:\n",
    "    # deal with inability to handle colons\n",
    "    node.data[\"_label\"] = node.data.get(\"rdfs:label\", None)\n",
    "    node.data[\"_attrs\"] = json.dumps(\n",
    "        node.data, indent=2\n",
    "    )"
   ]
  },
  {
   "cell_type": "code",
   "execution_count": 23,
   "metadata": {},
   "outputs": [],
   "source": [
    "iv = InteractiveViewer(rdf_graph=rdf_graph, cyto_graph=directed)\n",
    "combined = W.GridBox(children = [iv, json_output],layout=W.Layout(grid_template_columns=\"repeat(2, 500px)\", height='450px') )"
   ]
  },
  {
   "cell_type": "code",
   "execution_count": 24,
   "metadata": {},
   "outputs": [
    {
     "data": {
      "application/vnd.jupyter.widget-view+json": {
       "model_id": "251707ebf100427b872e72a67196172c",
       "version_major": 2,
       "version_minor": 0
      },
      "text/plain": [
       "GridBox(children=(InteractiveViewer(children=(CytoscapeWidget(cytoscape_layout={'name': 'dagre', 'animate': Fa…"
      ]
     },
     "metadata": {},
     "output_type": "display_data"
    }
   ],
   "source": [
    "combined"
   ]
  },
  {
   "cell_type": "markdown",
   "metadata": {},
   "source": [
    "## TODO for Next Meeting/Next week:\n",
    "\n",
    "- Edge Styling?\n",
    "- Mark the selected node\n",
    "- Remove Edges\n",
    "- Integrate more into the class, less work before\n",
    "- Best way to get labels on temp nodes?"
   ]
  },
  {
   "cell_type": "code",
   "execution_count": 110,
   "metadata": {},
   "outputs": [
    {
     "data": {
      "text/plain": [
       "{'data': {'id': 'https://swapi.co/resource/film/6',\n",
       "  'classes': 'selected-node'},\n",
       " 'position': {'x': 415, 'y': 95},\n",
       " 'group': 'nodes',\n",
       " 'removed': False,\n",
       " 'selected': False,\n",
       " 'selectable': False,\n",
       " 'locked': False,\n",
       " 'grabbable': True,\n",
       " 'pannable': False,\n",
       " 'classes': ''}"
      ]
     },
     "execution_count": 110,
     "metadata": {},
     "output_type": "execute_result"
    }
   ],
   "source": [
    "iv.selected_node"
   ]
  },
  {
   "cell_type": "code",
   "execution_count": null,
   "metadata": {},
   "outputs": [],
   "source": [
    "%debug"
   ]
  },
  {
   "cell_type": "code",
   "execution_count": null,
   "metadata": {},
   "outputs": [],
   "source": [
    "%debug"
   ]
  },
  {
   "cell_type": "code",
   "execution_count": null,
   "metadata": {},
   "outputs": [],
   "source": [
    "%debug"
   ]
  },
  {
   "cell_type": "code",
   "execution_count": null,
   "metadata": {},
   "outputs": [],
   "source": []
  }
 ],
 "metadata": {
  "kernelspec": {
   "display_name": "Python 3",
   "language": "python",
   "name": "python3"
  },
  "language_info": {
   "codemirror_mode": {
    "name": "ipython",
    "version": 3
   },
   "file_extension": ".py",
   "mimetype": "text/x-python",
   "name": "python",
   "nbconvert_exporter": "python",
   "pygments_lexer": "ipython3",
   "version": "3.7.8"
  }
 },
 "nbformat": 4,
 "nbformat_minor": 4
}
