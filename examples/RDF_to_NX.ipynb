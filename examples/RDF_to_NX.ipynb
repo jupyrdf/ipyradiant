{
 "cells": [
  {
   "cell_type": "markdown",
   "metadata": {},
   "source": [
    "## RDF to Networkx (an LPG)\n",
    "\n",
    "This process help reduce data complexity by transforming an RDF graph to networkx (LPG).\n",
    "Unlike other similar capabilities\n",
    "(`rdflib.extras.external_graph_libs.rdflib_to_networkx_multidigraph`) this process\n",
    "allows properties to be collapsed onto LPG nodes. This reduces visual complexity, and\n",
    "can provide performance improvements for graph algorithms such as distance (due to\n",
    "reduced number of nodes).\n",
    "\n",
    "The process is designed to provide a customizable way to change the behavior of the\n",
    "transformation. This work is still in progress, so bugs and unexpected behavior may\n",
    "occur."
   ]
  },
  {
   "cell_type": "code",
   "execution_count": null,
   "metadata": {},
   "outputs": [],
   "source": [
    "import rdflib"
   ]
  },
  {
   "cell_type": "markdown",
   "metadata": {},
   "source": [
    "### Load an RDF graph\n",
    "\n",
    "In this example, we will use the `ipyradiant` `FileManager`."
   ]
  },
  {
   "cell_type": "code",
   "execution_count": null,
   "metadata": {},
   "outputs": [],
   "source": [
    "from ipyradiant import FileManager, PathLoader\n",
    "\n",
    "lw = FileManager(loader=PathLoader(path=\"data\"))\n",
    "# here we hard set what we want the file to be, but ideally a user can choose a file to work with.\n",
    "lw.loader.file_picker.value = lw.loader.file_picker.options[\"starwars.ttl\"]\n",
    "lw"
   ]
  },
  {
   "cell_type": "markdown",
   "metadata": {},
   "source": [
    "Create a simple graph with just data about character `Luke Skywalker`, character\n",
    "`Darth Vader`, and film `A New Hope` (to reduce complexity).\n",
    "\n",
    "> Note: large graphs cannot be visualized with cytoscape, and will not work with the\n",
    "> visualization portion of this example."
   ]
  },
  {
   "cell_type": "code",
   "execution_count": null,
   "metadata": {},
   "outputs": [],
   "source": [
    "qres = lw.graph.query(\n",
    "    \"\"\"\n",
    "    PREFIX hum: <https://swapi.co/resource/human/>\n",
    "    PREFIX film: <https://swapi.co/resource/film/>\n",
    "    \n",
    "    CONSTRUCT {\n",
    "        ?s ?p ?o .\n",
    "    }\n",
    "    WHERE {\n",
    "        ?s ?p ?o .\n",
    "        \n",
    "        VALUES (?s) {\n",
    "            (hum:1)  # Luke\n",
    "            (hum:4)  # Vader\n",
    "            (film:1) # A New Hope\n",
    "        }\n",
    "    }\n",
    "    \"\"\"\n",
    ")\n",
    "\n",
    "simple_graph = rdflib.graph.Graph().parse(data=qres.serialize(format=\"xml\"))\n",
    "print(\"# triples in our simple graph:\", len(simple_graph))"
   ]
  },
  {
   "cell_type": "markdown",
   "metadata": {},
   "source": [
    "### URI Converters (configurable)\n",
    "\n",
    "[id_converter_link]:\n",
    "  https://github.com/Rothamsted/rdf2neo/blob/master/rdf2neo/src/main/java/uk/ac/rothamsted/rdf/neo4j/idconvert/DefaultIri2IdConverter.java\n",
    "\n",
    "These converters allow us to simplify the representation of URIs in the netowrkx LPG.\n",
    "They can be configured to perform custom conversion within the larger `rdf2nx` process.\n",
    "\n",
    "[Adapted from this KnetMiner `rdf2neo` (RDF to neo4j) process.][id_converter_link]\n",
    "\n",
    "For more examples, see [this notebook.](URI_Converter_Examples.ipynb)"
   ]
  },
  {
   "cell_type": "code",
   "execution_count": null,
   "metadata": {},
   "outputs": [],
   "source": [
    "from rdflib.namespace import RDFS\n",
    "\n",
    "from ipyradiant.rdf2nx import URItoID, URItoShortID\n",
    "\n",
    "uri = RDFS.label\n",
    "ns = {\"rdfs\": str(RDFS)}\n",
    "print(f\"URItoID:\\n  -  {uri} -> {URItoID(uri)}\")\n",
    "print(\"URItoShortID w/ specified namespace:\")\n",
    "print(f\"  -  prefix: namespace = rdfs: {RDFS}\")\n",
    "print(f\"  -  {uri} -> {URItoShortID(uri, ns=ns)}\")"
   ]
  },
  {
   "cell_type": "markdown",
   "metadata": {},
   "source": [
    "## Queries to facilitate RDF -> LPG (networkx)\n",
    "\n",
    "[rdf2neo_link]: https://github.com/Rothamsted/rdf2neo/blob/master/README.md\n",
    "\n",
    "[Adapted from this KnetMiner `rdf2neo` (RDF to neo4j) process.][rdf2neo_link]"
   ]
  },
  {
   "cell_type": "markdown",
   "metadata": {},
   "source": [
    "## `rdf2nx` Node Queries\n",
    "\n",
    "Node queries directly enable the creation of LPG nodes and their properties.\n",
    "\n",
    "1. NodeIRIs:\n",
    "\n",
    "- SPARQL query that lists all the IRIs about RDF resources that represent a node.\n",
    "- Will typically return instances of target classes, although may also catch resources\n",
    "  of interest by targeting subjects or objects of given relations.\n",
    "- It is <b>very important</b> that the query returns <u>distinct</u> results.\n",
    "\n",
    "2.  NodeTypes (<i>label</i> in neo4j):\n",
    "\n",
    "- Invoked for each IRI returned by `NodeIRIs`, and is parameterized over a single node.\n",
    "- Invoked once per node; its purpose is to list all types that have to be assigned to\n",
    "  the node.\n",
    "- A type can be IRI, literal, or string. If it's an IRI, it will be translated into an\n",
    "  identifier via the configured URItoID converter.\n",
    "\n",
    "3. NodeProperties:\n",
    "\n",
    "- Invoked once per node (`?iri` bound to a single node).\n",
    "- Returns a list of all pairs of predicate+value that will be assigned to the LPG node.\n",
    "- Every node must have an `iri` property in order to process RDF-defined relations. This\n",
    "  property is always indexed, and has distinct values.\n",
    "- Every node has a default type (`label` in neo4j).\n",
    "  - The predefined value for this can be changed by configuring a `defaultNodeLabel` (in\n",
    "    future versions).\n",
    "  - Is used to find specific nodes.\n",
    "- Literal values will be converted (e.g. RDF numbers to Python numbers)(config option in\n",
    "  future version).\n",
    "- Names are typically converted to shorthand ID using the configured `URItoID`"
   ]
  },
  {
   "cell_type": "markdown",
   "metadata": {},
   "source": [
    "## `rdf2nx` Property Queries\n",
    "\n",
    "[reification_link]: https://www.w3.org/wiki/RdfReification\n",
    "\n",
    "Similarly to nodes, rdf2lpg needs first a list of relations to be created. These must\n",
    "refer to their linking nodes by means of the node URIs (mapped earlier via the iri\n",
    "property).\n",
    "\n",
    "As you can see, we need certain properties always reported after the SELECT keyword.\n",
    "Among these, we always need the relation URI, which has to be computed for straight (non\n",
    "reified) triples too.\n",
    "\n",
    "Similarly to nodes, relation URIs (i.e., ?iri) are needed by rdf2lpg in order to check\n",
    "for their properties with the relation property query. Moreover, it is a good way to\n",
    "keep track of multiple statements about the same subject/predicate/property.\n",
    "\n",
    "1. RelationTypes\n",
    "\n",
    "- Relation types are based on triple predicates (e.g. `ex:birthPlace`)\n",
    "- Returns a list of relations to be created in the LPG.\n",
    "- A fictitous IRI is created for plain relations. This is used to uniquely identify\n",
    "  specific relationship instances.\n",
    "\n",
    "2. ReifiedRelations\n",
    "\n",
    "- Similar to the `RelationTypes`, but collects the same information for the [RDF\n",
    "  reification pattern][reification_link].\n",
    "\n",
    "3. RelationProperties\n",
    "\n",
    "> Note: once reified relationships are selected with the query above, a simple\n",
    "> relationship property query is used to get additional properties of the relationship"
   ]
  },
  {
   "cell_type": "markdown",
   "metadata": {},
   "source": [
    "## Example Process (Vanilla)\n",
    "\n",
    "No custom logic is applied. This uses the default conversion queries built into\n",
    "`ipyradiant`.\n",
    "\n",
    "For examples of how to apply custom logic see [this notebook](RDF_to_NX_Custom.ipynb)."
   ]
  },
  {
   "cell_type": "code",
   "execution_count": null,
   "metadata": {},
   "outputs": [],
   "source": [
    "from ipyradiant.rdf2nx import RDF2NX"
   ]
  },
  {
   "cell_type": "code",
   "execution_count": null,
   "metadata": {},
   "outputs": [],
   "source": [
    "# Namespaces defined for shortened URIs\n",
    "initNs = {\n",
    "    \"rdf\": \"http://www.w3.org/1999/02/22-rdf-syntax-ns#\",\n",
    "    \"rdfs\": \"http://www.w3.org/2000/01/rdf-schema#\",\n",
    "    \"res\": \"https://swapi.co/resource/\",\n",
    "    \"voc\": \"https://swapi.co/vocabulary/\",\n",
    "    \"base\": \"https://swapi.co/resource/\",\n",
    "}"
   ]
  },
  {
   "cell_type": "code",
   "execution_count": null,
   "metadata": {},
   "outputs": [],
   "source": [
    "rdf_graph = simple_graph  # assign to variable for easy access\n",
    "nx_graph = RDF2NX.convert(rdf_graph, namespaces=initNs)"
   ]
  },
  {
   "cell_type": "markdown",
   "metadata": {},
   "source": [
    "## Example Graph Visualization with Cytoscape"
   ]
  },
  {
   "cell_type": "code",
   "execution_count": null,
   "metadata": {},
   "outputs": [],
   "source": [
    "from ipyradiant.visualization import CytoscapeViewer\n",
    "\n",
    "cv = CytoscapeViewer()\n",
    "# specify the label key for the nx graph (default=\"label\")\n",
    "cv._nx_label = \"rdfs:label\"\n",
    "cv.graph = nx_graph\n",
    "cv"
   ]
  },
  {
   "cell_type": "markdown",
   "metadata": {},
   "source": [
    "Checkout [this example](JSON_Interactive_Example.ipynb) for a demonstration on linking the visualization widget to a JSON inspector for viewing node data. "
   ]
  }
 ],
 "metadata": {
  "kernelspec": {
   "display_name": "Python 3",
   "language": "python",
   "name": "python3"
  },
  "language_info": {
   "codemirror_mode": {
    "name": "ipython",
    "version": 3
   },
   "file_extension": ".py",
   "mimetype": "text/x-python",
   "name": "python",
   "nbconvert_exporter": "python",
   "pygments_lexer": "ipython3",
   "version": "3.7.10"
  }
 },
 "nbformat": 4,
 "nbformat_minor": 4
}
