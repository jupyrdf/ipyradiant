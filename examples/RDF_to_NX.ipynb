{
 "cells": [
  {
   "cell_type": "markdown",
   "metadata": {},
   "source": [
    "## RDF to Networkx (an LPG)\n",
    "This process help reduce data complexity by transforming an RDF graph to networkx (LPG). Unlike other similar capabilities (`rdflib.extras.external_graph_libs.rdflib_to_networkx_multidigraph`) this process allows properties to be collapsed onto LPG nodes. This reduces visual complexity, and can provide performance improvements for graph algorithms such as distance (due to reduced number of nodes). \n",
    "\n",
    "The process is designed to provide a customizable way to change the behavior of the transformation. This work is still in progress, so bugs and unexpected behavior may occur. \n"
   ]
  },
  {
   "cell_type": "code",
   "execution_count": null,
   "metadata": {},
   "outputs": [],
   "source": [
    "import pandas\n",
    "import rdflib\n",
    "from ipyradiant import (\n",
    "    CustomURIRef,\n",
    "    FileManager,\n",
    "    MultiPanelSelect,\n",
    "    PathLoader,\n",
    "    PredicateMultiselectApp,\n",
    "    collapse_predicates,\n",
    ")\n",
    "from ipyradiant.sparql.api import SPARQLQueryFramer, build_values\n",
    "from networkx import MultiDiGraph\n",
    "from rdflib import URIRef"
   ]
  },
  {
   "cell_type": "markdown",
   "metadata": {},
   "source": [
    "### Load an RDF graph\n",
    "In this example, we will use the `ipyradiant` `FileManager`. "
   ]
  },
  {
   "cell_type": "code",
   "execution_count": null,
   "metadata": {},
   "outputs": [],
   "source": [
    "lw = FileManager(loader=PathLoader(path=\"data\"))\n",
    "# here we hard set what we want the file to be, but ideally a user can choose a file to work with.\n",
    "lw.loader.file_picker.value = lw.loader.file_picker.options[\"starwars.ttl\"]\n",
    "lw"
   ]
  },
  {
   "cell_type": "markdown",
   "metadata": {},
   "source": [
    "Create a simple graph with just data about character `Luke Skywalker`, character `Darth Vader`, and film `A New Hope` (to reduce complexity).\n",
    "> Note: larger graphs cannot be visualized with cytoscape, and will not work with the visualization portion of this example. "
   ]
  },
  {
   "cell_type": "code",
   "execution_count": null,
   "metadata": {},
   "outputs": [],
   "source": [
    "qres = lw.graph.query(\n",
    "    \"\"\"\n",
    "    PREFIX hum: <https://swapi.co/resource/human/>\n",
    "    PREFIX film: <https://swapi.co/resource/film/>\n",
    "    \n",
    "    CONSTRUCT {\n",
    "        ?s ?p ?o .\n",
    "    }\n",
    "    WHERE {\n",
    "        ?s ?p ?o .\n",
    "        \n",
    "        VALUES (?s) {\n",
    "            (hum:1)  # Luke\n",
    "            (hum:4)  # Vader\n",
    "            (film:1) # A New Hope\n",
    "        }\n",
    "    }\n",
    "    \"\"\"\n",
    ")\n",
    "\n",
    "simple_graph = rdflib.graph.Graph().parse(data=qres.serialize(format='xml'))\n",
    "print(\"# triples in our simple graph:\", len(simple_graph))"
   ]
  },
  {
   "cell_type": "markdown",
   "metadata": {},
   "source": [
    "### Converters\n",
    "TODO discussion"
   ]
  },
  {
   "cell_type": "markdown",
   "metadata": {},
   "source": [
    "#### URItoID default converter (configurable)\n",
    "[id_converter_link]: https://github.com/Rothamsted/rdf2neo/blob/master/rdf2neo/src/main/java/uk/ac/rothamsted/rdf/neo4j/idconvert/DefaultIri2IdConverter.java\n",
    "\n",
    "These converters allow us to simplify the representation of URIs in the netowrkx LPG. They can be configured to perform custom conversion within the larger `rdf2nx` process. \n",
    "\n",
    "[Adapted from this KnetMiner `rdf2neo` (RDF to neo4j) process.][id_converter_link]\n",
    "\n",
    "> Future implementation note: we will want to store converted URIs in a dict and check\n",
    "> the dict before calling `URItoID`"
   ]
  },
  {
   "cell_type": "code",
   "execution_count": null,
   "metadata": {},
   "outputs": [],
   "source": [
    "from ipyradiant.rdf2nx import URItoID, URItoShortID"
   ]
  },
  {
   "cell_type": "markdown",
   "metadata": {},
   "source": [
    "#### Converter Examples\n",
    "> TODO make this easier to read or move to another notebook."
   ]
  },
  {
   "cell_type": "code",
   "execution_count": null,
   "metadata": {},
   "outputs": [],
   "source": [
    "test_uri_1 = URIRef(\"https://www.example.com/Person\")\n",
    "test_uri_2 = URIRef(\"https://www.other_example.com/Person#Person1\")\n",
    "test_namespaces = {\n",
    "    \"ex\": URIRef(\"https://www.example.com/\")\n",
    "}  # could use dict(lw.graph.namespaces)\n",
    "\n",
    "print(\"Trailing '/':\", URItoID(test_uri_1))\n",
    "print(\"Trailing '#':\", URItoID(test_uri_2))\n",
    "print(\"No namespaces provided (URItoID):\", URItoShortID(test_uri_1))\n",
    "print(\n",
    "    \"Namespaces provided and valid for URI:\",\n",
    "    URItoShortID(test_uri_1, namespaces=test_namespaces),\n",
    ")\n",
    "print(\n",
    "    \"Namespaces provided but none for URI:\",\n",
    "    URItoShortID(test_uri_2, namespaces=test_namespaces),\n",
    ")"
   ]
  },
  {
   "cell_type": "markdown",
   "metadata": {},
   "source": [
    "### Literal to python type (mapping configurable)\n",
    "\n",
    "Used to convert typed Literals to other types.\n",
    "\n",
    "This is a work in progress and does not currently have an implementation. (This is a stub section)."
   ]
  },
  {
   "cell_type": "code",
   "execution_count": null,
   "metadata": {},
   "outputs": [],
   "source": [
    "from ipyradiant.rdf2nx.literal_map import LiteralMap, LiteralTyping"
   ]
  },
  {
   "cell_type": "markdown",
   "metadata": {},
   "source": [
    "## Queries to facilitate RDF -> LPG (networkx)\n",
    "[rdf2neo_link]: https://github.com/Rothamsted/rdf2neo/blob/master/README.md\n",
    "[Adapted from this KnetMiner `rdf2neo` (RDF to neo4j) process.][rdf2neo_link]"
   ]
  },
  {
   "cell_type": "markdown",
   "metadata": {},
   "source": [
    "## `rdf2nx` Node Queries\n",
    "Node queries directly enable the creation of LPG nodes and their properties. \n",
    "\n",
    "1. NodeIRIs: \n",
    "  * SPARQL query that lists all the IRIs about RDF resources that represent a node.\n",
    "  * Will typically return instances of target classes, although may also catch resources of interest by targeting subjects or objects of given relations.\n",
    "  * It is <b>very important</b> that the query returns <u>distinct</u> results.\n",
    "0. NodeTypes (<i>label</i> in neo4j):\n",
    "  * Invoked for each IRI returned by `NodeIRIs`, and is parameterized over a single node.\n",
    "  * Invoked once per node; its purpose is to list all types that have to be assigned to the node.\n",
    "  * A type can be IRI, literal, or string. If it's an IRI, it will be translated into an identifier via the configured URItoID converter.\n",
    "0. NodeProperties:\n",
    "  * Invoked once per node (`?iri` bound to a single node).\n",
    "  * Returns a list of all pairs of predicate+value that will be assigned to the LPG node.\n",
    "  * Every node must have an `iri` property in order to process RDF-defined relations. This property is always indexed, and has distinct values.\n",
    "  * Every node has a default type (`label` in neo4j). \n",
    "    * The predefined value for this can be changed by configuring a `defaultNodeLabel` (in future versions).\n",
    "    * Is used to find specific nodes.\n",
    "  * Literal values will be converted (e.g. RDF numbers to Python numbers)(config option in future version).\n",
    "  * Names are typically converted to shorthand ID using the configured `URItoID`"
   ]
  },
  {
   "cell_type": "code",
   "execution_count": null,
   "metadata": {},
   "outputs": [],
   "source": [
    "from ipyradiant.rdf2nx import NodeIRIs, NodeProperties, NodeTypes"
   ]
  },
  {
   "cell_type": "markdown",
   "metadata": {},
   "source": [
    "## `rdf2nx` Property Queries\n",
    "[reification_link]: https://www.w3.org/wiki/RdfReification\n",
    "\n",
    "Similarly to nodes, rdf2lpg needs first a list of relations to be created. These must\n",
    "refer to their linking nodes by means of the node URIs (mapped earlier via the iri\n",
    "property).\n",
    "\n",
    "As you can see, we need certain properties always reported after the SELECT keyword.\n",
    "Among these, we always need the relation URI, which has to be computed for straight (non\n",
    "reified) triples too.\n",
    "\n",
    "Similarly to nodes, relation URIs (i.e., ?iri) are needed by rdf2lpg in order to check\n",
    "for their properties with the relation property query. Moreover, it is a good way to\n",
    "keep track of multiple statements about the same subject/predicate/property.\n",
    "\n",
    "1. RelationTypes\n",
    " * Relation types are based on triple predicates (e.g. `ex:birthPlace`)\n",
    " * Returns a list of relations to be created in the LPG. \n",
    " * A fictitous IRI is created for plain relations. This is used to uniquely identify specific relationship instances.\n",
    "0. ReifiedRelations\n",
    "  * Similar to the `RelationTypes`, but collects the same information for the [RDF reification pattern][reification_link]. \n",
    "0. RelationProperties\n",
    "\n",
    "> Note: once reified relationships are selected with the query above, a simple\n",
    "> relationship property query is used to get additional properties of the relationship"
   ]
  },
  {
   "cell_type": "code",
   "execution_count": null,
   "metadata": {},
   "outputs": [],
   "source": [
    "from ipyradiant.rdf2nx import ReifiedRelations, RelationProperties, RelationTypes"
   ]
  },
  {
   "cell_type": "markdown",
   "metadata": {},
   "source": [
    "## Example Process (Vanilla)\n",
    "No custom logic is applied. This uses the default conversion queries built into `ipyradiant`. "
   ]
  },
  {
   "cell_type": "code",
   "execution_count": null,
   "metadata": {},
   "outputs": [],
   "source": [
    "base_ns = rdflib.namespace.Namespace(\"https://swapi.co/resource/\")  # base namespace (used for some queries)\n",
    "converted_preds = {}  # track converted predicates\n",
    "rdf_graph = simple_graph  # assign to common var name\n",
    "nx_graph = MultiDiGraph()  # initilize the networkx graph"
   ]
  },
  {
   "cell_type": "code",
   "execution_count": null,
   "metadata": {},
   "outputs": [],
   "source": [
    "# Namespaces defined for shortened URIs\n",
    "# TODO what if these were URIRefs, Namespaces, or NamespaceManager?\n",
    "initNs = {\n",
    "    \"rdf\": \"http://www.w3.org/1999/02/22-rdf-syntax-ns#\",\n",
    "    \"rdfs\": \"http://www.w3.org/2000/01/rdf-schema#\",\n",
    "    \"res\": \"https://swapi.co/resource/\",\n",
    "    \"voc\": \"https://swapi.co/vocabulary/\",\n",
    "}"
   ]
  },
  {
   "cell_type": "markdown",
   "metadata": {},
   "source": [
    "#### Process Node Queries\n",
    "> This will be part of the framework"
   ]
  },
  {
   "cell_type": "code",
   "execution_count": null,
   "metadata": {},
   "outputs": [],
   "source": [
    "# Note: the results of NodeIRIs could be paginated (LIMIT+OFFSET) and used to batch process the nodes below (in parallel)\n",
    "node_iris = NodeIRIs.run_query(rdf_graph)\n",
    "print(f\"We have collected {len(node_iris)} nodes to be created in the LPG.\")\n",
    "\n",
    "# Create nodes during process (FUTURE TODO: create all at once after collecting data)\n",
    "for node_iri in node_iris[\"iri\"]:\n",
    "    # print(\"Processing node w/ IRI:\", node_iri)\n",
    "    # Get the types for the node (must bind iri)\n",
    "    types = NodeTypes.run_query(rdf_graph, iri=node_iri)\n",
    "    # TODO use URItoShortID?\n",
    "    # TODO this isn't actually used. Should this impact the nx_graph differently than just the normal rdf:type?\n",
    "    type_list = tuple(map(URItoID, types[\"type_\"].values))  \n",
    "\n",
    "    # Get the properties for the node (must bind iri)\n",
    "    properties = NodeProperties.run_query(rdf_graph, iri=node_iri)\n",
    "    nx_node_properties = {\"iri\": node_iri}  # include iri on the node data\n",
    "    for group_predicate, group_df in properties.groupby([\"predicate\"]):\n",
    "        group_values = group_df[\"value\"].values\n",
    "        \n",
    "        if group_predicate not in converted_preds:\n",
    "            converted_preds[group_predicate] = URItoShortID(group_predicate, namespaces=initNs)\n",
    "        \n",
    "        # handle processing when there are multiple object-predicates\n",
    "        if len(group_df) > 1: \n",
    "            assert len(set(map(type, group_values))) == 1, \"Values must all be of the same type.\"\n",
    "            # Convert multiple values into a single cast_value\n",
    "            # TODO map callable should be mapper for proper type in the future\n",
    "            cast_value = tuple(map(str, group_values))\n",
    "        else:\n",
    "            # TODO use mapper to get proper type\n",
    "            cast_value = str(group_values[0])\n",
    "\n",
    "        nx_node_properties[converted_preds[group_predicate]] = cast_value\n",
    "\n",
    "    # At this point, we have enough information to create the node with its respective properties in the LPG\n",
    "    nx_graph.add_node(node_iri, **nx_node_properties)"
   ]
  },
  {
   "cell_type": "code",
   "execution_count": null,
   "metadata": {},
   "outputs": [],
   "source": [
    "assert len(node_iris) == len(nx_graph)\n",
    "print(\"Example node data:\")\n",
    "nx_graph.nodes[list(nx_graph.nodes)[0]]"
   ]
  },
  {
   "cell_type": "markdown",
   "metadata": {},
   "source": [
    "#### Process Edge Queries\n",
    "> This will be part of the framework"
   ]
  },
  {
   "cell_type": "code",
   "execution_count": null,
   "metadata": {},
   "outputs": [],
   "source": [
    "# Cheap way to map `ns` to custom IRI in relationship queries\n",
    "initNs[\"ns\"] = \"https://swapi.co/customEdge/\"\n",
    "\n",
    "# Have to overwrite initNs for RelationTypes query\n",
    "RelationTypes.initNs = initNs\n",
    "\n",
    "# TODO restrict to predicates we care about\n",
    "# TODO we need a more extensible way to handle multiple query types (e.g. 1..N # of RelationTypes)\n",
    "basic_relations = RelationTypes.run_query(rdf_graph)\n",
    "#basic_relations = pandas.concat([RelationTypes1.run_query(lw.graph), RelationTypes2.run_query(lw.graph)], ignore_index=True)\n",
    "for iri, predicate, source, target in basic_relations.values:\n",
    "    if predicate not in converted_preds:\n",
    "        converted_preds[predicate] = URItoShortID(predicate, namespaces=initNs)\n",
    "\n",
    "    if source in nx_graph.nodes and target in nx_graph.nodes:\n",
    "        nx_graph.add_edge(\n",
    "            source, target, iri=iri, _label=converted_preds[predicate]\n",
    "        )  # TODO predicate?\n",
    "\n",
    "# Get properties for reified relations\n",
    "reified_relations = ReifiedRelations.run_query(rdf_graph)\n",
    "for edge_iri, predicate, source, target in reified_relations.values:\n",
    "    properties = RelationProperties.run_query(rdf_graph, iri=edge_iri)\n",
    "    edge_properties = {\"iri\": edge_iri}  # TODO predicate?\n",
    "    for predicate, value in properties[[\"predicate\", \"value\"]].values:\n",
    "        # TODO should converted_preds be passed from nodes to edges or rebuilt?\n",
    "        # TODO replace duplicate code with function\n",
    "        if predicate not in converted_preds:\n",
    "            converted_preds[predicate] = URItoShortID(predicate, namespaces=initNs)\n",
    "\n",
    "        # TODO use mapper to get proper type\n",
    "        cast_value = str(value)\n",
    "        edge_properties[converted_preds[predicate]] = cast_value\n",
    "\n",
    "    # only add edge if both source and target are nodes in LPG\n",
    "    if source in nx_graph.nodes and target in nx_graph.nodes:\n",
    "        nx_graph.add_edge(source, target, **edge_properties)"
   ]
  },
  {
   "cell_type": "code",
   "execution_count": null,
   "metadata": {},
   "outputs": [],
   "source": [
    "print(\"Number of edges added:\", len(nx_graph.edges))\n",
    "print(\"Example edge data:\")\n",
    "nx_graph.edges[list(nx_graph.edges)[0]]"
   ]
  },
  {
   "cell_type": "markdown",
   "metadata": {},
   "source": [
    "## Example Graph Visualization with Cytoscape\n",
    "Very basic for now. Just to illustrate the LPG. \n",
    "> Note: Cytoscape appears to cast tuples to list for the visualization."
   ]
  },
  {
   "cell_type": "code",
   "execution_count": null,
   "metadata": {},
   "outputs": [],
   "source": [
    "import json\n",
    "import ipycytoscape\n",
    "import ipywidgets as W"
   ]
  },
  {
   "cell_type": "code",
   "execution_count": null,
   "metadata": {},
   "outputs": [],
   "source": [
    "# Here we will build a cytoscape representation of the RDF graph to show the reduces complexity\n",
    "from rdflib.extras.external_graph_libs import rdflib_to_networkx_multidigraph\n",
    "\n",
    "cyto_from_rdf = ipycytoscape.CytoscapeWidget()\n",
    "cyto_from_rdf.graph.add_graph_from_networkx(\n",
    "    rdflib_to_networkx_multidigraph(rdf_graph),\n",
    "    multiple_edges=True, \n",
    "    directed=True,\n",
    ")\n",
    "for node in cyto_from_rdf.graph.nodes:\n",
    "    # deal with inability to handle colons\n",
    "    node.data[\"_label\"] = str(node.data.get(\"id\", None))\n",
    "    \n",
    "cyto_from_rdf.set_layout(animate=False)\n",
    "cyto_from_rdf.set_style(\n",
    "    [\n",
    "        {\n",
    "            \"selector\": \"node\",\n",
    "            \"css\": {\n",
    "                \"label\": \"data(_label)\",\n",
    "                \"text-wrap\": \"wrap\",\n",
    "                \"text-max-width\": \"150px\",\n",
    "                \"text-valign\": \"center\",\n",
    "                \"text-halign\": \"center\",\n",
    "                \"font-size\": \"10\",\n",
    "                \"font-family\": '\"Gill Sans\", sans-serif',\n",
    "                \"color\": \"blue\"\n",
    "            },\n",
    "        },\n",
    "        {\n",
    "            'selector': 'edge.directed',\n",
    "            'style': {\n",
    "                'curve-style': 'bezier',\n",
    "                'target-arrow-shape': 'triangle',\n",
    "            }\n",
    "        },\n",
    "        {\n",
    "            'selector': 'edge.multiple_edges', \n",
    "            'style': {'curve-style': 'bezier'}\n",
    "        },\n",
    "    ]\n",
    ")"
   ]
  },
  {
   "cell_type": "code",
   "execution_count": null,
   "metadata": {},
   "outputs": [],
   "source": [
    "directed = ipycytoscape.CytoscapeWidget()\n",
    "directed.graph.add_graph_from_networkx(nx_graph, multiple_edges=True, directed=True)"
   ]
  },
  {
   "cell_type": "code",
   "execution_count": null,
   "metadata": {},
   "outputs": [],
   "source": [
    "for node in directed.graph.nodes:\n",
    "    # deal with inability to handle colons\n",
    "    node.data[\"_label\"] = node.data.get(\"rdfs:label\", None)\n",
    "    node.data[\"_attrs\"] = json.dumps(node.data, indent=2)  # TODO remove iri, private attrs, etc.?"
   ]
  },
  {
   "cell_type": "code",
   "execution_count": null,
   "metadata": {},
   "outputs": [],
   "source": [
    "# TODO set layout and CSS within ipyradiant library\n",
    "directed.set_layout(name=\"dagre\", animate=False, randomize=False, maxSimulationTime=2000)\n",
    "# Workaround for style overwriting\n",
    "directed.set_style(\n",
    "    [\n",
    "        {\n",
    "            \"selector\": \"node\",\n",
    "            \"css\": {\n",
    "                \"label\": \"data(_label)\",\n",
    "                \"text-wrap\": \"wrap\",\n",
    "                \"text-max-width\": \"150px\",\n",
    "                \"text-valign\": \"center\",\n",
    "                \"text-halign\": \"center\",\n",
    "                \"font-size\": \"10\",\n",
    "                \"font-family\": '\"Gill Sans\", sans-serif',\n",
    "                \"color\": \"blue\"\n",
    "            },\n",
    "        },\n",
    "        {\n",
    "            \"selector\": \"edge\",\n",
    "            \"css\": {\n",
    "                \"label\": \"data(_label)\",\n",
    "                \"text-wrap\": \"wrap\",\n",
    "                \"text-max-width\": \"150px\",\n",
    "                \"text-valign\": \"center\",\n",
    "                \"text-halign\": \"center\",\n",
    "                \"font-size\": \"10\",\n",
    "                \"font-family\": '\"Gill Sans\", sans-serif',\n",
    "                \"color\": \"green\"\n",
    "            },\n",
    "        },\n",
    "        {\n",
    "            'selector': 'edge.directed',\n",
    "            'style': {\n",
    "                'curve-style': 'bezier',\n",
    "                'target-arrow-shape': 'triangle',\n",
    "            }\n",
    "        },\n",
    "        {\n",
    "            'selector': 'edge.multiple_edges', \n",
    "            'style': {'curve-style': 'bezier'}\n",
    "        },\n",
    "        {\n",
    "            \"selector\": \":active \",\n",
    "            \"css\": {\n",
    "                \"label\": \"data(_attrs)\",\n",
    "                \"text-wrap\": \"wrap\",\n",
    "                \"text-max-width\": \"500px\",\n",
    "                \"text-valign\": \"bottom\",\n",
    "                \"text-halign\": \"right\",\n",
    "                'text-background-opacity': 0.9,\n",
    "                'text-background-color': 'white',\n",
    "                'text-background-shape': 'roundrectangle',\n",
    "                \"color\": \"black\",\n",
    "            }\n",
    "        }\n",
    "    ]\n",
    ")"
   ]
  },
  {
   "cell_type": "code",
   "execution_count": null,
   "metadata": {},
   "outputs": [],
   "source": [
    "W.HBox([cyto_from_rdf, directed])"
   ]
  },
  {
   "cell_type": "markdown",
   "metadata": {},
   "source": [
    "## Example Process (Custom)"
   ]
  },
  {
   "cell_type": "markdown",
   "metadata": {},
   "source": [
    "### Nodes\n",
    "We can overwwrite the `cls.sparql` attribute of each query class in order to change the behavior of the `rdf2lpg` process. \n",
    "\n",
    "> Note: Make sure to overwrite the `cls.initNs` if custom namespaces are used. "
   ]
  },
  {
   "cell_type": "markdown",
   "metadata": {},
   "source": [
    "### Edges\n",
    "Similar to [Nodes](#Nodes), we can overwwrite the `cls.sparql` attribute of each query class in order to change the behavior of the `rdf2lpg` process. \n",
    "\n",
    "> Note: Make sure to overwrite the `cls.initNs` if custom namespaces are used. "
   ]
  }
 ],
 "metadata": {
  "kernelspec": {
   "display_name": "Python 3",
   "language": "python",
   "name": "python3"
  },
  "language_info": {
   "codemirror_mode": {
    "name": "ipython",
    "version": 3
   },
   "file_extension": ".py",
   "mimetype": "text/x-python",
   "name": "python",
   "nbconvert_exporter": "python",
   "pygments_lexer": "ipython3",
   "version": "3.7.8"
  }
 },
 "nbformat": 4,
 "nbformat_minor": 4
}
