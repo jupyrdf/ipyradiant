{
 "cells": [
  {
   "cell_type": "markdown",
   "metadata": {},
   "source": [
    "# Remote Query Examples"
   ]
  },
  {
   "cell_type": "markdown",
   "metadata": {},
   "source": [
    "This notebook demonstrates remote querying capabilities using `SPARQLWrapper`"
   ]
  },
  {
   "cell_type": "markdown",
   "metadata": {},
   "source": [
    "SPARQLWrapper is a Python wrapper around a SPARQL service that gives the capability to\n",
    "remotely execute queries on SPARQL endpoints. It simply invokes a SPARQLWrapper class\n",
    "that requires an endpoint which you can pass a query to. The following are a few\n",
    "examples that demonstate the capabilities:"
   ]
  },
  {
   "cell_type": "code",
   "execution_count": null,
   "metadata": {},
   "outputs": [],
   "source": [
    "import traitlets as T\n",
    "\n",
    "import ipywidgets as W\n",
    "import pandas as pd\n",
    "from rdflib import BNode, Graph, Literal, URIRef, namespace\n",
    "from SPARQLWrapper import JSON, XML, SPARQLWrapper\n",
    "\n",
    "from ipyradiant import (\n",
    "    CytoscapeVisualizer,\n",
    "    FileManager,\n",
    "    PathLoader,\n",
    "    QueryWidget,\n",
    "    service_patch_rdflib,\n",
    ")"
   ]
  },
  {
   "cell_type": "markdown",
   "metadata": {},
   "source": [
    "### Query a single remote endpoint using `SPARQLWrapper`"
   ]
  },
  {
   "cell_type": "markdown",
   "metadata": {},
   "source": [
    "This example creates a sparql class from the graph location: http://dbpedia.org/sparql.\n",
    "In the setQuery method, you can pass a string that describes the query you want. Here,\n",
    "we perform a SELECT query that returns the labels for the resource Asturias from\n",
    "dbpedia:"
   ]
  },
  {
   "cell_type": "code",
   "execution_count": null,
   "metadata": {},
   "outputs": [],
   "source": [
    "sparql = SPARQLWrapper(\"http://dbpedia.org/sparql\")\n",
    "sparql.setQuery(\n",
    "    \"\"\"\n",
    "    PREFIX rdfs: <http://www.w3.org/2000/01/rdf-schema#>\n",
    "    SELECT ?label\n",
    "    WHERE { <http://dbpedia.org/resource/Asturias> rdfs:label ?label }\n",
    "\"\"\"\n",
    ")\n",
    "\n",
    "sparql.setReturnFormat(JSON)\n",
    "results = sparql.query().convert()\n",
    "\n",
    "results_df = pd.json_normalize(results[\"results\"][\"bindings\"])\n",
    "results_df[[\"label.value\"]]"
   ]
  },
  {
   "cell_type": "markdown",
   "metadata": {},
   "source": [
    "> Note: `SPARQLWrapper.setQuery` supports various query methods such as SELECT, ASK,\n",
    "> CONSTRUCT, and DESCRIBE"
   ]
  },
  {
   "cell_type": "markdown",
   "metadata": {},
   "source": [
    "### SERVICE patch for rdflib"
   ]
  },
  {
   "cell_type": "markdown",
   "metadata": {},
   "source": [
    "Before we look at remote query examples with `SERVICE` calls, let's discuss an issue\n",
    "with rdflib:"
   ]
  },
  {
   "cell_type": "markdown",
   "metadata": {},
   "source": [
    "Currently, rdflib contains a bug where the SERVICE clause is not supported properly.\n",
    "ipyradiant detects when SERVICE is used for federated queries and converts the keyword\n",
    "into lower case for rdflib support. A warning is issued when SERVICE is detected. This\n",
    "patch is turned off for release>5.0.0"
   ]
  },
  {
   "cell_type": "markdown",
   "metadata": {},
   "source": [
    "Here is a working example of the query string conversion to a scheme that is supported\n",
    "by rdflib:"
   ]
  },
  {
   "cell_type": "code",
   "execution_count": null,
   "metadata": {},
   "outputs": [],
   "source": [
    "query_str = \"\"\"\n",
    "    SELECT DISTINCT ?s ?p ?o\n",
    "    WHERE\n",
    "      { \n",
    "        SERVICE <http://dbpedia.org/sparql> \n",
    "          {\n",
    "            SELECT ?s ?p ?o\n",
    "            WHERE {?s ?p ?o}               \n",
    "          }\n",
    "      }\n",
    "\"\"\"\n",
    "\n",
    "query_str = service_patch_rdflib(query_str)\n",
    "print(query_str)"
   ]
  },
  {
   "cell_type": "markdown",
   "metadata": {},
   "source": [
    "### Query Widget Example"
   ]
  },
  {
   "cell_type": "markdown",
   "metadata": {},
   "source": [
    "Here we show a working example of Remote Querying using the Query Widget available under\n",
    "ipyradiant. First we define a WidgetExample class and fill in the query form with query\n",
    "that contains a SERVICE call:"
   ]
  },
  {
   "cell_type": "code",
   "execution_count": null,
   "metadata": {},
   "outputs": [],
   "source": [
    "class WidgetExample(W.Tab):\n",
    "    query = T.Instance(QueryWidget)\n",
    "    log = W.Output()\n",
    "\n",
    "    def __init__(self, graph: Graph = None, *args, **kwargs):\n",
    "        super().__init__(*args, **kwargs)\n",
    "        self.children = [self.query]\n",
    "\n",
    "    @T.default(\"query\")\n",
    "    def make_default_query_widget(self):\n",
    "        return QueryWidget()"
   ]
  },
  {
   "cell_type": "markdown",
   "metadata": {},
   "source": [
    "The following code snippet creates a Widget UI where you can see the query being passed\n",
    "in. Take a look at the UI panel on the right where you can see the query using the\n",
    "SPARQL endpoint from linkeddata. If you click on `Run Query`, you can immediate see the\n",
    "query string being modified to the correct form:"
   ]
  },
  {
   "cell_type": "code",
   "execution_count": null,
   "metadata": {},
   "outputs": [],
   "source": [
    "widget = WidgetExample()\n",
    "widget.query.query_constructor.query_type = \"SELECT DISTINCT\"\n",
    "widget.query.query_constructor.query_line = \"*\"\n",
    "widget.query.query_constructor.query_body = \"\"\"\n",
    "     SERVICE <http://dbpedia.org/sparql>\n",
    "        {\n",
    "            SELECT ?s ?p ?o\n",
    "            WHERE {?s ?p ?o}\n",
    "            LIMIT 10\n",
    "        }\n",
    "    }\n",
    "\"\"\"\n",
    "widget.query.query_constructor.formatted_query.value = \"\"\"\n",
    "SELECT DISTINCT *\n",
    "WHERE { \n",
    "        SERVICE <http://dbpedia.org/sparql>\n",
    "          {\n",
    "            SELECT ?s ?p ?o\n",
    "            WHERE {?s ?p ?o}\n",
    "            LIMIT 10\n",
    "          }\n",
    "      }\n",
    "\"\"\"\n",
    "widget.query"
   ]
  },
  {
   "cell_type": "code",
   "execution_count": null,
   "metadata": {},
   "outputs": [],
   "source": [
    "# \"click\" the button\n",
    "widget.query.run_button.click()"
   ]
  },
  {
   "cell_type": "markdown",
   "metadata": {},
   "source": [
    "### Nested Query Example"
   ]
  },
  {
   "cell_type": "markdown",
   "metadata": {},
   "source": [
    "A known issue with rdflib is that it does not support nested service calls in its query\n",
    "body. An example of this can be seen in the\n",
    "<a href=\"examples/FederatedQuery_Example.ipynb\">Federated Query Examples</a> notebook.\n",
    "We can utilize SPARQLWrapper to perform the same task. The following is a working\n",
    "example of utlizing two separate SERVICE calls and combining the results:"
   ]
  },
  {
   "cell_type": "code",
   "execution_count": null,
   "metadata": {},
   "outputs": [],
   "source": [
    "sparql = SPARQLWrapper(\"https://query.wikidata.org/sparql\")\n",
    "sparql.setQuery(\n",
    "    \"\"\"\n",
    "PREFIX wd: <http://www.wikidata.org/entity/>\n",
    "PREFIX wdt: <http://www.wikidata.org/prop/direct/>\n",
    "PREFIX wikibase: <http://wikiba.se/ontology#>\n",
    "PREFIX bd: <http://www.bigdata.com/rdf#>\n",
    "\n",
    "SELECT ?p ?item\n",
    "WHERE {\n",
    "    \n",
    "    SELECT ?p ?item\n",
    "    WHERE \n",
    "    {\n",
    "      BIND(wikibase:label as ?p)\n",
    "      wd:Q28792126 wdt:P31 wd:Q146 .\n",
    "      \n",
    "      service <https://query.wikidata.org/sparql>\n",
    "      { \n",
    "        SELECT ?item\n",
    "        WHERE {\n",
    "            ?item wdt:P31 wd:Q146 .\n",
    "        }\n",
    "        LIMIT 5\n",
    "      }\n",
    "    } \n",
    "    \n",
    "    \n",
    "}\n",
    "\"\"\"\n",
    ")\n",
    "sparql.setReturnFormat(JSON)\n",
    "results = sparql.query().convert()\n",
    "results[\"results\"][\"bindings\"]\n",
    "\n",
    "results_df = pd.json_normalize(results[\"results\"][\"bindings\"])\n",
    "results_df"
   ]
  },
  {
   "cell_type": "markdown",
   "metadata": {},
   "source": [
    "### Example using Wikidata and in-built service call"
   ]
  },
  {
   "cell_type": "markdown",
   "metadata": {},
   "source": [
    "In this example, we use SPARQLWrapper to query Wikidata via the Wikidata Query Service\n",
    "and organize the output response using pandas:"
   ]
  },
  {
   "cell_type": "code",
   "execution_count": null,
   "metadata": {},
   "outputs": [],
   "source": [
    "sparql = SPARQLWrapper(\"https://query.wikidata.org/sparql\")\n",
    "sparql.setQuery(\n",
    "    \"\"\"\n",
    "SELECT ?item ?itemLabel\n",
    "WHERE\n",
    "{\n",
    "    ?item wdt:P31 wd:Q146 .\n",
    "    service wikibase:label { bd:serviceParam wikibase:language \"en\" }\n",
    "}\n",
    "\"\"\"\n",
    ")\n",
    "sparql.setReturnFormat(JSON)\n",
    "results = sparql.query().convert()"
   ]
  },
  {
   "cell_type": "code",
   "execution_count": null,
   "metadata": {},
   "outputs": [],
   "source": [
    "results_df = pd.json_normalize(results[\"results\"][\"bindings\"])\n",
    "results_df[[\"item.value\"]].head()"
   ]
  },
  {
   "cell_type": "markdown",
   "metadata": {},
   "source": [
    "For more examples and usage of SPARQLWrapper, please visit the Github repo found here:\n",
    "https://github.com/RDFLib/sparqlwrapper"
   ]
  }
 ],
 "metadata": {
  "kernelspec": {
   "display_name": "Python 3",
   "language": "python",
   "name": "python3"
  },
  "language_info": {
   "codemirror_mode": {
    "name": "ipython",
    "version": 3
   },
   "file_extension": ".py",
   "mimetype": "text/x-python",
   "name": "python",
   "nbconvert_exporter": "python",
   "pygments_lexer": "ipython3",
   "version": "3.7.8"
  }
 },
 "nbformat": 4,
 "nbformat_minor": 4
}
