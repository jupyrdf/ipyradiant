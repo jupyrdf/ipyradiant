{
 "cells": [
  {
   "cell_type": "markdown",
   "metadata": {},
   "source": [
    "# RDF to Networkx Custom Queries\n",
    "\n",
    "The `RDF2NX` transformation class that is included in `ipyradiant` contains default\n",
    "queries for defining generic transformation behavior\n",
    "([check out the example here](RDF_to_NX.ipynb)). However, there are many cases where\n",
    "custom transformation behavior may be needed. This example demonstrates just a few ways\n",
    "that the power of the transformation class can be harnessed for custom behavior."
   ]
  },
  {
   "cell_type": "markdown",
   "metadata": {},
   "source": [
    "### Load an RDF graph\n",
    "\n",
    "In this example, we will use the `ipyradiant` `FileManager`."
   ]
  },
  {
   "cell_type": "code",
   "execution_count": null,
   "metadata": {},
   "outputs": [],
   "source": [
    "from ipyradiant import FileManager, PathLoader\n",
    "\n",
    "lw = FileManager(loader=PathLoader(path=\"data\"))\n",
    "# here we hard set what we want the file to be, but ideally a user can choose a file to work with.\n",
    "lw.loader.file_picker.value = lw.loader.file_picker.options[\"starwars.ttl\"]\n",
    "lw"
   ]
  },
  {
   "cell_type": "markdown",
   "metadata": {},
   "source": [
    "## Example Process (Custom)\n",
    "\n",
    "This custom transformation process has two major parts. Given an RDF graph containing\n",
    "data on startwars characters, ships, planets, etc., we want to:\n",
    "\n",
    "1. Generate an LPG with only a few select subject nodes\n",
    "2. Create a shorthand node property based on a one-step removed path\n",
    "\n",
    "The requirements above are only a few of the (near infinite) ways that the\n",
    "transformation behavior can be customized. While the current version of `ipyradiant`\n",
    "requires users to understand SPARQL in order to define custom behavior, future versions\n",
    "may include utility tools to support custom transformation without extensive RDF/SPARQL\n",
    "experience."
   ]
  },
  {
   "cell_type": "markdown",
   "metadata": {},
   "source": [
    "### 1. Return only select nodes during the transformation\n",
    "\n",
    "The `RDF2NX` class defines an attribute for each query class, which capture specific\n",
    "aspects of the transformation behavior. The nodes that are converted during the process\n",
    "are defined in the `RDF2NX.node_iris` attribute. The default class\n",
    "`ipyradiant.rdf2nx.nodes.NodeIRIs` returns all IRIs for subjects in the RDF graph.\n",
    "\n",
    "The following custom query class (sublass of `SPARQLQueryFramer`) is designed to return\n",
    "only a IRIs that represent one of three types from the RDF graph:\n",
    "\n",
    "- Humans\n",
    "- Starships\n",
    "- Gungans\n",
    "\n",
    "We will define a static `VALUES` statement in the SPARQL query to capture this\n",
    "requirement."
   ]
  },
  {
   "cell_type": "code",
   "execution_count": null,
   "metadata": {},
   "outputs": [],
   "source": [
    "from ipyradiant.query.framer import SPARQLQueryFramer\n",
    "\n",
    "\n",
    "class HumanAndStarshipIRIs(SPARQLQueryFramer):\n",
    "    sparql = \"\"\"\n",
    "    PREFIX voc: <https://swapi.co/vocabulary/>\n",
    "\n",
    "    SELECT DISTINCT ?iri\n",
    "    WHERE {\n",
    "      ?iri a ?type .\n",
    "      \n",
    "      VALUES (?type) {\n",
    "          (voc:Human)\n",
    "          (voc:Starship)\n",
    "          (voc:Gungan)\n",
    "      }\n",
    "    }\n",
    "    \"\"\""
   ]
  },
  {
   "cell_type": "code",
   "execution_count": null,
   "metadata": {},
   "outputs": [],
   "source": [
    "# Simple execution to verify query is working\n",
    "HumanAndStarshipIRIs.run_query(lw.graph).head(3)"
   ]
  },
  {
   "cell_type": "markdown",
   "metadata": {},
   "source": [
    "### 2. Return data from neighboring node as custom node attribute\n",
    "\n",
    "The `RDF2NX` class defines an attribute for each query class, which capture specific\n",
    "aspects of the transformation behavior. The query for determining data properties stored\n",
    "on nodes within the LPG is defined by the `RDF2NX.node_properties` attribute. The\n",
    "default class `ipyradiant.rdf2nx.nodes.NodeProperties` returns all values for all\n",
    "predicates attached to the source node in the RDF graph (this includes literal and IRI\n",
    "values).\n",
    "\n",
    "There are many situations where data that is relevant to some node is stored on a\n",
    "separate node object several edges away from the source. When visualizing a graph, it\n",
    "may be valuable to bring that data forward and present it on the node of interest.\n",
    "\n",
    "The following custom query class (sublass of `SPARQLQueryFramer`) is designed to create\n",
    "a new attribute. For nodes that are connected to a Starship (via `voc:starship`), the\n",
    "custom query class will create a new attribute (`ex:starshipName`) that returns the name\n",
    "of the connected Starship as a data attribute on the node iteself (e.g. the pilot of a\n",
    "Starship will now have data for the Starship names rather than only a connection to\n",
    "their Starships). See the image below for a visual example:\n",
    "\n",
    "<img src=\"assets/RDF2NX_1.png\"></img>\n",
    "\n",
    "> Note: We don't want to replace the original `NodeProperties` query. Rather, we want to\n",
    "> add to the results of the query. Therefore, we need to specify both as valid queries\n",
    "> for the converter class. Notice how the `RDF2NX.node_properties` attribute (specified\n",
    "> further down) is a list of queries, the results of which are aggregated together."
   ]
  },
  {
   "cell_type": "code",
   "execution_count": null,
   "metadata": {},
   "outputs": [],
   "source": [
    "class CustomNodeProperty(SPARQLQueryFramer):\n",
    "    # Note: construct queries are valid too (must specify columns)\n",
    "    sparql = \"\"\"\n",
    "    CONSTRUCT{\n",
    "      ?iri ?predicate ?value.\n",
    "    } WHERE {\n",
    "      ?iri voc:starship/rdfs:label ?value .\n",
    "           \n",
    "      BIND (ex:starshipName AS ?predicate)\n",
    "    }\n",
    "    \"\"\"\n",
    "    # Note: we can specify the namespaces on the query class too\n",
    "    initNs = {\"ex\": \"https://www.example.org/\", \"voc\": \"https://swapi.co/vocabulary/\"}\n",
    "    columns = [\"iri\", \"predicate\", \"value\"]"
   ]
  },
  {
   "cell_type": "markdown",
   "metadata": {},
   "source": [
    "#### Verify the custom query is working\n",
    "\n",
    "It is common to make mistakes that result in namespace/parse/etc. errors within SPARQL\n",
    "queries. Since many of these are silent errors within larger processes (e.g. `RDF2NX`),\n",
    "we should verify that our query will return valid results when passed one of the nodes\n",
    "of interest."
   ]
  },
  {
   "cell_type": "code",
   "execution_count": null,
   "metadata": {},
   "outputs": [],
   "source": [
    "from rdflib import URIRef\n",
    "\n",
    "CustomNodeProperty.run_query(lw.graph, iri=URIRef(\"https://swapi.co/resource/human/1\"))"
   ]
  },
  {
   "cell_type": "markdown",
   "metadata": {},
   "source": [
    "> Note: we can see that the query successfully returns the `voc:starship/rdfs:label` as\n",
    "> `ex:starshipName` (i.e. the predicate)"
   ]
  },
  {
   "cell_type": "markdown",
   "metadata": {},
   "source": [
    "### Execute the `RDF2NX` process"
   ]
  },
  {
   "cell_type": "code",
   "execution_count": null,
   "metadata": {},
   "outputs": [],
   "source": [
    "from ipyradiant.rdf2nx import RDF2NX\n",
    "\n",
    "# We must import the original query in order to add to the transformation class\n",
    "from ipyradiant.rdf2nx.nodes import NodeProperties\n",
    "\n",
    "# Namespaces defined for shortened URIs\n",
    "initNs = {\n",
    "    \"ex\": \"https://www.example.org/\",\n",
    "    \"rdf\": \"http://www.w3.org/1999/02/22-rdf-syntax-ns#\",\n",
    "    \"rdfs\": \"http://www.w3.org/2000/01/rdf-schema#\",\n",
    "    \"res\": \"https://swapi.co/resource/\",\n",
    "    \"voc\": \"https://swapi.co/vocabulary/\",\n",
    "    \"base\": \"https://swapi.co/resource/\",\n",
    "}\n",
    "\n",
    "# overwrite the default node_iris query\n",
    "RDF2NX.node_iris = HumanAndStarshipIRIs\n",
    "\n",
    "# overwrite the default node_properties query with two queries\n",
    "RDF2NX.node_properties = [NodeProperties, CustomNodeProperty]\n",
    "\n",
    "# run the converter\n",
    "nx_graph = RDF2NX.convert(lw.graph, namespaces=initNs)"
   ]
  },
  {
   "cell_type": "markdown",
   "metadata": {},
   "source": [
    "#### Post-process the networkx graph\n",
    "\n",
    "We don't want to visualize nodes without connections. We can solve this problem using\n",
    "built-in `networkx` capabilities (now that our graph in an LPG).\n",
    "\n",
    "> Note: in a future version of `ipyradiant`, this will be encapsulated in the behavior\n",
    "> of the `CytoscapeViewer` widget."
   ]
  },
  {
   "cell_type": "code",
   "execution_count": null,
   "metadata": {},
   "outputs": [],
   "source": [
    "import networkx as nx\n",
    "\n",
    "nx_graph.remove_nodes_from(list(nx.isolates(nx_graph)))"
   ]
  },
  {
   "cell_type": "markdown",
   "metadata": {},
   "source": [
    "## Example Graph Visualization with Cytoscape\n",
    "\n",
    "The purpose of creating these projections is often to generate a view that is easier for\n",
    "humans to interpret (or to leverage graph algorithms for LPGs). The following cells\n",
    "demonstrate how the `ipyradiant` visualization widget `InteractiveViewer` can be used to\n",
    "visualize and inspect an LPG graph.\n",
    "\n",
    "> Note: the option to remove disconnected nodes will be enabled on ticket\n",
    "> [#110](https://github.com/jupyrdf/ipyradiant/issues/110)"
   ]
  },
  {
   "cell_type": "code",
   "execution_count": null,
   "metadata": {},
   "outputs": [],
   "source": [
    "from ipyradiant.visualization import InteractiveViewer\n",
    "\n",
    "iv = InteractiveViewer()\n",
    "iv._rdf_converter = RDF2NX\n",
    "iv.rdf_graph = lw.graph\n",
    "iv"
   ]
  },
  {
   "cell_type": "markdown",
   "metadata": {},
   "source": [
    "> Note: all nodes are of at least one type specified by the custom `RDF2NX.node_iris`\n",
    "> query.\n",
    "\n",
    "> Note: any character node with startships has a data attribute `ex:starshipName` that\n",
    "> was created by the custom `RDF2NX.node_properties` query."
   ]
  }
 ],
 "metadata": {
  "kernelspec": {
   "display_name": "Python 3 (ipykernel)",
   "language": "python",
   "name": "python3"
  },
  "language_info": {
   "codemirror_mode": {
    "name": "ipython",
    "version": 3
   },
   "file_extension": ".py",
   "mimetype": "text/x-python",
   "name": "python",
   "nbconvert_exporter": "python",
   "pygments_lexer": "ipython3",
   "version": "3.9.9"
  }
 },
 "nbformat": 4,
 "nbformat_minor": 4
}
