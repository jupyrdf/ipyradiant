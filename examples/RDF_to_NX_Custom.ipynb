{
 "cells": [
  {
   "cell_type": "markdown",
   "metadata": {},
   "source": [
    "# RDF to Networkx Custom Queries\n",
    "\n",
    "The `RDF2NX` transformation class that is included in `ipyradiant` contains default queries for defining generic transformation behavior ([check out the example here](RDF_to_NX.ipynb)). However, there are many cases where custom transformation behavior may be needed. This example demonstrates just a few ways that the power of the transformation class can be harnessed for custom behavior. "
   ]
  },
  {
   "cell_type": "markdown",
   "metadata": {},
   "source": [
    "### Load an RDF graph\n",
    "\n",
    "In this example, we will use the `ipyradiant` `FileManager`."
   ]
  },
  {
   "cell_type": "code",
   "execution_count": null,
   "metadata": {},
   "outputs": [],
   "source": [
    "from ipyradiant import FileManager, PathLoader\n",
    "\n",
    "lw = FileManager(loader=PathLoader(path=\"data\"))\n",
    "# here we hard set what we want the file to be, but ideally a user can choose a file to work with.\n",
    "lw.loader.file_picker.value = lw.loader.file_picker.options[\"starwars.ttl\"]\n",
    "lw"
   ]
  },
  {
   "cell_type": "markdown",
   "metadata": {},
   "source": [
    "## Example Process (Custom)\n",
    "\n",
    "This custom transformation process has two major parts. Given an RDF graph containing data on startwars characters, ships, planets, etc., we want to:\n",
    "\n",
    "1. Generate an LPG with only a few select subject nodes\n",
    "2. Create a shorthand node property based on a one-step removed path\n",
    "\n",
    "The requirements above are only a few of the (near infinite) ways that the transformation behavior can be customized. While the current version of `ipyradiant` requires users to understand SPARQL in order to define custom behavior, future versions may include utility tools to support custom transformation without extensive RDF/SPARQL experience. "
   ]
  },
  {
   "cell_type": "markdown",
   "metadata": {},
   "source": [
    "### 1. Return only select nodes during the transformation\n",
    "\n",
    "The `RDF2NX` class defines an attribute for each query class, which capture specific aspects of the transformation behavior. The nodes that are converted during the process are defined in the `RDF2NX.node_iris` attribute. The default class `ipyradiant.rdf2nx.nodes.NodeIRIs` returns all IRIs for subjects in the RDF graph. \n",
    "\n",
    "The following custom query class (sublass of `SPARQLQueryFramer`) is designed to return only a few hand-selected IRIs from the RDF graph to create LPG/networkx nodes. In this case, the three subjects of interest are:\n",
    " * Luke Skywalker: <https://swapi.co/resource/human/1>\n",
    " * X-wing: <https://swapi.co/resource/starship/12>\n",
    " * Imperial shuttle: <https://swapi.co/resource/starship/22>"
   ]
  },
  {
   "cell_type": "code",
   "execution_count": null,
   "metadata": {},
   "outputs": [],
   "source": [
    "from ipyradiant.query.framer import SPARQLQueryFramer\n",
    "\n",
    "\n",
    "class SpecificNodeIRIs(SPARQLQueryFramer):\n",
    "    sparql = \"\"\"\n",
    "    PREFIX voc: <https://swapi.co/vocabulary/>\n",
    "\n",
    "    SELECT DISTINCT ?iri\n",
    "    WHERE {\n",
    "      ?iri a ?type .\n",
    "      \n",
    "      VALUES (?iri) {\n",
    "          (<https://swapi.co/resource/human/1>)\n",
    "          (<https://swapi.co/resource/starship/12>)\n",
    "          (<https://swapi.co/resource/starship/22>)\n",
    "      }\n",
    "    }\n",
    "    \"\"\""
   ]
  },
  {
   "cell_type": "markdown",
   "metadata": {},
   "source": [
    "> Note: For users familiar with SPARQL, this query is only returning a few specific IRIs. We can in fact replace the query with a dummy class that returns a DataFrame of IRIs when the class method `run_query` is invoked. Although typically, we need queries to define patterns within the RDF graph. "
   ]
  },
  {
   "cell_type": "markdown",
   "metadata": {},
   "source": [
    "### 2. Return data from neighboring node as custom node attribute\n",
    "\n",
    "The `RDF2NX` class defines an attribute for each query class, which capture specific aspects of the transformation behavior. The query for determining data properties stored on nodes within the LPG is defined by the `RDF2NX.node_properties` attribute. The default class `ipyradiant.rdf2nx.nodes.NodeProperties` returns all values for all predicates attached to the source node in the RDF graph (this includes literal and IRI values). \n",
    "\n",
    "There are many situations where data that is relevant to some node is stored on a separate node object several edges away from the source. When visualizing a graph, it may be valuable to bring that data forward and present it on the node of interest. \n",
    "\n",
    "The following custom query class (sublass of `SPARQLQueryFramer`) is designed to create a new attribute. For nodes that are connected to a Starship (via `voc:starship`), the custom query class will create a new attribute (`ex:starshipName`) that returns the name of the connected Starship as a data attribute on the node iteself (e.g. the pilot of a Starship will now have data for the Starship names rather than only a connection to their Starships). See the image below for a visual example:\n",
    "\n",
    "<img src=\"assets/RDF2NX_1.png\"></img>\n",
    "\n",
    "> Note: We don't want to replace the original `NodeProperties` query. Rather, we want to add to the results of the query. Therefore, we need to specify both as valid queries for the converter class. Notice how the `RDF2NX.node_properties` attribute (specified further down) is a list of queries, the results of which are aggregated together. "
   ]
  },
  {
   "cell_type": "code",
   "execution_count": null,
   "metadata": {},
   "outputs": [],
   "source": [
    "class CustomNodeProperty(SPARQLQueryFramer):\n",
    "    # Note: construct queries are valid too (must specify columns)\n",
    "    sparql = \"\"\"\n",
    "    CONSTRUCT{\n",
    "      ?iri ?predicate ?value.\n",
    "    } WHERE {\n",
    "      ?iri voc:starship/rdfs:label ?value .\n",
    "           \n",
    "      BIND (ex:starshipName AS ?predicate)\n",
    "    }\n",
    "    \"\"\"\n",
    "    # Note: we can specify the namespaces on the query class too\n",
    "    initNs={\n",
    "        \"ex\": \"https://www.example.org/\",\n",
    "        \"voc\": \"https://swapi.co/vocabulary/\"\n",
    "    }\n",
    "    columns= [\"iri\", \"predicate\", \"value\"]"
   ]
  },
  {
   "cell_type": "markdown",
   "metadata": {},
   "source": [
    "#### Verify the custom query is working\n",
    "\n",
    "It is common to make mistakes that result in namespace/parse/etc. errors within SPARQL queries. Since many of these are silent errors within larger processes (e.g. `RDF2NX`), we should verify that our query will return valid results when passed one of the nodes of interest."
   ]
  },
  {
   "cell_type": "code",
   "execution_count": null,
   "metadata": {},
   "outputs": [],
   "source": [
    "from rdflib import URIRef\n",
    "\n",
    "CustomNodeProperty.run_query(lw.graph, iri=URIRef(\"https://swapi.co/resource/human/10\"))"
   ]
  },
  {
   "cell_type": "markdown",
   "metadata": {},
   "source": [
    "> Note: we can see that the query successfully returns the `voc:starship/rdfs:label` as `ex:starshipName`\n",
    "\n",
    "> Note: this query does not restrict the nodes of interest (to the specific Starships); therefore, all of the starship names are returned."
   ]
  },
  {
   "cell_type": "markdown",
   "metadata": {},
   "source": [
    "### Execute the `RDF2NX` process"
   ]
  },
  {
   "cell_type": "code",
   "execution_count": null,
   "metadata": {},
   "outputs": [],
   "source": [
    "from ipyradiant.rdf2nx import RDF2NX\n",
    "# We must import the original query in order to add to the transformation class\n",
    "from ipyradiant.rdf2nx.nodes import NodeProperties\n",
    "\n",
    "# Namespaces defined for shortened URIs\n",
    "initNs = {\n",
    "    \"ex\": \"https://www.example.org/\",\n",
    "    \"rdf\": \"http://www.w3.org/1999/02/22-rdf-syntax-ns#\",\n",
    "    \"rdfs\": \"http://www.w3.org/2000/01/rdf-schema#\",\n",
    "    \"res\": \"https://swapi.co/resource/\",\n",
    "    \"voc\": \"https://swapi.co/vocabulary/\",\n",
    "    \"base\": \"https://swapi.co/resource/\",\n",
    "}\n",
    "\n",
    "# overwrite the default node_iris query\n",
    "RDF2NX.node_iris = SpecificNodeIRIs\n",
    "\n",
    "# overwrite the default node_properties query with two queries\n",
    "RDF2NX.node_properties = [NodeProperties, CustomNodeProperty]\n",
    "\n",
    "# run the converter\n",
    "nx_graph = RDF2NX.convert(lw.graph, namespaces=initNs)"
   ]
  },
  {
   "cell_type": "markdown",
   "metadata": {},
   "source": [
    "## Example Graph Visualization with Cytoscape\n",
    "\n",
    "The purpose of creating these projections is often to generate a view that is easier for humans to interpret (or to leverage graph algorithms for LPGs). The following cells demonstrate how the `ipyradiant` visualization widget `CytoscapeViewer` can be used together with a simple class for checking JSON data in order to visualize and inspect an LPG graph. "
   ]
  },
  {
   "cell_type": "code",
   "execution_count": null,
   "metadata": {},
   "outputs": [],
   "source": [
    "import ipywidgets as ipyw\n",
    "from IPython.display import JSON, display\n",
    "\n",
    "\n",
    "# a simple class for visualizing JSON output for cytoscape graphs\n",
    "class CombinedExample(ipyw.VBox):\n",
    "    def __init__(self, *args, **kwargs):\n",
    "        super().__init__(*args, **kwargs)\n",
    "        self.json_output = ipyw.Output()\n",
    "        self.graph_widget = kwargs[\"graph_widget\"]\n",
    "        self.children = [self.graph_widget, self.json_output]\n",
    "        self.graph_widget.cytoscape_widget.on(\"node\", \"click\", self.load_json)\n",
    "\n",
    "    def load_json(self, node):\n",
    "        data = node[\"data\"]\n",
    "        data.pop(\"_label\", None)\n",
    "        data.pop(\"_attrs\", None)\n",
    "        with self.json_output:\n",
    "            self.json_output.clear_output()\n",
    "            display(JSON(data))"
   ]
  },
  {
   "cell_type": "code",
   "execution_count": null,
   "metadata": {},
   "outputs": [],
   "source": [
    "from ipyradiant.visualization import CytoscapeViewer\n",
    "\n",
    "cv = CytoscapeViewer()\n",
    "# specify the label key for the nx graph (default=\"label\")\n",
    "cv._nx_label = \"rdfs:label\"\n",
    "cv.graph = nx_graph\n",
    "\n",
    "ce = CombinedExample(graph_widget=cv)\n",
    "ce"
   ]
  },
  {
   "cell_type": "markdown",
   "metadata": {},
   "source": [
    "> Note: the only nodes are the three specified by the custom `RDF2NX.node_iris` query. \n",
    "\n",
    "> Note: the `Luke Skywalker` node has a data attribute `ex:starshipName` that was created by the custom `RDF2NX.node_properties` query. "
   ]
  }
 ],
 "metadata": {
  "kernelspec": {
   "display_name": "Python 3",
   "language": "python",
   "name": "python3"
  },
  "language_info": {
   "codemirror_mode": {
    "name": "ipython",
    "version": 3
   },
   "file_extension": ".py",
   "mimetype": "text/x-python",
   "name": "python",
   "nbconvert_exporter": "python",
   "pygments_lexer": "ipython3",
   "version": "3.7.10"
  }
 },
 "nbformat": 4,
 "nbformat_minor": 4
}
