{
 "cells": [
  {
   "cell_type": "markdown",
   "metadata": {},
   "source": [
    "# WIP Stub Notebook\n",
    "\n",
    "This example has not been implemented yet. Track\n",
    "[this github issue](https://github.com/jupyrdf/ipyradiant/issues/67) for more\n",
    "information."
   ]
  },
  {
   "cell_type": "markdown",
   "metadata": {},
   "source": [
    "## Example Process (Custom)\n",
    "\n",
    "For custom process, show replacing the `voc:starship` with the `ex:startshipName` via\n",
    "`voc:starship/rdfs:label`."
   ]
  },
  {
   "cell_type": "markdown",
   "metadata": {},
   "source": [
    "### Nodes\n",
    "\n",
    "We can overwwrite the `cls.sparql` attribute of each query class in order to change the\n",
    "behavior of the `rdf2lpg` process.\n",
    "\n",
    "> Note: Make sure to overwrite the `cls.initNs` if custom namespaces are used."
   ]
  },
  {
   "cell_type": "markdown",
   "metadata": {},
   "source": [
    "### Edges\n",
    "\n",
    "Similar to [Nodes](#Nodes), we can overwwrite the `cls.sparql` attribute of each query\n",
    "class in order to change the behavior of the `rdf2lpg` process.\n",
    "\n",
    "> Note: Make sure to overwrite the `cls.initNs` if custom namespaces are used."
   ]
  }
 ],
 "metadata": {
  "kernelspec": {
   "display_name": "Python 3",
   "language": "python",
   "name": "python3"
  },
  "language_info": {
   "codemirror_mode": {
    "name": "ipython",
    "version": 3
   },
   "file_extension": ".py",
   "mimetype": "text/x-python",
   "name": "python",
   "nbconvert_exporter": "python",
   "pygments_lexer": "ipython3",
   "version": "3.7.8"
  }
 },
 "nbformat": 4,
 "nbformat_minor": 4
}
