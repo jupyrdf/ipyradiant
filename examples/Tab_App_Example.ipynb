{
 "cells": [
  {
   "cell_type": "markdown",
   "metadata": {},
   "source": [
    "# Building Graph-based Applications\n",
    "\n",
    "This notebook shows a way to use `ipyradiant` widgets to build a simple tab-based\n",
    "application."
   ]
  },
  {
   "cell_type": "code",
   "execution_count": null,
   "metadata": {},
   "outputs": [],
   "source": [
    "import ipywidgets as W\n",
    "import traitlets as T\n",
    "from rdflib import BNode, Graph\n",
    "\n",
    "from ipyradiant import CytoscapeVisualizer, FileManager, PathLoader, QueryWidget"
   ]
  },
  {
   "cell_type": "markdown",
   "metadata": {},
   "source": [
    "## The App Class"
   ]
  },
  {
   "cell_type": "markdown",
   "metadata": {},
   "source": [
    "This class-based widget captures both the overall layout, as well its individual\n",
    "components. Values are\n",
    "[linked](https://ipywidgets.readthedocs.io/en/latest/examples/Widget%20Events.html#Linking-Widgets)\n",
    "to create new behaviors."
   ]
  },
  {
   "cell_type": "code",
   "execution_count": null,
   "metadata": {},
   "outputs": [],
   "source": [
    "class RadiantTabs(W.Tab):\n",
    "    graph = T.Instance(Graph, allow_none=True)\n",
    "    file_manager = T.Instance(FileManager)\n",
    "    query = T.Instance(QueryWidget)\n",
    "    log = W.Output()\n",
    "\n",
    "    def __init__(self, graph: Graph = None, *args, **kwargs):\n",
    "        if graph is not None:\n",
    "            kwargs[\"graph\"] = graph\n",
    "        if \"layout\" not in kwargs:\n",
    "            kwargs[\"layout\"] = {\n",
    "                \"min_height\": \"400px\",\n",
    "                \"flex\": \"1\",\n",
    "            }\n",
    "        super().__init__(*args, **kwargs)\n",
    "        T.link((self.file_manager, \"graph\"), (self, \"graph\"))\n",
    "        T.link((self, \"graph\"), (self.query, \"graph\"))\n",
    "\n",
    "        self.children = [self.file_manager, self.query]\n",
    "        self.set_title(0, \"Load\")\n",
    "        self.set_title(1, \"Query\")\n",
    "\n",
    "    @T.default(\"graph\")\n",
    "    def make_default_graph(self):\n",
    "        return Graph()\n",
    "\n",
    "    @T.default(\"file_manager\")\n",
    "    def make_default_load_widget(self):\n",
    "        return FileManager(loader=PathLoader(path=\"data\"))\n",
    "\n",
    "    @T.default(\"query\")\n",
    "    def make_default_query_widget(self):\n",
    "        qw = QueryWidget()\n",
    "        # set default query\n",
    "        qw.query = \"\"\"SELECT DISTINCT ?s ?p ?o\\nWHERE {\\n    ?s ?p ?o .\\n}\\nLIMIT 10\"\"\"\n",
    "        return qw"
   ]
  },
  {
   "cell_type": "markdown",
   "metadata": {},
   "source": [
    "## Showing the App"
   ]
  },
  {
   "cell_type": "code",
   "execution_count": null,
   "metadata": {},
   "outputs": [],
   "source": [
    "tabs = RadiantTabs()\n",
    "tabs"
   ]
  }
 ],
 "metadata": {
  "kernelspec": {
   "display_name": "Python 3",
   "language": "python",
   "name": "python3"
  },
  "language_info": {
   "codemirror_mode": {
    "name": "ipython",
    "version": 3
   },
   "file_extension": ".py",
   "mimetype": "text/x-python",
   "name": "python",
   "nbconvert_exporter": "python",
   "pygments_lexer": "ipython3",
   "version": "3.7.10"
  }
 },
 "nbformat": 4,
 "nbformat_minor": 4
}
