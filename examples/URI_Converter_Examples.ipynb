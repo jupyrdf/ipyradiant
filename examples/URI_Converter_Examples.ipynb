{
 "cells": [
  {
   "cell_type": "markdown",
   "metadata": {},
   "source": [
    "#### URI Converters (configurable)\n",
    "[id_converter_link]: https://github.com/Rothamsted/rdf2neo/blob/master/rdf2neo/src/main/java/uk/ac/rothamsted/rdf/neo4j/idconvert/DefaultIri2IdConverter.java\n",
    "\n",
    "These converters allow us to simplify the representation of URIs in the netowrkx LPG. They can be configured to perform custom conversion within the larger `rdf2nx` process. \n",
    "\n",
    "[Adapted from this KnetMiner `rdf2neo` (RDF to neo4j) process.][id_converter_link]\n",
    "\n",
    "For more examples, see [this notebook.](URI_Converter_Examples.ipynb)"
   ]
  },
  {
   "cell_type": "code",
   "execution_count": null,
   "metadata": {},
   "outputs": [],
   "source": [
    "from rdflib.namespace import RDFS\n",
    "from ipyradiant.rdf2nx import URItoID, URItoShortID\n",
    "\n",
    "uri = RDFS.label\n",
    "ns = {\"rdfs\": str(RDFS)}\n",
    "print(f\"URItoID:\\n  -  {uri} -> {URItoID(uri)}\")\n",
    "print(\"URItoShortID w/ specified namespace:\")\n",
    "print(f\"  -  prefix: namespace = rdfs: {RDFS}\")\n",
    "print(f\"  -  {uri} -> {URItoShortID(uri, ns=ns)}\")"
   ]
  },
  {
   "cell_type": "code",
   "execution_count": null,
   "metadata": {},
   "outputs": [],
   "source": [
    "test_uri_1 = URIRef(\"https://www.example.com/Person\")\n",
    "test_uri_2 = URIRef(\"https://www.other_example.com/Person#Person1\")\n",
    "test_namespaces = {\n",
    "    \"ex\": URIRef(\"https://www.example.com/\")\n",
    "}  # could use dict(lw.graph.namespaces)\n",
    "\n",
    "print(\"Trailing '/':\", URItoID(test_uri_1))\n",
    "print(\"Trailing '#':\", URItoID(test_uri_2))\n",
    "print(\"No namespaces provided (URItoID):\", URItoShortID(test_uri_1))\n",
    "print(\n",
    "    \"Namespaces provided and valid for URI:\",\n",
    "    URItoShortID(test_uri_1, ns=test_namespaces),\n",
    ")\n",
    "print(\n",
    "    \"Namespaces provided but none for URI:\",\n",
    "    URItoShortID(test_uri_2, ns=test_namespaces),\n",
    ")"
   ]
  }
 ],
 "metadata": {
  "kernelspec": {
   "display_name": "Python 3",
   "language": "python",
   "name": "python3"
  },
  "language_info": {
   "codemirror_mode": {
    "name": "ipython",
    "version": 3
   },
   "file_extension": ".py",
   "mimetype": "text/x-python",
   "name": "python",
   "nbconvert_exporter": "python",
   "pygments_lexer": "ipython3",
   "version": "3.7.8"
  }
 },
 "nbformat": 4,
 "nbformat_minor": 4
}
