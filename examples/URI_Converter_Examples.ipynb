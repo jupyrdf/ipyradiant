{
 "cells": [
  {
   "cell_type": "markdown",
   "metadata": {},
   "source": [
    "#### URI Converters (configurable)\n",
    "\n",
    "[id_converter_link]:\n",
    "  https://github.com/Rothamsted/rdf2neo/blob/master/rdf2neo/src/main/java/uk/ac/rothamsted/rdf/neo4j/idconvert/DefaultIri2IdConverter.java\n",
    "\n",
    "These converters allow us to simplify the representation of URIs. They can be configured\n",
    "to perform custom conversion within the larger process (e.g. [rdf2nx](RDF_to_NX.ipynb)).\n",
    "\n",
    "[Adapted from this KnetMiner converter.][id_converter_link]"
   ]
  },
  {
   "cell_type": "markdown",
   "metadata": {},
   "source": [
    "URIs are a powerful way to specify unambiguous resources, but they are often not the\n",
    "most human-readable syntax. The following is an example of the URI for the common RDF\n",
    "Schema namespace (`rdfs`)."
   ]
  },
  {
   "cell_type": "code",
   "execution_count": null,
   "metadata": {},
   "outputs": [],
   "source": [
    "from rdflib.namespace import RDFS\n",
    "\n",
    "print(\"The rdfs namespace:\", RDFS)"
   ]
  },
  {
   "cell_type": "markdown",
   "metadata": {},
   "source": [
    "Namespaces are used to specify URIs, which are extended from the namespace. These make\n",
    "URIs even longer. The following is an example of the very common `label` attribute,\n",
    "represented using its full URI."
   ]
  },
  {
   "cell_type": "code",
   "execution_count": null,
   "metadata": {},
   "outputs": [],
   "source": [
    "print(\"The rdf label URI:\", RDFS.label)"
   ]
  },
  {
   "cell_type": "markdown",
   "metadata": {},
   "source": [
    "These URIs become difficult to interpret when the URIs are more complex, or humans\n",
    "attempt to analyze large numbers of URIs. One common way of simplifying their\n",
    "representation is to use a namespace prefix to denote the large part of the URI that\n",
    "represents the namespace.\n",
    "\n",
    "For the rdfs label URI, this looks like: `rdfs:label`   \n",
    "where `rdfs` is short for `http://www.w3.org/2000/01/rdf-schema#` from above."
   ]
  },
  {
   "cell_type": "markdown",
   "metadata": {},
   "source": [
    "The `ipyradiant` library specifies several basic URI converters. These can be used\n",
    "standalone, or as part of larger `ipyradiant` processes."
   ]
  },
  {
   "cell_type": "markdown",
   "metadata": {},
   "source": [
    "### URItoID\n",
    "\n",
    "The default `URItoID` converter attempts to parse the URI to strip off only the last\n",
    "portion of a URI. The following are a few examples."
   ]
  },
  {
   "cell_type": "code",
   "execution_count": null,
   "metadata": {},
   "outputs": [],
   "source": [
    "from ipyradiant.rdf2nx.uri_converter import URItoID\n",
    "\n",
    "example_uri = \"https://www.example.org/Person\"\n",
    "print(\"Strip after trailing '/':\")\n",
    "print(\"  - original URI:\", example_uri)\n",
    "print(\"  - URItoID output:\", URItoID(example_uri))\n",
    "\n",
    "print()\n",
    "\n",
    "another_example_uri = \"https://www.anotherexample.org#Person\"\n",
    "print(\"Strip after trailing '#':\")\n",
    "print(\"  - original URI:\", another_example_uri)\n",
    "print(\"  - URItoID output:\", URItoID(another_example_uri))"
   ]
  },
  {
   "cell_type": "markdown",
   "metadata": {},
   "source": [
    "The basic converter above simplified both example URIs, but note how the simpified\n",
    "representation is identical for both even though `example_uri` and `another_example_uri`\n",
    "are not the same. This is why namespace information is valuable."
   ]
  },
  {
   "cell_type": "markdown",
   "metadata": {},
   "source": [
    "### URItoShortID\n",
    "\n",
    "This converter allows for namespace information to be used in the conversion process. In\n",
    "the absence of namespace information, this converter is identical to `URItoID`."
   ]
  },
  {
   "cell_type": "code",
   "execution_count": null,
   "metadata": {},
   "outputs": [],
   "source": [
    "from ipyradiant.rdf2nx.uri_converter import URItoShortID\n",
    "\n",
    "namespaces = {\n",
    "    \"ns1\": \"https://www.example.org/\",\n",
    "    \"ns2\": \"https://www.anotherexample.org\",\n",
    "}\n",
    "\n",
    "example_uri = \"https://www.example.org/Person\"\n",
    "print(\"Example 1, matching namespace 'ns1':\")\n",
    "print(\"  - original URI:\", example_uri)\n",
    "print(\"  - URItoShortID output:\", URItoShortID(example_uri, ns=namespaces))\n",
    "\n",
    "print()\n",
    "\n",
    "another_example_uri = \"https://www.anotherexample.org#Person\"\n",
    "print(\"Example 2, matching namespace 'ns2':\")\n",
    "print(\"  - original URI:\", another_example_uri)\n",
    "print(\"  - URItoShortID output:\", URItoShortID(another_example_uri, ns=namespaces))"
   ]
  },
  {
   "cell_type": "markdown",
   "metadata": {},
   "source": [
    "Note that the simplified representations are not the same now that we have defined their\n",
    "namespaces (and prefixes).\n",
    "\n",
    "If the function cannot match a namespace to the URI, the behavior is the same as\n",
    "`URItoID`."
   ]
  },
  {
   "cell_type": "code",
   "execution_count": null,
   "metadata": {},
   "outputs": [],
   "source": [
    "missing_namespace_example_uri = \"https://www.missingexample.org/Person\"\n",
    "print(\"Example 3, missing namespace:\")\n",
    "print(\"  - original URI:\", missing_namespace_example_uri)\n",
    "print(\"  - URItoShortID output:\", URItoShortID(missing_namespace_example_uri))"
   ]
  }
 ],
 "metadata": {
  "kernelspec": {
   "display_name": "Python 3",
   "language": "python",
   "name": "python3"
  },
  "language_info": {
   "codemirror_mode": {
    "name": "ipython",
    "version": 3
   },
   "file_extension": ".py",
   "mimetype": "text/x-python",
   "name": "python",
   "nbconvert_exporter": "python",
   "pygments_lexer": "ipython3",
   "version": "3.7.8"
  }
 },
 "nbformat": 4,
 "nbformat_minor": 4
}
