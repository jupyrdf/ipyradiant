{
 "cells": [
  {
   "cell_type": "code",
   "execution_count": null,
   "id": "364da638",
   "metadata": {},
   "outputs": [],
   "source": [
    "from rdflib import ConjunctiveGraph, Graph, Literal, URIRef\n",
    "from rdflib.namespace import RDF, RDFS, XSD, Namespace"
   ]
  },
  {
   "cell_type": "markdown",
   "id": "cf0a781c",
   "metadata": {},
   "source": [
    "## Multi-graph Widget (`rdflib.ConjunctiveGraph`)"
   ]
  },
  {
   "cell_type": "code",
   "execution_count": null,
   "id": "d346e8ac",
   "metadata": {},
   "outputs": [],
   "source": [
    "ex_ns = Namespace(\"https://www.example.com/example/\")\n",
    "protagonist = ex_ns.Protagonist\n",
    "antagonist = ex_ns.Antagonist\n",
    "sidekick = ex_ns.Sidekick\n",
    "planet = URIRef(ex_ns + \"Concept/Planet\")\n",
    "earth = ex_ns.Earth\n",
    "concept = ex_ns.Concept\n",
    "character = URIRef(ex_ns + \"Concept/Character\")"
   ]
  },
  {
   "cell_type": "code",
   "execution_count": null,
   "id": "8418a56a",
   "metadata": {},
   "outputs": [],
   "source": [
    "g1 = Graph()\n",
    "# Add triples to the graph\n",
    "g1.add((protagonist, RDF.type, character))\n",
    "g1.add((protagonist, RDFS.label, Literal(\"The Protagonist\", datatype=XSD.string)))\n",
    "g1.add((protagonist, ex_ns.birthYear, Literal(\"1976\", datatype=XSD.integer)))\n",
    "\n",
    "g1.add((antagonist, RDF.type, character))\n",
    "g1.add((antagonist, RDFS.label, Literal(\"The Antagonist\", datatype=XSD.string)))\n",
    "\n",
    "g1.add((sidekick, RDF.type, character))\n",
    "g1.add((sidekick, RDFS.label, Literal(\"The Sidekick\", datatype=XSD.string)))\n",
    "\n",
    "g1.add((protagonist, ex_ns.hasEnemy, antagonist))"
   ]
  },
  {
   "cell_type": "code",
   "execution_count": null,
   "id": "bd3e6d89",
   "metadata": {},
   "outputs": [],
   "source": [
    "g2 = Graph()\n",
    "# Add triples to the graph (add planet, relation between sidekick and protagonist, antagonist birthYear, etc)\n",
    "g2.add((earth, RDF.type, planet))\n",
    "g2.add((earth, RDFS.label, Literal(\"Earth\", datatype=XSD.string)))\n",
    "\n",
    "g2.add((protagonist, ex_ns.homeworld, earth))\n",
    "g2.add((antagonist, ex_ns.homeworld, earth))\n",
    "g2.add((sidekick, ex_ns.homeworld, earth))\n",
    "\n",
    "g2.add((protagonist, ex_ns.partner, sidekick))\n",
    "\n",
    "g2.add((antagonist, ex_ns.birthYear, Literal(\"1983\", datatype=XSD.integer)))"
   ]
  },
  {
   "cell_type": "code",
   "execution_count": null,
   "id": "a6a06277",
   "metadata": {},
   "outputs": [],
   "source": [
    "# adding other graphs to conjunctive graph w/ context\n",
    "cg = ConjunctiveGraph()\n",
    "for sub_graph in [g1, g2]:\n",
    "    # context is the actual sub-graph\n",
    "    context = sub_graph\n",
    "    for triple in sub_graph:\n",
    "        cg.add([*triple, context])"
   ]
  },
  {
   "cell_type": "code",
   "execution_count": null,
   "id": "8d35cdae",
   "metadata": {},
   "outputs": [],
   "source": [
    "from ipyradiant.visualization.cytoscape import ConjunctiveGraphViewer\n",
    "\n",
    "# use simple context IDs for easier selection\n",
    "ConjunctiveGraphViewer._simple_context_ids = True\n",
    "cgv = ConjunctiveGraphViewer(conjunctive_graph=cg)\n",
    "# We could pass the graphs using a helper function in the viewer class instead\n",
    "# cgv.add_graphs(graphs=[g1, g2])\n",
    "cgv"
   ]
  }
 ],
 "metadata": {
  "kernelspec": {
   "display_name": "Python 3",
   "language": "python",
   "name": "python3"
  },
  "language_info": {
   "codemirror_mode": {
    "name": "ipython",
    "version": 3
   },
   "file_extension": ".py",
   "mimetype": "text/x-python",
   "name": "python",
   "nbconvert_exporter": "python",
   "pygments_lexer": "ipython3",
   "version": "3.7.10"
  }
 },
 "nbformat": 4,
 "nbformat_minor": 5
}
