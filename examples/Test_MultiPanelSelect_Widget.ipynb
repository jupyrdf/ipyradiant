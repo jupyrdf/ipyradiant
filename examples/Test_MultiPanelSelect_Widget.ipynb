{
 "cells": [
  {
   "cell_type": "markdown",
   "metadata": {},
   "source": [
    "## A Test for the MultiPanelSelect Widget"
   ]
  },
  {
   "cell_type": "code",
   "execution_count": null,
   "metadata": {},
   "outputs": [],
   "source": [
    "import json\n",
    "import os\n",
    "import time\n",
    "from pathlib import Path\n",
    "\n",
    "import importnb\n",
    "from requests_cache import CachedSession\n",
    "\n",
    "with importnb.Notebook():\n",
    "    try:\n",
    "        from MultiPanelSelectWidget import sw, W\n",
    "    except ImportError:\n",
    "        from .MultiPanelSelectWidget import sw, W"
   ]
  },
  {
   "cell_type": "markdown",
   "metadata": {},
   "source": [
    "This notebook is used as part of the `ipyradiant` test suite, where `IPYRADIANT_TESTING`\n",
    "will be set, which will trigger the automted section below."
   ]
  },
  {
   "cell_type": "code",
   "execution_count": null,
   "metadata": {},
   "outputs": [],
   "source": [
    "IS_TESTING = json.loads(os.environ.get(\"IPYRADIANT_TESTING\", \"false\"))\n",
    "IS_TESTING"
   ]
  },
  {
   "cell_type": "code",
   "execution_count": null,
   "metadata": {},
   "outputs": [],
   "source": [
    "sw.layout.width = \"100%\""
   ]
  },
  {
   "cell_type": "code",
   "execution_count": null,
   "metadata": {},
   "outputs": [],
   "source": [
    "test = W.Button(description=\"Run Test\")"
   ]
  },
  {
   "cell_type": "code",
   "execution_count": null,
   "metadata": {},
   "outputs": [],
   "source": [
    "def run_test(btn):\n",
    "    try:\n",
    "        sw.data = []\n",
    "        assert len(sw.available_things_list) == 0\n",
    "        sw.data = [\"test\", \"this\", \"feature\", \"for\", \"release\"]\n",
    "        assert len(sw.available_things_list) == len(sw.data)\n",
    "\n",
    "        sw.available_things.value == [\"test\"]\n",
    "        sw.add_button.click()\n",
    "\n",
    "        assert sw.selected_things_list == [\"test\"]\n",
    "\n",
    "        sw.selected_things.value == [\"test\"]\n",
    "        sw.remove_button.click()\n",
    "\n",
    "        assert sw.selected_things_list == []\n",
    "        assert len(sw.data) == len(sw.available_preds_list)\n",
    "\n",
    "        print(\"passed tests\")\n",
    "\n",
    "    except Exception as err:\n",
    "        raise Exception(\"test failed\") from err"
   ]
  },
  {
   "cell_type": "markdown",
   "metadata": {},
   "source": [
    "# Show application"
   ]
  },
  {
   "cell_type": "code",
   "execution_count": null,
   "metadata": {},
   "outputs": [],
   "source": [
    "W.VBox(children=[sw, test])"
   ]
  },
  {
   "cell_type": "code",
   "execution_count": null,
   "metadata": {},
   "outputs": [],
   "source": [
    "# Run automatically\n",
    "\n",
    "if IS_TESTING:\n",
    "    test.click()"
   ]
  }
 ],
 "metadata": {
  "kernelspec": {
   "display_name": "Python 3",
   "language": "python",
   "name": "python3"
  },
  "language_info": {
   "codemirror_mode": {
    "name": "ipython",
    "version": 3
   },
   "file_extension": ".py",
   "mimetype": "text/x-python",
   "name": "python",
   "nbconvert_exporter": "python",
   "pygments_lexer": "ipython3",
   "version": "3.7.8"
  }
 },
 "nbformat": 4,
 "nbformat_minor": 4
}
