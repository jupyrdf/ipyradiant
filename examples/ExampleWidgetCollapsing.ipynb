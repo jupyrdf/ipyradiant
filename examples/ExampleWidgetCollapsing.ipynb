{
 "cells": [
  {
   "cell_type": "code",
   "execution_count": null,
   "metadata": {},
   "outputs": [],
   "source": [
    "import traitlets as T\n",
    "\n",
    "import ipywidgets as W"
   ]
  },
  {
   "cell_type": "code",
   "execution_count": null,
   "metadata": {},
   "outputs": [],
   "source": [
    "from ipyradiant.visualization.explore import GraphExploreNodeSelection"
   ]
  },
  {
   "cell_type": "code",
   "execution_count": null,
   "metadata": {},
   "outputs": [],
   "source": [
    "class CollapsableBox(W.HBox):\n",
    "    collapse_button = T.Instance(W.Button)\n",
    "    node_select = T.Instance(GraphExploreNodeSelection)\n",
    "    default_children = T.Tuple()\n",
    "\n",
    "    @T.validate(\"children\")\n",
    "    def validate_children(self, proposal):\n",
    "        children = proposal.value\n",
    "        if not children:\n",
    "            children = (self.collapse_button, self.node_select)\n",
    "        return children\n",
    "\n",
    "    @T.default(\"node_select\")\n",
    "    def make_default_node_select(self):\n",
    "        node_selector = GraphExploreNodeSelection()\n",
    "        # node_selector....observe(self.value, \"value\")\n",
    "        return node_selector\n",
    "\n",
    "    @T.default(\"collapse_button\")\n",
    "    def make_default_collapse_button(self):\n",
    "        button = W.Button(icon=\"fa-exchange\", layout=W.Layout(width=\"45px\"))\n",
    "        button.on_click(self.expand_collapse)\n",
    "        return button\n",
    "\n",
    "    @T.default(\"default_children\")\n",
    "    def make_default_children(self):\n",
    "        return self.collapse_button, self.node_select\n",
    "\n",
    "    def expand_collapse(self, button):\n",
    "        if len(self.children) > 1:\n",
    "            self.children = (self.collapse_button,)\n",
    "        else:\n",
    "            self.children = self.default_children"
   ]
  },
  {
   "cell_type": "code",
   "execution_count": null,
   "metadata": {},
   "outputs": [],
   "source": [
    "cb = CollapsableBox()\n",
    "cb"
   ]
  }
 ],
 "metadata": {
  "kernelspec": {
   "display_name": "Python 3",
   "language": "python",
   "name": "python3"
  },
  "language_info": {
   "codemirror_mode": {
    "name": "ipython",
    "version": 3
   },
   "file_extension": ".py",
   "mimetype": "text/x-python",
   "name": "python",
   "nbconvert_exporter": "python",
   "pygments_lexer": "ipython3",
   "version": "3.7.8"
  }
 },
 "nbformat": 4,
 "nbformat_minor": 4
}
