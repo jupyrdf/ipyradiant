{
 "cells": [
  {
   "cell_type": "code",
   "execution_count": 83,
   "metadata": {},
   "outputs": [],
   "source": [
    "import ipywidgets as ipyw\n",
    "import traitlets as trt"
   ]
  },
  {
   "cell_type": "code",
   "execution_count": 85,
   "metadata": {},
   "outputs": [],
   "source": [
    "#create sample data\n",
    "sample_data = [\n",
    "    'Auba','Laca','Pepe','Dani','Hector','Saka','Granit','Torreira','Saliba','Willian','Coutinho','Mikel','Nelson',\n",
    "    'Sokratis','Emi','Bernd','Cedric','Tierney','Sead','David','Rob','Joe','Calum','Mesut'\n",
    "]"
   ]
  },
  {
   "cell_type": "code",
   "execution_count": 86,
   "metadata": {},
   "outputs": [],
   "source": [
    "#now do with traitlets... yay\n",
    "\n",
    "class PredicateSelectionWidget(ipyw.HBox):\n",
    "    available_predicates = trt.Instance(ipyw.SelectMultiple)\n",
    "    predicates_to_collapse = trt.Instance(ipyw.SelectMultiple)\n",
    "    add_button = trt.Instance(ipyw.Button)\n",
    "    remove_button= trt.Instance(ipyw.Button)\n",
    "    collapse_literals = trt.Instance(ipyw.Checkbox)\n",
    "    show_literals = trt.Instance(ipyw.Checkbox)\n",
    "    data = trt.List()\n",
    "    available_preds_list = trt.List()\n",
    "    remove_preds_list = trt.List(default_value=[])\n",
    "    output = ipyw.Output()\n",
    "    \n",
    "    @trt.default('available_preds_list')\n",
    "    def _make_available_preds_list(self):\n",
    "        return self.data\n",
    "    \n",
    "    @trt.default('available_predicates')\n",
    "    def _make_available_predicates(self):\n",
    "        pred_selector = ipyw.SelectMultiple(\n",
    "            options = self.available_preds_list,\n",
    "            disabled = False,\n",
    "            layout = ipyw.Layout(height = '300px')\n",
    "        )\n",
    "        return pred_selector\n",
    "\n",
    "    @trt.default('predicates_to_collapse')\n",
    "    def _make_preds_to_collapse(self):\n",
    "        preds_to_collapse = ipyw.SelectMultiple(\n",
    "            options = self.remove_preds_list,\n",
    "            disabled=False,\n",
    "            layout = ipyw.Layout(height = '300px')\n",
    "        )\n",
    "        return preds_to_collapse\n",
    "\n",
    "    @trt.default('add_button')\n",
    "    def _make_add_button(self):\n",
    "        return ipyw.Button(\n",
    "            description='Add',\n",
    "        )\n",
    "    \n",
    "    @trt.default('remove_button')\n",
    "    def _make_remove_button(self):\n",
    "        return ipyw.Button(\n",
    "            description='Remove'\n",
    "        )\n",
    "    \n",
    "    @trt.default(\"collapse_literals\")\n",
    "    def _make_collapse_lits(self):\n",
    "        return ipyw.Checkbox(\n",
    "            description = 'Collapse Literals?'\n",
    "        )\n",
    "    \n",
    "    @trt.default(\"show_literals\")\n",
    "    def _make_show_lits(self):\n",
    "        return ipyw.Checkbox(\n",
    "            description = 'Show Literals?'\n",
    "        )\n",
    "    \n",
    "    \n",
    "    def on_add_clicked(self,*args):\n",
    "        items_to_move = self.available_predicates.value\n",
    "        for item in items_to_move:\n",
    "            self.available_preds_list.remove(item)\n",
    "            self.remove_preds_list.append(item)\n",
    "        self.available_predicates.options = self.available_preds_list\n",
    "        self.predicates_to_collapse.options = self.remove_preds_list\n",
    "        \n",
    "    def on_remove_clicked(self,*args):\n",
    "        items_to_move = self.predicates_to_collapse.value\n",
    "        for item in items_to_move:\n",
    "            self.remove_preds_list.remove(item)\n",
    "            self.available_preds_list.append(item)\n",
    "        self.available_predicates.options = self.available_preds_list\n",
    "        self.predicates_to_collapse.options = self.remove_preds_list\n",
    "\n",
    "    \n",
    "    def __init__(self,*args,**kwargs):\n",
    "        super().__init__(*args,**kwargs)\n",
    "        self.data = kwargs['data']\n",
    "        \n",
    "        self.column_one=ipyw.VBox(children=[ipyw.HTML('<h1>Available Predicates</h1>'),self.available_predicates,self.collapse_literals])\n",
    "        self.column_two=ipyw.VBox(children=[self.add_button,self.remove_button])\n",
    "        self.column_three=ipyw.VBox(children=[ipyw.HTML('<h1>Predicates to Collapse</h1>'),self.predicates_to_collapse,self.show_literals])\n",
    "        \n",
    "        self.add_button.style.button_color = 'lightgreen'\n",
    "        self.remove_button.style.button_color = 'red'\n",
    "        self.add_button.layout = ipyw.Layout(margin='100px 0px 0px 0px')\n",
    "        self.remove_button.layout =ipyw.Layout(margin='0px 0px 0px 0px')\n",
    "        \n",
    "        self.add_button.on_click(self.on_add_clicked)\n",
    "        self.remove_button.on_click(self.on_remove_clicked)\n",
    "        self.children=[self.column_one,self.column_two,self.column_three]\n",
    "\n",
    "        "
   ]
  },
  {
   "cell_type": "code",
   "execution_count": 87,
   "metadata": {},
   "outputs": [],
   "source": [
    "sw = PredicateSelectionWidget(data=sample_data)"
   ]
  },
  {
   "cell_type": "code",
   "execution_count": 88,
   "metadata": {},
   "outputs": [
    {
     "data": {
      "application/vnd.jupyter.widget-view+json": {
       "model_id": "00bc3b99f9dc4e5eb0d5226c3610005a",
       "version_major": 2,
       "version_minor": 0
      },
      "text/plain": [
       "SelectionWidget(children=(VBox(children=(HTML(value='<h1>Available Predicates</h1>'), SelectMultiple(layout=La…"
      ]
     },
     "metadata": {},
     "output_type": "display_data"
    }
   ],
   "source": [
    "sw"
   ]
  },
  {
   "cell_type": "code",
   "execution_count": 73,
   "metadata": {},
   "outputs": [
    {
     "data": {
      "application/vnd.jupyter.widget-view+json": {
       "model_id": "82fd31134592473ba2416c3a4f16c1da",
       "version_major": 2,
       "version_minor": 0
      },
      "text/plain": [
       "Output()"
      ]
     },
     "metadata": {},
     "output_type": "display_data"
    }
   ],
   "source": [
    "sw.output"
   ]
  },
  {
   "cell_type": "code",
   "execution_count": null,
   "metadata": {},
   "outputs": [],
   "source": []
  }
 ],
 "metadata": {
  "kernelspec": {
   "display_name": "Python 3",
   "language": "python",
   "name": "python3"
  },
  "language_info": {
   "codemirror_mode": {
    "name": "ipython",
    "version": 3
   },
   "file_extension": ".py",
   "mimetype": "text/x-python",
   "name": "python",
   "nbconvert_exporter": "python",
   "pygments_lexer": "ipython3",
   "version": "3.7.8"
  }
 },
 "nbformat": 4,
 "nbformat_minor": 4
}
