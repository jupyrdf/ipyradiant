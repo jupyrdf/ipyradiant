{
 "cells": [
  {
   "cell_type": "code",
   "execution_count": 14,
   "metadata": {},
   "outputs": [],
   "source": [
    "import ipywidgets as ipyw\n",
    "import traitlets as trt\n",
    "from ipyradiant import LoadWidget\n"
   ]
  },
  {
   "cell_type": "code",
   "execution_count": 13,
   "metadata": {},
   "outputs": [],
   "source": [
    "import logging\n",
    "import re\n",
    "from pandas import DataFrame\n",
    "from rdflib import Graph\n",
    "from rdflib.plugins.sparql import prepareQuery\n",
    "# pattern used to identify bindings in a sparql string\n",
    "BINDING_PATTERN = re.compile(r\"\\?([\\w]*)\")\n",
    "class SPARQLQueryFramer:\n",
    "    \"\"\"A generic Class for building and running SPARQL queries with rdflib.\n",
    "    TODO need test\n",
    "    :param initNs: a dict of namespace {term: namespace} to use in rdflib prepareQuery\n",
    "    :param classBindings: a dict of bindings to set at the class level\n",
    "        (independent of initBindings).\n",
    "    :param sparql: a SPARQL parse-able string to use during query\n",
    "    :param index: an index list to use when building a query result DataFrame\n",
    "    :param columns: a list of strings to use as column headers for\n",
    "        the query result DataFrame\n",
    "    :param query: a valid rdflib Query object\n",
    "    \"\"\"\n",
    "    initNs = {}\n",
    "    classBindings = {}\n",
    "    sparql = \"\"\n",
    "    index = []\n",
    "    columns = None\n",
    "    query = None\n",
    "    # low cost trait (previous cls.sparql state)\n",
    "    p_sparql = \"\"\n",
    "    @classmethod\n",
    "    def print_vars(cls) -> None:\n",
    "        \"\"\"Utility function to print variables that may be used as bindings\n",
    "        \"\"\"\n",
    "        logging.info(\"Only variables in the SELECT line are printed.\")\n",
    "        tmp_graph = Graph()\n",
    "        # Run fake query to print vars\n",
    "        if not cls.query:\n",
    "            tmp_query = prepareQuery(cls.sparql, initNs=cls.initNs)\n",
    "            tmp_res = tmp_graph.query(tmp_query)\n",
    "        else:\n",
    "            tmp_res = tmp_graph.query(cls.query)\n",
    "        print(\"Vars:\\n\", sorted([str(var) for var in tmp_res.vars]))\n",
    "    @classmethod\n",
    "    def print_potential_bindings(cls) -> None:\n",
    "        \"\"\"Utility function to print bindings in the sparql string.\n",
    "        Note, this method is regex-based, and may not be 100% accurate.\n",
    "        \"\"\"\n",
    "        if not cls.sparql:\n",
    "            print(\"No sparql string set in class.\")\n",
    "            return None\n",
    "        logging.warning(\"Bindings are not guaranteed to be 100% accurate\")\n",
    "        potential_bindings = [\n",
    "            str(binding) for binding in set(BINDING_PATTERN.findall(cls.sparql))\n",
    "        ]\n",
    "        print(\"Potential bindings:\\n\", sorted(potential_bindings))\n",
    "        return None\n",
    "    @classmethod\n",
    "    def run_query(\n",
    "        cls, graph: Graph, initBindings: dict = None, **initBindingsKwarg,\n",
    "    ) -> DataFrame:\n",
    "        \"\"\"\n",
    "            Runs a query with optional initBindings, and returns the results\n",
    "            as a pandas.DataFrame.\n",
    "        :param graph: the rdflib.graph.Graph to be queried\n",
    "        :param initBindings: a dictionary of bindings where the key is the variable in\n",
    "            the sparql string, and the value is the URI/Literal to BIND to the variable.\n",
    "        :param initBindingsKwarg: kwarg version of initBindings\n",
    "        :return: pandas.DataFrame containing the contents of the SPARQL query\n",
    "            result from rdflib\n",
    "        \"\"\"\n",
    "        assert (\n",
    "            cls.query or cls.sparql\n",
    "        ), \"No rdflib Query or SPARQL string has been set for the class.\"\n",
    "        # Check if query should be updated due to stale sparql string\n",
    "        update_query = cls.p_sparql != cls.sparql\n",
    "        if not cls.query or update_query:\n",
    "            cls.query = prepareQuery(cls.sparql, initNs=cls.initNs)\n",
    "        # note: merge method kwargs with default class bindings\n",
    "        if initBindings:\n",
    "            all_bindings = {**cls.classBindings, **initBindings, **initBindingsKwarg}\n",
    "        else:\n",
    "            all_bindings = {**cls.classBindings, **initBindingsKwarg}\n",
    "        result = graph.query(cls.query, initBindings=all_bindings)\n",
    "        if cls.columns is None:\n",
    "            # Try to infer from query vars\n",
    "            try:\n",
    "                cls.columns = [str(var) for var in result.vars]\n",
    "            except TypeError:\n",
    "                # no columns. Probably an ASK or CONSTRUCT query\n",
    "                logging.debug(\n",
    "                    \"No columns passed, and unable to infer. \"\n",
    "                    \"Therefore, no columns were assigned to the DataFrame.\"\n",
    "                )\n",
    "        df = DataFrame(result, columns=cls.columns)\n",
    "        # update low cost trait\n",
    "        cls.p_sparql = cls.sparql\n",
    "        if cls.index:\n",
    "            return df.set_index(cls.index)\n",
    "        return df"
   ]
  },
  {
   "cell_type": "code",
   "execution_count": 24,
   "metadata": {},
   "outputs": [],
   "source": [
    "class PredicateFilterQuery(SPARQLQueryFramer):\n",
    "    sparql='''\n",
    "    SELECT DISTINCT ?p ?check\n",
    "    WHERE {\n",
    "        ?s ?p ?o .\n",
    "        BIND(isLiteral(?o) AS ?check)\n",
    "    }\n",
    "    '''\n",
    "    columns = ['predicate','isLiteral']"
   ]
  },
  {
   "cell_type": "code",
   "execution_count": 7,
   "metadata": {},
   "outputs": [],
   "source": [
    "lw = LoadWidget()\n",
    "lw"
   ]
  },
  {
   "cell_type": "code",
   "execution_count": 25,
   "metadata": {},
   "outputs": [],
   "source": [
    "predicate_metadata = PredicateFilterQuery.run_query(lw.graph)"
   ]
  },
  {
   "cell_type": "code",
   "execution_count": 2,
   "metadata": {},
   "outputs": [],
   "source": [
    "#create sample data\n",
    "sample_data = [\n",
    "    'Auba','Laca','Pepe','Dani','Hector','Saka','Granit','Torreira','Saliba','Willian','Coutinho','Mikel','Nelson',\n",
    "    'Sokratis','Emi','Bernd','Cedric','Tierney','Sead','David','Rob','Joe','Calum','Mesut'\n",
    "]"
   ]
  },
  {
   "cell_type": "code",
   "execution_count": 3,
   "metadata": {},
   "outputs": [],
   "source": [
    "#now do with traitlets... yay\n",
    "\n",
    "class PredicateSelectionWidget(ipyw.HBox):\n",
    "    available_predicates = trt.Instance(ipyw.SelectMultiple)\n",
    "    predicates_to_collapse = trt.Instance(ipyw.SelectMultiple)\n",
    "    add_button = trt.Instance(ipyw.Button)\n",
    "    remove_button= trt.Instance(ipyw.Button)\n",
    "    collapse_literals = trt.Instance(ipyw.Checkbox)\n",
    "    show_literals = trt.Instance(ipyw.Checkbox)\n",
    "    data = trt.List()\n",
    "    available_preds_list = trt.List()\n",
    "    remove_preds_list = trt.List(default_value=[])\n",
    "    output = ipyw.Output()\n",
    "    \n",
    "    @trt.default('available_preds_list')\n",
    "    def _make_available_preds_list(self):\n",
    "        return self.data\n",
    "    \n",
    "    @trt.default('available_predicates')\n",
    "    def _make_available_predicates(self):\n",
    "        pred_selector = ipyw.SelectMultiple(\n",
    "            options = self.available_preds_list,\n",
    "            disabled = False,\n",
    "            layout = ipyw.Layout(height = '300px')\n",
    "        )\n",
    "        return pred_selector\n",
    "\n",
    "    @trt.default('predicates_to_collapse')\n",
    "    def _make_preds_to_collapse(self):\n",
    "        preds_to_collapse = ipyw.SelectMultiple(\n",
    "            options = self.remove_preds_list,\n",
    "            disabled=False,\n",
    "            layout = ipyw.Layout(height = '300px')\n",
    "        )\n",
    "        return preds_to_collapse\n",
    "\n",
    "    @trt.default('add_button')\n",
    "    def _make_add_button(self):\n",
    "        return ipyw.Button(\n",
    "            description='Add',\n",
    "        )\n",
    "    \n",
    "    @trt.default('remove_button')\n",
    "    def _make_remove_button(self):\n",
    "        return ipyw.Button(\n",
    "            description='Remove'\n",
    "        )\n",
    "    \n",
    "    @trt.default(\"collapse_literals\")\n",
    "    def _make_collapse_lits(self):\n",
    "        return ipyw.Checkbox(\n",
    "            description = 'Collapse Literals?'\n",
    "        )\n",
    "    \n",
    "    @trt.default(\"show_literals\")\n",
    "    def _make_show_lits(self):\n",
    "        return ipyw.Checkbox(\n",
    "            description = 'Show Literals?'\n",
    "        )\n",
    "    \n",
    "    \n",
    "    def on_add_clicked(self,*args):\n",
    "        items_to_move = self.available_predicates.value\n",
    "        for item in items_to_move:\n",
    "            self.available_preds_list.remove(item)\n",
    "            self.remove_preds_list.append(item)\n",
    "        self.available_predicates.options = self.available_preds_list\n",
    "        self.predicates_to_collapse.options = self.remove_preds_list\n",
    "        \n",
    "    def on_remove_clicked(self,*args):\n",
    "        items_to_move = self.predicates_to_collapse.value\n",
    "        for item in items_to_move:\n",
    "            self.remove_preds_list.remove(item)\n",
    "            self.available_preds_list.append(item)\n",
    "        self.available_predicates.options = self.available_preds_list\n",
    "        self.predicates_to_collapse.options = self.remove_preds_list\n",
    "\n",
    "    \n",
    "    def __init__(self,*args,**kwargs):\n",
    "        super().__init__(*args,**kwargs)\n",
    "        self.data = kwargs['data']\n",
    "        \n",
    "        self.column_one=ipyw.VBox(children=[ipyw.HTML('<h1>Available Predicates</h1>'),self.available_predicates,self.collapse_literals])\n",
    "        self.column_two=ipyw.VBox(children=[self.add_button,self.remove_button])\n",
    "        self.column_three=ipyw.VBox(children=[ipyw.HTML('<h1>Predicates to Collapse</h1>'),self.predicates_to_collapse,self.show_literals])\n",
    "        \n",
    "        self.add_button.style.button_color = 'lightgreen'\n",
    "        self.remove_button.style.button_color = 'red'\n",
    "        self.add_button.layout = ipyw.Layout(margin='100px 0px 0px 0px')\n",
    "        self.remove_button.layout =ipyw.Layout(margin='0px 0px 0px 0px')\n",
    "        \n",
    "        self.add_button.on_click(self.on_add_clicked)\n",
    "        self.remove_button.on_click(self.on_remove_clicked)\n",
    "        self.children=[self.column_one,self.column_two,self.column_three]\n",
    "\n",
    "        "
   ]
  },
  {
   "cell_type": "code",
   "execution_count": 27,
   "metadata": {},
   "outputs": [],
   "source": [
    "sw = PredicateSelectionWidget(data=list(predicate_metadata.predicate))"
   ]
  },
  {
   "cell_type": "code",
   "execution_count": 28,
   "metadata": {},
   "outputs": [
    {
     "data": {
      "application/vnd.jupyter.widget-view+json": {
       "model_id": "79c75ca7c2ca4fb2aad693ea0f458ec4",
       "version_major": 2,
       "version_minor": 0
      },
      "text/plain": [
       "PredicateSelectionWidget(children=(VBox(children=(HTML(value='<h1>Available Predicates</h1>'), SelectMultiple(…"
      ]
     },
     "metadata": {},
     "output_type": "display_data"
    }
   ],
   "source": [
    "sw"
   ]
  },
  {
   "cell_type": "code",
   "execution_count": 73,
   "metadata": {},
   "outputs": [
    {
     "data": {
      "application/vnd.jupyter.widget-view+json": {
       "model_id": "82fd31134592473ba2416c3a4f16c1da",
       "version_major": 2,
       "version_minor": 0
      },
      "text/plain": [
       "Output()"
      ]
     },
     "metadata": {},
     "output_type": "display_data"
    }
   ],
   "source": [
    "sw.output"
   ]
  },
  {
   "cell_type": "code",
   "execution_count": null,
   "metadata": {},
   "outputs": [],
   "source": []
  }
 ],
 "metadata": {
  "kernelspec": {
   "display_name": "Python 3",
   "language": "python",
   "name": "python3"
  },
  "language_info": {
   "codemirror_mode": {
    "name": "ipython",
    "version": 3
   },
   "file_extension": ".py",
   "mimetype": "text/x-python",
   "name": "python",
   "nbconvert_exporter": "python",
   "pygments_lexer": "ipython3",
   "version": "3.7.8"
  }
 },
 "nbformat": 4,
 "nbformat_minor": 4
}
