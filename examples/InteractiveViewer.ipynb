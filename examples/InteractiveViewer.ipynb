{
 "cells": [
  {
   "cell_type": "markdown",
   "id": "e86027be",
   "metadata": {},
   "source": [
    "## `InteractiveViewer` Example\n",
    "\n",
    "The `IneractiveViewer` provides a method of reducing the information in a graph\n",
    "visualization through the selection of one or more `rdf:type`s. The nodes are colored by\n",
    "their `rdf:type` (nodes with multiple types all have a distinct color). Users can select\n",
    "one or more types from the multi-select, and the graph will update to display the\n",
    "reduced information.\n",
    "\n",
    "The widget includes a link to a JSON output in order to inspect the data for individual\n",
    "nodes. Click on nodes in the graph to see their data below the main widget area."
   ]
  },
  {
   "cell_type": "code",
   "execution_count": null,
   "id": "28312451",
   "metadata": {},
   "outputs": [],
   "source": [
    "import rdflib\n",
    "\n",
    "from ipyradiant import FileManager, PathLoader\n",
    "from ipyradiant.visualization.cytoscape import InteractiveViewer"
   ]
  },
  {
   "cell_type": "code",
   "execution_count": null,
   "id": "445b989a",
   "metadata": {},
   "outputs": [],
   "source": [
    "# Load an example graph and reduce to a manageable number of entities to visualize\n",
    "lw = FileManager(loader=PathLoader(path=\"data\"))\n",
    "# here we hard set what we want the file to be, but ideally a user can choose a file to work with.\n",
    "lw.loader.file_picker.value = lw.loader.file_picker.options[\"starwars.ttl\"]\n",
    "rdf_graph = lw.graph\n",
    "qres = lw.graph.query(\n",
    "    \"\"\"\n",
    "    PREFIX planet: <https://swapi.co/resource/planet/>\n",
    "    PREFIX human: <https://swapi.co/resource/human/>\n",
    "    PREFIX droid: <https://swapi.co/resource/droid/>\n",
    "    PREFIX gungan: <https://swapi.co/resource/gungan/>\n",
    "    PREFIX film: <https://swapi.co/resource/film/>\n",
    "    \n",
    "    CONSTRUCT {\n",
    "        ?s ?p ?o .\n",
    "    }\n",
    "    WHERE {\n",
    "        ?s ?p ?o .\n",
    "        \n",
    "        VALUES (?s) {\n",
    "            (human:1)\n",
    "            (human:4)\n",
    "            (human:5)\n",
    "            (human:14)\n",
    "            (human:22)\n",
    "            (human:67)\n",
    "            (human:69)\n",
    "            (human:85)\n",
    "            (human:88)\n",
    "            (gungan:36)\n",
    "            (droid:2)\n",
    "            (droid:3)\n",
    "            (droid:23)\n",
    "            (droid:87)\n",
    "            (film:1)\n",
    "            (film:2)\n",
    "            (film:3)\n",
    "            (film:4)\n",
    "            (film:5)\n",
    "            (film:6)\n",
    "            (film:7)\n",
    "            (planet:1)\n",
    "            (planet:2)\n",
    "            (planet:3)\n",
    "            (planet:4)\n",
    "            (planet:5)\n",
    "            (planet:6)\n",
    "            (planet:7)\n",
    "        }\n",
    "    }\n",
    "    \"\"\"\n",
    ")\n",
    "\n",
    "simple_graph = rdflib.graph.Graph().parse(data=qres.serialize(format=\"ttl\"))"
   ]
  },
  {
   "cell_type": "code",
   "execution_count": null,
   "id": "ccf71ad7",
   "metadata": {},
   "outputs": [],
   "source": [
    "# Run the widget and assign the graph\n",
    "iv = InteractiveViewer()\n",
    "iv.rdf_graph = simple_graph\n",
    "iv"
   ]
  },
  {
   "cell_type": "markdown",
   "id": "0e34fcee",
   "metadata": {},
   "source": [
    "> Note: the `allow disconnected` option is disabled due to issues with async behavior of\n",
    "> the underlying cytoscape widget. Track this issue within the `ipyradiant` library\n",
    "> [here](https://github.com/jupyrdf/ipyradiant/issues/110)."
   ]
  }
 ],
 "metadata": {
  "kernelspec": {
   "display_name": "Python 3 (ipykernel)",
   "language": "python",
   "name": "python3"
  },
  "language_info": {
   "codemirror_mode": {
    "name": "ipython",
    "version": 3
   },
   "file_extension": ".py",
   "mimetype": "text/x-python",
   "name": "python",
   "nbconvert_exporter": "python",
   "pygments_lexer": "ipython3",
   "version": "3.9.12"
  }
 },
 "nbformat": 4,
 "nbformat_minor": 5
}
