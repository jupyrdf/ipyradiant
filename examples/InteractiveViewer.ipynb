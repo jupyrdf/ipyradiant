{
 "cells": [
  {
   "cell_type": "code",
   "execution_count": null,
   "id": "gothic-hypothetical",
   "metadata": {},
   "outputs": [],
   "source": [
    "import rdflib\n",
    "\n",
    "from ipyradiant import FileManager, PathLoader"
   ]
  },
  {
   "cell_type": "code",
   "execution_count": null,
   "id": "placed-aaron",
   "metadata": {},
   "outputs": [],
   "source": [
    "lw = FileManager(loader=PathLoader(path=\"data\"))\n",
    "# here we hard set what we want the file to be, but ideally a user can choose a file to work with.\n",
    "lw.loader.file_picker.value = lw.loader.file_picker.options[\"starwars.ttl\"]\n",
    "rdf_graph = lw.graph\n",
    "qres = lw.graph.query(\n",
    "    \"\"\"\n",
    "    PREFIX planet: <https://swapi.co/resource/planet/>\n",
    "    PREFIX human: <https://swapi.co/resource/human/>\n",
    "    PREFIX droid: <https://swapi.co/resource/droid/>\n",
    "    PREFIX gungan: <https://swapi.co/resource/gungan/>\n",
    "    PREFIX film: <https://swapi.co/resource/film/>\n",
    "    \n",
    "    CONSTRUCT {\n",
    "        ?s ?p ?o .\n",
    "    }\n",
    "    WHERE {\n",
    "        ?s ?p ?o .\n",
    "        \n",
    "        VALUES (?s) {\n",
    "            (human:1)\n",
    "            (human:4)\n",
    "            (human:5)\n",
    "            (human:14)\n",
    "            (human:22)\n",
    "            (human:67)\n",
    "            (human:69)\n",
    "            (human:85)\n",
    "            (human:88)\n",
    "            (gungan:36)\n",
    "            (droid:2)\n",
    "            (droid:3)\n",
    "            (droid:23)\n",
    "            (droid:87)\n",
    "            (film:1)\n",
    "            (film:2)\n",
    "            (film:3)\n",
    "            (film:4)\n",
    "            (film:5)\n",
    "            (film:6)\n",
    "            (film:7)\n",
    "            (planet:1)\n",
    "            (planet:2)\n",
    "            (planet:3)\n",
    "            (planet:4)\n",
    "            (planet:5)\n",
    "            (planet:6)\n",
    "            (planet:7)\n",
    "        }\n",
    "    }\n",
    "    \"\"\"\n",
    ")\n",
    "\n",
    "simple_graph = rdflib.graph.Graph().parse(data=qres.serialize(format=\"xml\"))"
   ]
  },
  {
   "cell_type": "code",
   "execution_count": null,
   "id": "underlying-coupon",
   "metadata": {},
   "outputs": [],
   "source": [
    "from ipyradiant.visualization.cytoscape import InteractiveViewer\n",
    "\n",
    "uv = InteractiveViewer()\n",
    "uv.graph = simple_graph\n",
    "uv"
   ]
  }
 ],
 "metadata": {
  "kernelspec": {
   "display_name": "Python 3",
   "language": "python",
   "name": "python3"
  },
  "language_info": {
   "codemirror_mode": {
    "name": "ipython",
    "version": 3
   },
   "file_extension": ".py",
   "mimetype": "text/x-python",
   "name": "python",
   "nbconvert_exporter": "python",
   "pygments_lexer": "ipython3",
   "version": "3.7.10"
  }
 },
 "nbformat": 4,
 "nbformat_minor": 5
}
