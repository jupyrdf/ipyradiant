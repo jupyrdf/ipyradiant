{
 "cells": [
  {
   "cell_type": "code",
   "execution_count": null,
   "metadata": {},
   "outputs": [],
   "source": [
    "import rdflib\n",
    "from ipyradiant import (\n",
    "    CustomURIRef,\n",
    "    FileManager,\n",
    "    MultiPanelSelect,\n",
    "    PathLoader,\n",
    "    PredicateMultiselectApp,\n",
    "    collapse_predicates,\n",
    ")\n",
    "from ipyradiant.sparql.api import SPARQLQueryFramer, build_values\n",
    "from rdflib import URIRef\n",
    "import pandas"
   ]
  },
  {
   "cell_type": "code",
   "execution_count": null,
   "metadata": {},
   "outputs": [],
   "source": [
    "lw = FileManager(loader=PathLoader(path=\"data\"))\n",
    "# here we hard set what we want the file to be, but ideally a user can choose a file to work with.\n",
    "lw.loader.file_picker.value = lw.loader.file_picker.options[\"tailsitter_uas.ttl\"]\n",
    "lw"
   ]
  },
  {
   "cell_type": "code",
   "execution_count": null,
   "metadata": {},
   "outputs": [],
   "source": [
    "list(lw.graph.namespaces())"
   ]
  },
  {
   "cell_type": "markdown",
   "metadata": {},
   "source": [
    "## Queries to facilitate RDF -> LPG"
   ]
  },
  {
   "cell_type": "markdown",
   "metadata": {},
   "source": [
    "Method adopted from: https://github.com/Rothamsted/rdf2neo/blob/master/README.md"
   ]
  },
  {
   "cell_type": "code",
   "execution_count": null,
   "metadata": {},
   "outputs": [],
   "source": [
    "# namespace we will use for the example\n",
    "MDK = rdflib.namespace.Namespace('https://www.example.org/CameoMDK/')"
   ]
  },
  {
   "cell_type": "code",
   "execution_count": null,
   "metadata": {},
   "outputs": [],
   "source": [
    "test_node_uri = URIRef(\n",
    "    \"https://mms.openmbee.org/alfresco/service/projects/PROJECT-44c15c7a-7fe8-4ebb-8b7b-bbada2edf1d2/refs/master/elements/_18_5_3_9340270_1547479252665_378825_19213\"\n",
    ")"
   ]
  },
  {
   "cell_type": "markdown",
   "metadata": {},
   "source": [
    "### URI-to-ID default converter (configurable)\n",
    "https://github.com/Rothamsted/rdf2neo/blob/master/rdf2neo/src/main/java/uk/ac/rothamsted/rdf/neo4j/idconvert/DefaultIri2IdConverter.java"
   ]
  },
  {
   "cell_type": "code",
   "execution_count": null,
   "metadata": {},
   "outputs": [],
   "source": [
    "import re\n",
    "\n",
    "def URItoID(uri: rdflib.term.URIRef) -> str:\n",
    "    \"\"\"returns the URI fragment that follows the last '#' or '/' separator\n",
    "    \n",
    "    TODO validate on larger group of URIs to ensure robustness\n",
    "    \"\"\"\n",
    "    parts = re.split(\"/|#\", uri)\n",
    "    return parts[-1]"
   ]
  },
  {
   "cell_type": "markdown",
   "metadata": {},
   "source": [
    "> Future implementation note: we will want to store converted URIs in a dict and check the dict before calling `URItoID`"
   ]
  },
  {
   "cell_type": "code",
   "execution_count": null,
   "metadata": {},
   "outputs": [],
   "source": [
    "# TODO IRI to ShortID for predicates????"
   ]
  },
  {
   "cell_type": "markdown",
   "metadata": {},
   "source": [
    "### Literal to python type (mapping configurable)\n",
    "Used to convert typed Literals to other types. "
   ]
  },
  {
   "cell_type": "code",
   "execution_count": null,
   "metadata": {},
   "outputs": [],
   "source": [
    "class LiteralMap:\n",
    "    # TODO some way to allow map to be passed\n",
    "    pass\n",
    "\n",
    "\n",
    "class LiteralTyping:\n",
    "    def __init__(self, mapping):\n",
    "        self.map_ = mapping\n",
    "        \n",
    "    # TODO\n",
    "    def convert(self):\n",
    "        return None"
   ]
  },
  {
   "cell_type": "markdown",
   "metadata": {},
   "source": [
    "### Node IRIs\n",
    "SPARQL query that lists all the IRIs about RDF resources that represent a node.\n",
    "\n",
    "Typically this query will be listing instances of target classes, although you might also catch resources of interest by targeting subjects or objects of given relations.\n",
    "\n",
    "> it is very <b>important</b> that the query returns distinct results."
   ]
  },
  {
   "cell_type": "code",
   "execution_count": null,
   "metadata": {},
   "outputs": [],
   "source": [
    "class NodeIRIs(SPARQLQueryFramer):\n",
    "    \"\"\"\n",
    "    This query can return anything you want, as long as it meets one (?) requirement; \n",
    "    it must return unique IRIs for subjects in the graph (used to create LPG nodes).  \n",
    "    \"\"\"\n",
    "    sparql = \"\"\"\n",
    "    # An example of how query for the IRIs about RDF resources that you want to map to LPG as nodes.\n",
    "    SELECT DISTINCT ?iri\n",
    "    WHERE {\n",
    "      # This picks up nodes of interests based on their rdf:type, which should be pretty common.\n",
    "      ?iri a ?type_ ;\n",
    "          mdk:appliedStereotypeInstanceId/mdk:classifierIds/mdk:name ?classifier_name .\n",
    "          \n",
    "      # Here we can restrict the types to a subset   \n",
    "      VALUES (?type_) {\n",
    "          (mdk:Port)\n",
    "      }\n",
    "      \n",
    "      # We can also restrict additional vars\n",
    "      VALUES (?classifier_name) {\n",
    "        (\"ConstraintParameter\")\n",
    "        (\"DirectionalConstraintParameter\")\n",
    "      }\n",
    "      \n",
    "      # can also UNION multiple ways to return nodes\n",
    "    }\n",
    "    \"\"\"\n",
    "    initNs = {\"mdk\": MDK}\n",
    "    \n",
    "    @classmethod\n",
    "    def run_query(\n",
    "        cls,\n",
    "        graph: rdflib.graph.Graph,\n",
    "        initBindings: dict = None,\n",
    "        **initBindingsKwarg,\n",
    "    ) -> pandas.DataFrame:\n",
    "        \"\"\"Overwrite the super method in order to wrap with validation checks.\"\"\"\n",
    "        qres = super().run_query(graph, initBindings=initBindings, **initBindingsKwarg)\n",
    "        # Validating with known requirements on query results\n",
    "        assert qres.columns == [\"iri\"], \"Query results dataframe must be exactly one 'iri' column.\"\n",
    "        assert len(set(qres['iri'].values)) == len(qres.values), \"Query must return unique IRIs.\"\n",
    "        return qres\n",
    "\n",
    "    \n",
    "NodeIRIs.run_query(lw.graph).head()"
   ]
  },
  {
   "cell_type": "markdown",
   "metadata": {},
   "source": [
    "### Node Types (<i>label</i> in neo4j)\n",
    "Query is invoked for each of the IRIs found by the node IRIs and is parameterized over a single node IRIs. \n",
    "\n",
    "The type query will be invoked once per node IRI, its purpose is to list all the LPG types that have to be assigned to the node.\n",
    "\n",
    "A type can be either a IRI or a literal, or a string. If it's a IRI, it will be translated into a LPG identifier by means of the configured IRI-to-ID converter."
   ]
  },
  {
   "cell_type": "code",
   "execution_count": null,
   "metadata": {},
   "outputs": [],
   "source": [
    "class NodeTypes(SPARQLQueryFramer):\n",
    "    \"\"\"\n",
    "    TODO\n",
    "    \"\"\"\n",
    "    sparql = \"\"\"\n",
    "    # Typically, this will be same query as the node IRIs, but returning the ?type_ variable in the results\n",
    "    # Here the ?iri variable is bound to a particular node, using the results coming from the node IRI query.\n",
    "    \n",
    "    SELECT DISTINCT ?iri ?type_\n",
    "    WHERE {\n",
    "      # Copy of code from NodeIRI\n",
    "      ?iri a ?type_ ;\n",
    "          mdk:appliedStereotypeInstanceId/mdk:classifierIds/mdk:name ?classifier_name .\n",
    "          \n",
    "      # Here we can restrict the types to a subset   \n",
    "      VALUES (?type_) {\n",
    "          (mdk:Port)\n",
    "      }\n",
    "      \n",
    "      # We can also restrict additional vars\n",
    "      VALUES (?classifier_name) {\n",
    "        (\"ConstraintParameter\")\n",
    "        (\"DirectionalConstraintParameter\")\n",
    "      }\n",
    "    }\n",
    "    \"\"\"\n",
    "    initNs = {\"mdk\": MDK}\n",
    "    \n",
    "    @classmethod\n",
    "    def run_query(\n",
    "        cls,\n",
    "        graph: rdflib.graph.Graph,\n",
    "        initBindings: dict = None,\n",
    "        **initBindingsKwarg,\n",
    "    ) -> pandas.DataFrame:\n",
    "        \"\"\"Overwrite the super method in order to wrap with validation checks.\"\"\"\n",
    "        qres = super().run_query(graph, initBindings=initBindings, **initBindingsKwarg)\n",
    "        # Validating with known requirements on query results\n",
    "        # TODO (uniques check?)\n",
    "        return qres\n",
    "\n",
    "    \n",
    "NodeTypes.run_query(lw.graph)"
   ]
  },
  {
   "cell_type": "markdown",
   "metadata": {},
   "source": [
    "### Node Properties\n",
    "One query per node, with the ?iri variable bound to the specific node URI. The query returns a list of all the pairs of predicate + value that you want to assign to the LPG node.\n",
    "\n",
    "Every node has always an iri property. We need this to correctly process RDF-defined relations. It can also be useful to track the provenance URI for a node. This property is always indexed and has distinct values.\n",
    "\n",
    "Every node has a always a default type (`label` in neo4j). The predefined value for thiscan be changed by configuring a `defaultNodeLabel` (in future versions). Again, we need this in order to find nodes by their IRI. \n",
    "\n",
    "If values are literals, you should expect reasonable conversions (e.g., RDF numbers => Python numbers). TODO: we plan to add a configuration option to define custom literal converters.\n",
    "\n",
    "> Note: name is typically converted to shorthand ID using the configured `URItoID`"
   ]
  },
  {
   "cell_type": "code",
   "execution_count": null,
   "metadata": {},
   "outputs": [],
   "source": [
    "class NodeProperties(SPARQLQueryFramer):\n",
    "    \"\"\"\n",
    "    An example of how to return pairs of name/value that represent the properties of a LPG node.\n",
    "     - ?iri is bound to a specific node IRI, to get the properties for that node. \n",
    "     - ?predicate is an IRI and is converted into a shorter ID by means of a configured IRI->ID converter.\n",
    "     - ?value is a literal and, for the moment, is converted into a string, using its lexical value. More options soon (e.g., mapping XSD types to Cortex/python types).\n",
    "    \"\"\"\n",
    "    sparql = \"\"\"\n",
    "    SELECT DISTINCT ?iri ?predicate ?value\n",
    "    {\n",
    "      ?iri ?predicate ?value.\n",
    "      \n",
    "      # could filter by things like lang\n",
    "      # EXAMPLE: FILTER ( isNumeric (?value) || LANG ( ?value ) = 'en' ). \n",
    "      \n",
    "      # Note: properties/attributes can potentially come from other nodes\n",
    "      # EXAMPLE: ?iri mdk:ownerId/mdk:name ?value .  (note: have to bind something to ?predicate for LPG property name)\n",
    "\n",
    "      VALUES ( ?predicate ) {\n",
    "        ( mdk:visibility )\n",
    "        ( mdk:aggregation )\n",
    "      }\n",
    "    }\n",
    "    \"\"\"\n",
    "    initNs = {\"mdk\": MDK}\n",
    "    \n",
    "    @classmethod\n",
    "    def run_query(\n",
    "        cls,\n",
    "        graph: rdflib.graph.Graph,\n",
    "        initBindings: dict = None,\n",
    "        **initBindingsKwarg,\n",
    "    ) -> pandas.DataFrame:\n",
    "        \"\"\"Overwrite the super method in order to wrap with validation checks.\"\"\"\n",
    "        qres = super().run_query(graph, initBindings=initBindings, **initBindingsKwarg)\n",
    "        # Validating with known requirements on query results\n",
    "        # TODO (uniques check?)\n",
    "        return qres\n",
    "\n",
    "    \n",
    "NodeProperties.run_query(lw.graph, iri=test_node_uri)  # note the iri is bound"
   ]
  },
  {
   "cell_type": "markdown",
   "metadata": {},
   "source": [
    "## Node Relationships\n",
    "Similarly to nodes, rdf2lpg needs first a list of relations to be created. These must refer to their linking nodes by means of the node URIs (mapped earlier via the iri property).\n",
    "\n",
    "As you can see, we need certain properties always reported after the SELECT keyword. Among these, we always need the relation URI, which has to be computed for straight (non reified) triples too.\n",
    "\n",
    "Similarly to nodes, relation URIs (i.e., ?iri) are needed by rdf2lpg in order to check for their properties with the relation property query. Moreover, it is a good way to keep track of multiple statements about the same subject/predicate/property."
   ]
  },
  {
   "cell_type": "code",
   "execution_count": null,
   "metadata": {},
   "outputs": [],
   "source": [
    "class RelationTypes(SPARQLQueryFramer):\n",
    "    \"\"\"\n",
    "    TODO\n",
    "    TODO is this overlapping with reified query? e.g. this one is returning triples from the reification pattern...\n",
    "    \"\"\"\n",
    "    sparql = \"\"\"\n",
    "    # \n",
    "    # An example of how to define mapping from RDF relations, either plain relations or reified ones.\n",
    "    #\n",
    "    # - ?iri is the resource about the relation, and uniquely identifies a triple or a relation between two nodes.\n",
    "    # - ?source, ?target are the resources representing the relation's endpoint nodes (must refer to LPG node IRIs)\n",
    "    # - ?predicate is a tag (usually an IRI, but it can be a string???) representing the relation type.\n",
    "    # \n",
    "    SELECT DISTINCT ?iri ?predicate ?source ?target\n",
    "    WHERE {\n",
    "        { \n",
    "          # Plain relations, non-reified\n",
    "            ?source ?predicate ?target.\n",
    "            FILTER ( isIRI ( ?target ) ).  # prevent bad things\n",
    "            \n",
    "            # could bind values to ?predicate\n",
    "            # VALUES (?predicate) { (mdk:ownerId) }\n",
    "\n",
    "            # Plain relations must get their fictitious IRI from constructs like this.\n",
    "            # Using the triple components ensures there is a unique IRI identifing the triple.\n",
    "            BIND ( \n",
    "                IRI ( \n",
    "                    CONCAT ( \n",
    "                      STR ( ns: ),\n",
    "                      MD5 ( CONCAT ( STR ( ?predicate ), STR ( ?source ), STR ( ?target ) ) )\n",
    "                    ) \n",
    "                )\n",
    "              AS ?iri\n",
    "            )\n",
    "        }\n",
    "    }\n",
    "    \"\"\"\n",
    "    initNs = {\"ns\": MDK}\n",
    "    \n",
    "    @classmethod\n",
    "    def run_query(\n",
    "        cls,\n",
    "        graph: rdflib.graph.Graph,\n",
    "        initBindings: dict = None,\n",
    "        **initBindingsKwarg,\n",
    "    ) -> pandas.DataFrame:\n",
    "        \"\"\"Overwrite the super method in order to wrap with validation checks.\"\"\"\n",
    "        qres = super().run_query(graph, initBindings=initBindings, **initBindingsKwarg)\n",
    "        # Validating with known requirements on query results\n",
    "        # TODO\n",
    "        return qres\n",
    "\n",
    "    \n",
    "RelationTypes.run_query(lw.graph)"
   ]
  },
  {
   "cell_type": "markdown",
   "metadata": {},
   "source": [
    "#### Separate query to handle reified relationships (if they exist)"
   ]
  },
  {
   "cell_type": "code",
   "execution_count": null,
   "metadata": {},
   "outputs": [],
   "source": [
    "class ReifiedRelations(SPARQLQueryFramer):\n",
    "    \"\"\"\n",
    "    TODO\n",
    "    \"\"\"\n",
    "    sparql = \"\"\"\n",
    "    SELECT DISTINCT ?iri ?predicate ?source ?target\n",
    "    WHERE {\n",
    "        ?iri a rdf:Statement;\n",
    "            rdf:subject ?source;\n",
    "            rdf:predicate ?predicate;\n",
    "            rdf:object ?target.\n",
    "    }\n",
    "    \"\"\"\n",
    "    initNs = {\"ns\": MDK}\n",
    "    \n",
    "    @classmethod\n",
    "    def run_query(\n",
    "        cls,\n",
    "        graph: rdflib.graph.Graph,\n",
    "        initBindings: dict = None,\n",
    "        **initBindingsKwarg,\n",
    "    ) -> pandas.DataFrame:\n",
    "        \"\"\"Overwrite the super method in order to wrap with validation checks.\"\"\"\n",
    "        qres = super().run_query(graph, initBindings=initBindings, **initBindingsKwarg)\n",
    "        # Validating with known requirements on query results\n",
    "        # TODO\n",
    "        return qres\n",
    "\n",
    "    \n",
    "ReifiedRelation.run_query(lw.graph)"
   ]
  },
  {
   "cell_type": "code",
   "execution_count": null,
   "metadata": {},
   "outputs": [],
   "source": []
  }
 ],
 "metadata": {
  "kernelspec": {
   "display_name": "Python 3",
   "language": "python",
   "name": "python3"
  },
  "language_info": {
   "codemirror_mode": {
    "name": "ipython",
    "version": 3
   },
   "file_extension": ".py",
   "mimetype": "text/x-python",
   "name": "python",
   "nbconvert_exporter": "python",
   "pygments_lexer": "ipython3",
   "version": "3.7.8"
  }
 },
 "nbformat": 4,
 "nbformat_minor": 4
}
