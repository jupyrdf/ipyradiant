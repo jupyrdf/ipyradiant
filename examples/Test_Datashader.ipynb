{
 "cells": [
  {
   "cell_type": "markdown",
   "metadata": {},
   "source": [
    "# A Test for the Datashader Application\n",
    "\n",
    "This uses [importnb](https://pypi.org/project/importnb) to run the\n",
    "[Datashader_Example](./Datashader_Example.ipynb) notebook."
   ]
  },
  {
   "cell_type": "code",
   "execution_count": null,
   "metadata": {},
   "outputs": [],
   "source": [
    "import json\n",
    "import os\n",
    "import time\n",
    "from pathlib import Path\n",
    "\n",
    "import importnb\n",
    "from ipyradiant import LoadWidget\n",
    "from rdflib import Graph\n",
    "from requests_cache import CachedSession\n",
    "\n",
    "with importnb.Notebook():\n",
    "    try:\n",
    "        from Datashader_Example import ds_example, W\n",
    "    except ImportError:\n",
    "        from .Datashader_Example import ds_example, W"
   ]
  },
  {
   "cell_type": "markdown",
   "metadata": {},
   "source": [
    "This notebook is used as part of the `ipyradiant` test suite, where `IPYRADIANT_TESTING`\n",
    "will be set, which will trigger the automted section below."
   ]
  },
  {
   "cell_type": "code",
   "execution_count": null,
   "metadata": {},
   "outputs": [],
   "source": [
    "IS_TESTING = json.loads(os.environ.get(\"IPYRADIANT_TESTING\", \"false\"))\n",
    "IS_TESTING"
   ]
  },
  {
   "cell_type": "markdown",
   "metadata": {},
   "source": [
    "Example data is loaded from [schema.org](https://schema.org/docs/developers.html)."
   ]
  },
  {
   "cell_type": "code",
   "execution_count": null,
   "metadata": {},
   "outputs": [],
   "source": [
    "TEST_URL = \"https://raw.githubusercontent.com/schemaorg/schemaorg/v9.0-release/data/releases/8.0/schema.{fmt}\""
   ]
  },
  {
   "cell_type": "markdown",
   "metadata": {},
   "source": [
    "Tests are implemented as buttons you can click."
   ]
  },
  {
   "cell_type": "code",
   "execution_count": null,
   "metadata": {},
   "outputs": [],
   "source": [
    "loader = LoadWidget()"
   ]
  },
  {
   "cell_type": "code",
   "execution_count": null,
   "metadata": {},
   "outputs": [],
   "source": [
    "tests = [W.Button(description=f\"{fmt}\") for fmt in [\"ttl\", \"nt\", \"rdf\"]]\n",
    "ds_example.layout.width = \"100%\""
   ]
  },
  {
   "cell_type": "code",
   "execution_count": null,
   "metadata": {},
   "outputs": [],
   "source": [
    "timings = {}\n",
    "\n",
    "\n",
    "def timestamp(key, msg):\n",
    "    if key not in timings:\n",
    "        timings[key] = []\n",
    "    timings[key] += [time.time()]\n",
    "    delta = 0 if len(timings[key]) == 1 else timings[key][-1] - timings[key][-2]\n",
    "    print(f\"[{key}]\", f\"+{int(delta)}\", msg)"
   ]
  },
  {
   "cell_type": "code",
   "execution_count": null,
   "metadata": {},
   "outputs": [],
   "source": [
    "def _run_test(btn):\n",
    "    session = CachedSession(\".cache\")\n",
    "    fmt = btn.description\n",
    "\n",
    "    try:\n",
    "        timestamp(fmt, \"starting...\")\n",
    "        ds_example.graph = Graph()\n",
    "        timestamp(fmt, \"cleaned...\")\n",
    "        assert ds_example.ds.output_graph == None\n",
    "        url = TEST_URL.format(fmt=fmt)\n",
    "        timestamp(fmt, f\"fetching {url}...\")\n",
    "        response = session.get(url)\n",
    "        timestamp(fmt, f\"... response: {response.status_code}\")\n",
    "        assert response.status_code == 200\n",
    "        timestamp(fmt, f\"... {len(response.text)} bytes\")\n",
    "        timestamp(fmt, f\"loading...\")\n",
    "        loader.load_box.file_upload_value = {\n",
    "            Path(url).name: {\n",
    "                \"metadata\": {\"length\": len(response.text)},\n",
    "                \"content\": response.text,\n",
    "            }\n",
    "        }\n",
    "        timestamp(fmt, f\"... {len(loader.graph)} triples loaded\")\n",
    "        ds_example.graph = loader.graph\n",
    "        assert len(ds_example.ds.output_graph) > 0\n",
    "        timestamp(fmt, \"OK!\")\n",
    "    except Exception as err:\n",
    "        timestamp(fmt, \"ERROR\")\n",
    "        timestamp(fmt, err)\n",
    "        raise Exception(\"fmt failed\") from err\n",
    "\n",
    "\n",
    "[d.on_click(_run_test) for d in tests]"
   ]
  },
  {
   "cell_type": "markdown",
   "metadata": {},
   "source": [
    "# Show the test application"
   ]
  },
  {
   "cell_type": "code",
   "execution_count": null,
   "metadata": {},
   "outputs": [],
   "source": [
    "W.VBox([ds_example, W.HBox([W.Label(\"Start Test\"), *tests])])"
   ]
  },
  {
   "cell_type": "markdown",
   "metadata": {},
   "source": [
    "## (Maybe) Run the test automatically"
   ]
  },
  {
   "cell_type": "code",
   "execution_count": null,
   "metadata": {},
   "outputs": [],
   "source": [
    "if IS_TESTING:\n",
    "    for test in tests:\n",
    "        test.click()"
   ]
  }
 ],
 "metadata": {
  "kernelspec": {
   "display_name": "Python 3",
   "language": "python",
   "name": "python3"
  },
  "language_info": {
   "codemirror_mode": {
    "name": "ipython",
    "version": 3
   },
   "file_extension": ".py",
   "mimetype": "text/x-python",
   "name": "python",
   "nbconvert_exporter": "python",
   "pygments_lexer": "ipython3",
   "version": "3.7.8"
  }
 },
 "nbformat": 4,
 "nbformat_minor": 4
}
