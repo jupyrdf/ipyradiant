{
 "cells": [
  {
   "cell_type": "markdown",
   "metadata": {},
   "source": [
    "# A Test for the Datashader Application\n",
    "\n",
    "This uses [importnb](https://pypi.org/project/importnb) to run the\n",
    "[Datashader_Example](./Datashader_Example.ipynb) notebook."
   ]
  },
  {
   "cell_type": "code",
   "execution_count": null,
   "metadata": {},
   "outputs": [],
   "source": [
    "import json\n",
    "import os\n",
    "import time\n",
    "from pathlib import Path\n",
    "\n",
    "import importnb\n",
    "from ipyradiant import FileManager, PathLoader\n",
    "from rdflib import Graph\n",
    "\n",
    "with importnb.Notebook():\n",
    "    try:\n",
    "        from .Datashader_Example import ds_ex, ds, ls, sn, W, T\n",
    "    except ImportError:\n",
    "        from Datashader_Example import ds_ex, ds, ls, sn, W, T"
   ]
  },
  {
   "cell_type": "markdown",
   "metadata": {},
   "source": [
    "This notebook is used as part of the `ipyradiant` test suite, where `IPYRADIANT_TESTING`\n",
    "will be set, which will trigger the automted section below."
   ]
  },
  {
   "cell_type": "code",
   "execution_count": null,
   "metadata": {},
   "outputs": [],
   "source": [
    "IS_TESTING = json.loads(os.environ.get(\"IPYRADIANT_TESTING\", \"false\"))\n",
    "IS_TESTING"
   ]
  },
  {
   "cell_type": "markdown",
   "metadata": {},
   "source": [
    "Tests are implemented as buttons you can click."
   ]
  },
  {
   "cell_type": "code",
   "execution_count": null,
   "metadata": {},
   "outputs": [],
   "source": [
    "pl = PathLoader(path=\"data\")\n",
    "fm = FileManager(loader=pl)\n",
    "T.link((pl, \"graph\"), (ds, \"graph\"))"
   ]
  },
  {
   "cell_type": "code",
   "execution_count": null,
   "metadata": {},
   "outputs": [],
   "source": [
    "tests = [W.Button(description=f\"{k}\") for k, v in pl.file_picker.options.items() if v]"
   ]
  },
  {
   "cell_type": "code",
   "execution_count": null,
   "metadata": {},
   "outputs": [],
   "source": [
    "timings = {}\n",
    "\n",
    "\n",
    "def timestamp(key, msg):\n",
    "    if key not in timings:\n",
    "        timings[key] = []\n",
    "    timings[key] += [time.time()]\n",
    "    delta = 0 if len(timings[key]) == 1 else timings[key][-1] - timings[key][-2]\n",
    "    print(f\"[{key}]\", f\"+{int(delta)}\", msg)"
   ]
  },
  {
   "cell_type": "code",
   "execution_count": null,
   "metadata": {},
   "outputs": [],
   "source": [
    "def _run_test(btn):\n",
    "    p = btn.description\n",
    "\n",
    "    try:\n",
    "        timestamp(p, \"starting...\")\n",
    "        fm.graph = Graph()\n",
    "        timestamp(p, \"cleaned...\")\n",
    "        assert ds.output_graph == None\n",
    "        timestamp(p, f\"loading...\")\n",
    "        pl.file_picker.value = pl.file_picker.options[p]\n",
    "        timestamp(p, f\"... {len(fm.graph)} triples loaded\")\n",
    "        assert len(ds.output_graph) > 0\n",
    "        timestamp(p, \"OK!\")\n",
    "    except Exception as err:\n",
    "        timestamp(p, \"ERROR\")\n",
    "        timestamp(p, err)\n",
    "        raise Exception(f\"{p} failed\") from err\n",
    "\n",
    "\n",
    "[d.on_click(_run_test) for d in tests]"
   ]
  },
  {
   "cell_type": "markdown",
   "metadata": {},
   "source": [
    "# Show the test application"
   ]
  },
  {
   "cell_type": "code",
   "execution_count": null,
   "metadata": {},
   "outputs": [],
   "source": [
    "W.VBox([ds_ex, W.HBox([W.Label(\"Start Test\"), *tests])])"
   ]
  },
  {
   "cell_type": "markdown",
   "metadata": {},
   "source": [
    "## (Maybe) Run the test automatically"
   ]
  },
  {
   "cell_type": "code",
   "execution_count": null,
   "metadata": {},
   "outputs": [],
   "source": [
    "if IS_TESTING:\n",
    "    for test in tests:\n",
    "        test.click()"
   ]
  }
 ],
 "metadata": {
  "kernelspec": {
   "display_name": "Python 3",
   "language": "python",
   "name": "python3"
  },
  "language_info": {
   "codemirror_mode": {
    "name": "ipython",
    "version": 3
   },
   "file_extension": ".py",
   "mimetype": "text/x-python",
   "name": "python",
   "nbconvert_exporter": "python",
   "pygments_lexer": "ipython3",
   "version": "3.7.8"
  }
 },
 "nbformat": 4,
 "nbformat_minor": 4
}
