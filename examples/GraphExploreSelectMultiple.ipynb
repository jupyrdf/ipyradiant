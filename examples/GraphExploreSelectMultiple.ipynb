{
 "cells": [
  {
   "cell_type": "markdown",
   "metadata": {},
   "source": [
    "## Library Widget for Graph Exploration\n",
    "\n",
    "In this early example, we are demonstrating the ability to populate an initial LPG graph\n",
    "(networkx) using the `GraphExploreSelectMultiple` widget. This widget uses a custom\n",
    "`SelectMultipleURI` UI widget in order to display pithy URIs, while tracking URIRefs\n",
    "(via `rdflib`). The type selection passes the URI values to the subject select portion\n",
    "of the widget; this uses a\n",
    "[metaclass to update a SPARQL query](SPARQL_Metaclass_Queries.ipynb) in order to\n",
    "populate options.\n",
    "\n",
    "Check out the [GraphExplorer example](GraphExplorer.ipynb) to see the `GraphExploreSelectMultiple` widget connected directly to\n",
    "an LPG graph visualization widget.\n",
    "\n",
    "> Note: There is a related `GraphExploreSelect` widget for when the desired behavior is to select only a single node"
   ]
  },
  {
   "cell_type": "markdown",
   "metadata": {},
   "source": [
    "### Load an RDF graph\n",
    "\n",
    "In this example, we will use the `ipyradiant` `FileManager`."
   ]
  },
  {
   "cell_type": "code",
   "execution_count": null,
   "metadata": {},
   "outputs": [],
   "source": [
    "from ipyradiant import FileManager, PathLoader\n",
    "\n",
    "lw = FileManager(loader=PathLoader(path=\"data\"))\n",
    "# here we hard set what we want the file to be, but ideally a user can choose a file to work with.\n",
    "lw.loader.file_picker.value = lw.loader.file_picker.options[\"starwars.ttl\"]\n",
    "lw"
   ]
  },
  {
   "cell_type": "markdown",
   "metadata": {},
   "source": [
    "### GraphExploreSelectMultiple\n",
    "\n",
    "This widget allows the user to select Nodes to populate an initial LPG graph. The nodes\n",
    "are first filtered by their `rdf:type`, and then selected from the subjects available in\n",
    "the loaded graph."
   ]
  },
  {
   "cell_type": "code",
   "execution_count": null,
   "metadata": {},
   "outputs": [],
   "source": [
    "from ipyradiant.visualization.explore import GraphExploreSelectMultiple\n",
    "\n",
    "ge_selector = GraphExploreSelectMultiple()\n",
    "ge_selector.graph = lw.graph\n",
    "ge_selector"
   ]
  },
  {
   "cell_type": "markdown",
   "metadata": {},
   "source": [
    "For the example, we will automatically select:\n",
    "\n",
    "1. Available types: `voc:Droid`, `voc:Film`\n",
    "2. Available subjects: `A New Hope`, `C-3PO`, `R2-D2`"
   ]
  },
  {
   "cell_type": "code",
   "execution_count": null,
   "metadata": {},
   "outputs": [],
   "source": [
    "from rdflib import URIRef\n",
    "\n",
    "# this sets our selection in the widget so that we don't have to click manually\n",
    "# CAPS vars are used for testing\n",
    "TSSW_VALUES = (\n",
    "    URIRef(\"https://swapi.co/vocabulary/Droid\"),\n",
    "    URIRef(\"https://swapi.co/vocabulary/Film\"),\n",
    ")\n",
    "LEN_TSSW_VALUES = len(TSSW_VALUES)\n",
    "ge_selector.type_select.select_widget.value = TSSW_VALUES\n",
    "\n",
    "SSSW_VALUES = (\n",
    "    URIRef(\"https://swapi.co/resource/film/1\"),\n",
    "    URIRef(\"https://swapi.co/resource/droid/2\"),\n",
    "    URIRef(\"https://swapi.co/resource/droid/3\"),\n",
    ")\n",
    "LEN_SSSW_VALUES = len(SSSW_VALUES)\n",
    "ge_selector.subject_select.select_widget.value = SSSW_VALUES"
   ]
  },
  {
   "cell_type": "code",
   "execution_count": null,
   "metadata": {},
   "outputs": [],
   "source": [
    "# Run this to show the selected values from the subject select widget\n",
    "ge_selector.subject_select.select_widget.value"
   ]
  },
  {
   "cell_type": "markdown",
   "metadata": {},
   "source": [
    "The following cell shows how you can use the SelectMultipleURI method `get_pithy_uri` to\n",
    "return the (e.g. `CustomURI`) URI classes for the selected subjects."
   ]
  },
  {
   "cell_type": "code",
   "execution_count": null,
   "metadata": {},
   "outputs": [],
   "source": [
    "sssw = ge_selector.subject_select.select_widget\n",
    "tuple(map(sssw.get_pithy_uri, sssw.value))"
   ]
  },
  {
   "cell_type": "markdown",
   "metadata": {},
   "source": [
    "Let's make sure that the selections are what we expect."
   ]
  },
  {
   "cell_type": "code",
   "execution_count": null,
   "metadata": {},
   "outputs": [],
   "source": [
    "EXPECTED_SELECTIONS = {\n",
    "    URIRef(\"https://swapi.co/resource/droid/2\"),\n",
    "    URIRef(\"https://swapi.co/resource/film/1\"),\n",
    "    URIRef(\"https://swapi.co/resource/droid/3\"),\n",
    "}\n",
    "assert (\n",
    "    set(sssw.value) == EXPECTED_SELECTIONS\n",
    "), \"Make sure to select the correct items for the example.\""
   ]
  }
 ],
 "metadata": {
  "kernelspec": {
   "display_name": "Python 3",
   "language": "python",
   "name": "python3"
  },
  "language_info": {
   "codemirror_mode": {
    "name": "ipython",
    "version": 3
   },
   "file_extension": ".py",
   "mimetype": "text/x-python",
   "name": "python",
   "nbconvert_exporter": "python",
   "pygments_lexer": "ipython3",
   "version": "3.7.10"
  }
 },
 "nbformat": 4,
 "nbformat_minor": 4
}
