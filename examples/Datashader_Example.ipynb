{
 "cells": [
  {
   "cell_type": "markdown",
   "metadata": {},
   "source": [
    "# Visualizing Large Graphs with Datashader\n",
    "\n",
    "`DatashaderVisualizer` is capable of responsively showing very large graphs, but is less\n",
    "interactive than the [CytoscapeVisualizer](./Cytoscape_Example.ipynb)."
   ]
  },
  {
   "cell_type": "code",
   "execution_count": null,
   "metadata": {},
   "outputs": [],
   "source": [
    "import traitlets as T\n",
    "\n",
    "import ipywidgets as W\n",
    "from ipyradiant import DatashaderVisualizer, LayoutSelector\n",
    "from rdflib import Graph"
   ]
  },
  {
   "cell_type": "markdown",
   "metadata": {},
   "source": [
    "Here a `DatashaderVisualizer` is linked to a to show largest dataset from the\n",
    "[example data](./data/README.md). The `LayoutSelector` changes the layout algorithm\n",
    "used. A small `HTML` widget also reports which nodes are selected. Try exploring the\n",
    "various tools offered in the toolbar."
   ]
  },
  {
   "cell_type": "code",
   "execution_count": null,
   "metadata": {},
   "outputs": [],
   "source": [
    "g = Graph().parse(\"data/tree.jsonld\", format=\"json-ld\")\n",
    "ds = DatashaderVisualizer(graph=g)\n",
    "ls = LayoutSelector(vis=ds)\n",
    "sn = W.HTML()\n",
    "T.dlink(\n",
    "    (ds, \"selected_nodes\"),\n",
    "    (sn, \"value\"),\n",
    "    lambda n: \"Selected Nodes: <pre>{}</pre>\".format(\"\\n\".join(sorted(n))),\n",
    ")\n",
    "ds_ex = W.HBox([ds, W.VBox([ls, sn])])\n",
    "ds_ex"
   ]
  }
 ],
 "metadata": {
  "kernelspec": {
   "display_name": "Python 3",
   "language": "python",
   "name": "python3"
  },
  "language_info": {
   "codemirror_mode": {
    "name": "ipython",
    "version": 3
   },
   "file_extension": ".py",
   "mimetype": "text/x-python",
   "name": "python",
   "nbconvert_exporter": "python",
   "pygments_lexer": "ipython3",
   "version": "3.7.8"
  }
 },
 "nbformat": 4,
 "nbformat_minor": 4
}
