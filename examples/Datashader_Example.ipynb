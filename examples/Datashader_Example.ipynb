{
 "cells": [
  {
   "cell_type": "markdown",
   "metadata": {},
   "source": [
    "# Basic Datashader Example"
   ]
  },
  {
   "cell_type": "code",
   "execution_count": null,
   "metadata": {},
   "outputs": [],
   "source": [
    "import traitlets as T\n",
    "\n",
    "import ipywidgets as W\n",
    "from ipyradiant import DatashaderVisualizer, LayoutSelector\n",
    "from rdflib import Graph\n",
    "from requests_cache import CachedSession"
   ]
  },
  {
   "cell_type": "code",
   "execution_count": null,
   "metadata": {},
   "outputs": [],
   "source": [
    "session = CachedSession(\".cache\")"
   ]
  },
  {
   "cell_type": "markdown",
   "metadata": {},
   "source": [
    "Here we are creating a DatashaderExample class (subclass of ipywidgets VBox) to display\n",
    "the datashader image. We also attach a VisSelector widget (found in tools.py), which is\n",
    "used to change the layout of the graph via traitlets linking."
   ]
  },
  {
   "cell_type": "code",
   "execution_count": null,
   "metadata": {},
   "outputs": [],
   "source": [
    "class DatashaderExample(W.VBox):\n",
    "    ds = T.Instance(DatashaderVisualizer)\n",
    "    vs = T.Instance(LayoutSelector)\n",
    "    graph = T.Instance(Graph, allow_none=True)\n",
    "\n",
    "    def __init__(self, *args, **kwargs):\n",
    "        super().__init__(*args, **kwargs)\n",
    "        T.link((self, \"graph\"), (self.ds, \"graph\"))\n",
    "        T.link((self, \"ds\"), (self.vs, \"vis\"))\n",
    "        self.children = [self.vs, self.ds]\n",
    "\n",
    "    @T.default(\"graph\")\n",
    "    def _make_default_graph(self):\n",
    "        rdf_graph = Graph()\n",
    "        full_graph = rdf_graph.parse(\n",
    "            data=session.get(\n",
    "                \"https://raw.githubusercontent.com/schemaorg/schemaorg/v9.0-release/data/releases/8.0/schema.nt\"\n",
    "            ).text,\n",
    "            format=\"nt\",\n",
    "        )\n",
    "        return full_graph\n",
    "\n",
    "    @T.default(\"ds\")\n",
    "    def _make_default_ds(self):\n",
    "        return DatashaderVisualizer()\n",
    "\n",
    "    @T.default(\"vs\")\n",
    "    def _make_default_vs(self):\n",
    "        return LayoutSelector()"
   ]
  },
  {
   "cell_type": "markdown",
   "metadata": {},
   "source": [
    "The widget is displayed below, with the VisSelector included."
   ]
  },
  {
   "cell_type": "code",
   "execution_count": null,
   "metadata": {},
   "outputs": [],
   "source": [
    "ds_example = DatashaderExample()\n",
    "ds_example"
   ]
  },
  {
   "cell_type": "markdown",
   "metadata": {},
   "source": [
    "With the DatashaderVis class, we are able to access the selected_nodes attribute. This\n",
    "is updated every time a node is either clicked on or if a box is drawn over a group of\n",
    "nodes. The value is automatically updated with the URIRefs of the nodes selected."
   ]
  },
  {
   "cell_type": "code",
   "execution_count": null,
   "metadata": {},
   "outputs": [],
   "source": [
    "ds_example.ds.selected_nodes"
   ]
  }
 ],
 "metadata": {
  "kernelspec": {
   "display_name": "Python 3",
   "language": "python",
   "name": "python3"
  },
  "language_info": {
   "codemirror_mode": {
    "name": "ipython",
    "version": 3
   },
   "file_extension": ".py",
   "mimetype": "text/x-python",
   "name": "python",
   "nbconvert_exporter": "python",
   "pygments_lexer": "ipython3",
   "version": "3.7.8"
  }
 },
 "nbformat": 4,
 "nbformat_minor": 4
}
