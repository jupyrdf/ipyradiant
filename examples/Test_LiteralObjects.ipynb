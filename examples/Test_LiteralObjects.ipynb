{
 "cells": [
  {
   "cell_type": "code",
   "execution_count": null,
   "metadata": {},
   "outputs": [],
   "source": [
    "import unittest\n",
    "from ipyradiant import MultiPanelSelect, PathLoader, FileManager, ObjectLiteralApp, CustomURIRef\n",
    "from rdflib import URIRef, Graph"
   ]
  },
  {
   "cell_type": "markdown",
   "metadata": {},
   "source": [
    "### Start by writing some very basic unittests to test out this application."
   ]
  },
  {
   "cell_type": "code",
   "execution_count": null,
   "metadata": {},
   "outputs": [],
   "source": [
    "class Testing(unittest.TestCase):\n",
    "    namespaces = {'ex':'www.example.org/'}\n",
    "    graph = Graph()\n",
    "\n",
    "    def __init__(self, *args, **kwargs):\n",
    "        super(Testing, self).__init__(*args, **kwargs)\n",
    "        for key, value in self.namespaces.items():\n",
    "            self.graph.namespace_manager.bind(key, value)\n",
    "   \n",
    "    # start by testing functionality of CustomURIRef class\n",
    "    def test1(self):\n",
    "        custom = CustomURIRef(uri=URIRef('www.example.org/1'), namespaces = self.namespaces)\n",
    "        normal = URIRef('www.example.org/1')\n",
    "        self.assertEqual(custom, normal)\n",
    "        \n",
    "    def test2(self):\n",
    "        custom = str(CustomURIRef(uri=URIRef('www.example.org/1'), namespaces = self.namespaces))\n",
    "        normal = 'ex:1'\n",
    "        self.assertEqual(custom, normal)\n",
    "        \n",
    "    def test3(self):        \n",
    "        # now do similar stuff but with a NamespaceManager object instead...\n",
    "        custom = CustomURIRef(uri = URIRef('www.example.org/1'), namespaces = self.graph.namespace_manager)\n",
    "        normal = URIRef('www.example.org/1')\n",
    "        self.assertEqual(custom, normal)\n",
    "        \n",
    "    def test4(self):\n",
    "        custom = str(CustomURIRef(uri = URIRef('www.example.org/1'), namespaces = self.graph.namespace_manager))\n",
    "        normal = 'ex:1'\n",
    "        self.assertEqual(custom, normal)\n",
    "        \n",
    "    def test5(self):\n",
    "        custom = CustomURIRef(uri=URIRef('www.example.org/1'), namespaces = self.namespaces)\n",
    "        normal = URIRef('www.example.org/2')\n",
    "        self.assertNotEqual(custom,normal)\n",
    "        "
   ]
  },
  {
   "cell_type": "code",
   "execution_count": null,
   "metadata": {},
   "outputs": [],
   "source": [
    "if __name__ == '__main__':\n",
    "    unittest.main(argv=['first-arg-is-ignored'], exit=False)"
   ]
  }
 ],
 "metadata": {
  "kernelspec": {
   "display_name": "Python 3",
   "language": "python",
   "name": "python3"
  },
  "language_info": {
   "codemirror_mode": {
    "name": "ipython",
    "version": 3
   },
   "file_extension": ".py",
   "mimetype": "text/x-python",
   "name": "python",
   "nbconvert_exporter": "python",
   "pygments_lexer": "ipython3",
   "version": "3.7.8"
  }
 },
 "nbformat": 4,
 "nbformat_minor": 4
}
