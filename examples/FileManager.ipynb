{
 "cells": [
  {
   "cell_type": "markdown",
   "metadata": {},
   "source": [
    "# FileManager\n",
    "\n",
    "The `FileManager` widget handles the loading and parsing of graphs from files."
   ]
  },
  {
   "cell_type": "code",
   "execution_count": null,
   "metadata": {},
   "outputs": [],
   "source": [
    "import traitlets as T\n",
    "\n",
    "import ipywidgets as W\n",
    "import pandas as pd\n",
    "from ipyradiant import FileManager, PathLoader, UpLoader\n",
    "from ipyradiant.loader.util import SUFFIX_FORMAT_MAP"
   ]
  },
  {
   "cell_type": "code",
   "execution_count": null,
   "metadata": {},
   "outputs": [],
   "source": [
    "FileManager()"
   ]
  },
  {
   "cell_type": "markdown",
   "metadata": {},
   "source": [
    "## Loaders"
   ]
  },
  {
   "cell_type": "markdown",
   "metadata": {},
   "source": [
    "## UpLoader\n",
    "\n",
    "The default `UpLoader` wraps up the\n",
    "[FileUpload](https://ipywidgets.readthedocs.io/en/latest/examples/Widget%20List.html#File-Upload)\n",
    "widget, and limits the options to the [formats](#Formats) which `rdflib` (and plugins)\n",
    "can parse."
   ]
  },
  {
   "cell_type": "markdown",
   "metadata": {},
   "source": [
    "## PathLoader\n",
    "\n",
    "The `PathLoader` offers all of the parseable files in a given path, in this case the\n",
    "[example data](./data/README.md)."
   ]
  },
  {
   "cell_type": "code",
   "execution_count": null,
   "metadata": {},
   "outputs": [],
   "source": [
    "FileManager(loader=PathLoader(path=\"data\"))"
   ]
  },
  {
   "cell_type": "markdown",
   "metadata": {},
   "source": [
    "## Formats"
   ]
  },
  {
   "cell_type": "markdown",
   "metadata": {},
   "source": [
    "The `FileManager` accepts a number of\n",
    "[formats](https://rdflib.readthedocs.io/en/stable/intro_to_parsing.html):"
   ]
  },
  {
   "cell_type": "code",
   "execution_count": null,
   "metadata": {},
   "outputs": [],
   "source": [
    "columns = [\"file extension\", \"format\"]\n",
    "pd.DataFrame(SUFFIX_FORMAT_MAP.items(), columns=columns).sort_values(\n",
    "    columns[::-1]\n",
    ").set_index([\"format\"]).stack().apply(pd.Series)"
   ]
  }
 ],
 "metadata": {
  "kernelspec": {
   "display_name": "Python 3",
   "language": "python",
   "name": "python3"
  },
  "language_info": {
   "codemirror_mode": {
    "name": "ipython",
    "version": 3
   },
   "file_extension": ".py",
   "mimetype": "text/x-python",
   "name": "python",
   "nbconvert_exporter": "python",
   "pygments_lexer": "ipython3",
   "version": "3.7.8"
  }
 },
 "nbformat": 4,
 "nbformat_minor": 4
}
