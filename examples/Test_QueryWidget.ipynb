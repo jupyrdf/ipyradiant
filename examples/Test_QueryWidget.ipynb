{
 "cells": [
  {
   "cell_type": "markdown",
   "metadata": {},
   "source": [
    "# A Test for the Query Widget\n",
    "\n",
    "This uses [importnb](https://pypi.org/project/importnb) to load the\n",
    "[Query Widget Example](./QueryWidget.ipynb) for interactive and automated testing."
   ]
  },
  {
   "cell_type": "code",
   "execution_count": null,
   "metadata": {},
   "outputs": [],
   "source": [
    "import json\n",
    "import os\n",
    "import time\n",
    "from pathlib import Path\n",
    "\n",
    "import importnb\n",
    "import ipywidgets as W\n",
    "from rdflib import Graph\n",
    "from requests_cache import CachedSession\n",
    "\n",
    "with importnb.Notebook():\n",
    "    try:\n",
    "        from QueryWidget import lw, qw\n",
    "    except ImportError:\n",
    "        from .QueryWidget import lw, qw"
   ]
  },
  {
   "cell_type": "code",
   "execution_count": null,
   "metadata": {},
   "outputs": [],
   "source": [
    "pl = lw.loader"
   ]
  },
  {
   "cell_type": "markdown",
   "metadata": {},
   "source": [
    "This notebook is used as part of the `ipyradiant` test suite, where `IPYRADIANT_TESTING`\n",
    "will be set, which will trigger the automted section below."
   ]
  },
  {
   "cell_type": "code",
   "execution_count": null,
   "metadata": {},
   "outputs": [],
   "source": [
    "IS_TESTING = json.loads(os.environ.get(\"IPYRADIANT_TESTING\", \"false\"))\n",
    "IS_TESTING"
   ]
  },
  {
   "cell_type": "markdown",
   "metadata": {},
   "source": [
    "Tests are implemented as buttons you can click."
   ]
  },
  {
   "cell_type": "code",
   "execution_count": null,
   "metadata": {},
   "outputs": [],
   "source": [
    "tests = [\n",
    "    W.Button(description=f\"{k}\")\n",
    "    for k, v in pl.file_picker.options.items()\n",
    "    if v and \"tree\" not in k\n",
    "]"
   ]
  },
  {
   "cell_type": "code",
   "execution_count": null,
   "metadata": {},
   "outputs": [],
   "source": [
    "timings = {}\n",
    "\n",
    "\n",
    "def timestamp(key, msg):\n",
    "    if key not in timings:\n",
    "        timings[key] = []\n",
    "    timings[key] += [time.time()]\n",
    "    delta = 0 if len(timings[key]) == 1 else timings[key][-1] - timings[key][-2]\n",
    "    print(f\"[{key}]\", f\"+{int(delta)}\", msg)"
   ]
  },
  {
   "cell_type": "code",
   "execution_count": null,
   "metadata": {},
   "outputs": [],
   "source": [
    "TEST_QUERY = \"\"\"\\\n",
    "SELECT DISTINCT ?s ?p ?o\n",
    "WHERE {\n",
    "    ?s ?p ?o .\n",
    "}\n",
    "LIMIT 5\n",
    "\"\"\""
   ]
  },
  {
   "cell_type": "markdown",
   "metadata": {},
   "source": [
    "#### TODO:\n",
    "* [ ] Test the ability to collapse namespaces in the query results grid\n",
    "* [ ] Test the cases where the query returns nothing, hits a parse exception, hits a namespace exception, etc."
   ]
  },
  {
   "cell_type": "code",
   "execution_count": null,
   "metadata": {},
   "outputs": [],
   "source": [
    "def _run_test(btn):\n",
    "    p = btn.description\n",
    "\n",
    "    try:\n",
    "        timestamp(p, \"starting...\")\n",
    "        qw.graph = Graph()\n",
    "        timestamp(p, \"cleaned...\")\n",
    "        timestamp(p, f\"loading...\")\n",
    "        pl.file_picker.value = pl.file_picker.options[p]\n",
    "        timestamp(p, f\"... {len(pl.graph)} triples loaded\")\n",
    "        assert len(pl.graph)\n",
    "        qw.graph = pl.graph\n",
    "        timestamp(p, \"querying...\")\n",
    "        qw.query = TEST_QUERY\n",
    "        qw.run_button.click()\n",
    "        assert len(qw.query_result) > 0, \"Failed to execute query.\"\n",
    "        timestamp(p, \"OK!\")\n",
    "    except Exception as err:\n",
    "        timestamp(p, \"ERROR\")\n",
    "        timestamp(p, err)\n",
    "        raise Exception(f\"{p} failed\") from err\n",
    "\n",
    "\n",
    "[d.on_click(_run_test) for d in tests]"
   ]
  },
  {
   "cell_type": "markdown",
   "metadata": {},
   "source": [
    "## Show the Test Application"
   ]
  },
  {
   "cell_type": "code",
   "execution_count": null,
   "metadata": {},
   "outputs": [],
   "source": [
    "W.VBox([qw, W.HBox([W.Label(\"Start Test\"), *tests])])"
   ]
  },
  {
   "cell_type": "markdown",
   "metadata": {},
   "source": [
    "## (Maybe) Run the test automatically"
   ]
  },
  {
   "cell_type": "code",
   "execution_count": null,
   "metadata": {},
   "outputs": [],
   "source": [
    "if IS_TESTING:\n",
    "    for test in tests:\n",
    "        test.click()"
   ]
  }
 ],
 "metadata": {
  "kernelspec": {
   "display_name": "Python 3",
   "language": "python",
   "name": "python3"
  },
  "language_info": {
   "codemirror_mode": {
    "name": "ipython",
    "version": 3
   },
   "file_extension": ".py",
   "mimetype": "text/x-python",
   "name": "python",
   "nbconvert_exporter": "python",
   "pygments_lexer": "ipython3",
   "version": "3.7.10"
  }
 },
 "nbformat": 4,
 "nbformat_minor": 4
}
