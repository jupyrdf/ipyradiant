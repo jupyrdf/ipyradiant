{
 "cells": [
  {
   "cell_type": "markdown",
   "metadata": {},
   "source": [
    "# Federated Query Examples"
   ]
  },
  {
   "cell_type": "markdown",
   "metadata": {},
   "source": [
    "This notebook demonstrates Federated querying capabilities using `rdflib` and `SERVICE`"
   ]
  },
  {
   "cell_type": "code",
   "execution_count": null,
   "metadata": {},
   "outputs": [],
   "source": [
    "from rdflib import Graph, Literal, URIRef, namespace\n",
    "\n",
    "import ipyradiant"
   ]
  },
  {
   "cell_type": "markdown",
   "metadata": {},
   "source": [
    "> Note: Federated Queries in this notebook work with wikidata endpoints and not with\n",
    "> linkeddata endpoints"
   ]
  },
  {
   "cell_type": "markdown",
   "metadata": {},
   "source": [
    "### Run a Federated Query using `rdflib` on a remote SPARQL endpoint"
   ]
  },
  {
   "cell_type": "markdown",
   "metadata": {},
   "source": [
    "In the following example, we query a remote graph from the SPARQL endpoint:\n",
    "https://query.wikidata.org/sparql. We validate the query string using the service_patch\n",
    "as described in the <a href=\"examples/RemoteQuery_Example.ipynb\">Remote Query\n",
    "Examples</a> notebook. The output of the query is a list of items of the matched results\n",
    "and limits the output to the top 5."
   ]
  },
  {
   "cell_type": "code",
   "execution_count": null,
   "metadata": {},
   "outputs": [],
   "source": [
    "graph = Graph()\n",
    "query_str = \"\"\"\n",
    "    PREFIX wd: <http://www.wikidata.org/entity/>\n",
    "    PREFIX wdt: <http://www.wikidata.org/prop/direct/>\n",
    "    PREFIX wikibase: <http://wikiba.se/ontology#>\n",
    "    PREFIX bd: <http://www.bigdata.com/rdf#>\n",
    "    SELECT ?item\n",
    "    WHERE {\n",
    "        SERVICE <https://query.wikidata.org/sparql>\n",
    "        {\n",
    "            SELECT ?item\n",
    "            WHERE {\n",
    "                ?item wdt:P31 wd:Q146 .\n",
    "            }\n",
    "            LIMIT 5\n",
    "        }\n",
    "    }\n",
    "\"\"\"\n",
    "res = graph.query(ipyradiant.service_patch_rdflib(query_str))\n",
    "list(res)"
   ]
  },
  {
   "cell_type": "markdown",
   "metadata": {},
   "source": [
    "The power of using federated queries allows for more flexibility of data queries and\n",
    "data integration to in-memory graphs. If we think about a simple use such as Google, the\n",
    "website essentially aggregates data from various sources and combines that into one UI\n",
    "where it is presented to the user. Federated queries allows the capability to gather\n",
    "knowledge from distributed sources aggregated into a single query result."
   ]
  },
  {
   "cell_type": "markdown",
   "metadata": {},
   "source": [
    "### Query an in-memory graph and a remote graph"
   ]
  },
  {
   "cell_type": "markdown",
   "metadata": {},
   "source": [
    "This example shows a powerful way to use remote SPAQRL endpoints and federated queries\n",
    "by combining data from remote graphs to an existing in-memory graph. This capability\n",
    "expands the breadth of data sources and allows for more flexibilty for users."
   ]
  },
  {
   "cell_type": "markdown",
   "metadata": {},
   "source": [
    "Here we create a single triple that will be used as our in-memory graph:"
   ]
  },
  {
   "cell_type": "code",
   "execution_count": null,
   "metadata": {},
   "outputs": [],
   "source": [
    "graph = Graph()\n",
    "graph.add(\n",
    "    (\n",
    "        URIRef(\"http://www.wikidata.org/entity/Q378619\"),\n",
    "        URIRef(\"http://www.example.org/ExamplePredicate\"),\n",
    "        URIRef(\"http://www.example.org/ExampleObject\"),\n",
    "    )\n",
    ")\n",
    "list(graph)"
   ]
  },
  {
   "cell_type": "markdown",
   "metadata": {},
   "source": [
    "> Note: You can use parsed data as a local graph by:\n",
    "> `graph = Graph().parse(\"example.ttl\", format=\"ttl\")`"
   ]
  },
  {
   "cell_type": "markdown",
   "metadata": {},
   "source": [
    "Next we perform a federated query that returns the subject from the in-memory graph and\n",
    "a result from a service call to wikidata's sparql endpoint:"
   ]
  },
  {
   "cell_type": "markdown",
   "metadata": {},
   "source": [
    "> Note the DISTINCT on the first SELECT. Without this specification, the output results\n",
    "> contain duplicates"
   ]
  },
  {
   "cell_type": "markdown",
   "metadata": {},
   "source": [
    "In this next example, we are supplementing a remote graph with local data and return the\n",
    "results:"
   ]
  },
  {
   "cell_type": "code",
   "execution_count": null,
   "metadata": {},
   "outputs": [],
   "source": [
    "# goal is for results to include local data and remote data\n",
    "query_str = \"\"\"\n",
    "    PREFIX wd: <http://www.wikidata.org/entity/>\n",
    "    PREFIX wdt: <http://www.wikidata.org/prop/direct/>\n",
    "    PREFIX wikibase: <http://wikiba.se/ontology#>\n",
    "    PREFIX bd: <http://www.bigdata.com/rdf#>\n",
    "    SELECT DISTINCT ?s ?p ?o\n",
    "    WHERE {\n",
    "        BIND(?item as ?s)\n",
    "        ?s ?p ?o.\n",
    "        \n",
    "        service <https://query.wikidata.org/sparql>\n",
    "        {\n",
    "            SELECT ?item\n",
    "            WHERE {\n",
    "                ?item wdt:P31 wd:Q146 .\n",
    "            }\n",
    "        }\n",
    "    }\n",
    "\"\"\"\n",
    "res = graph.query(query_str)\n",
    "list(res)"
   ]
  },
  {
   "cell_type": "markdown",
   "metadata": {},
   "source": [
    "In this example, we are supplementing our local graph with data returned from the\n",
    "wikidata endpoint. To make the results more interesting, we returned entities of 'cloned\n",
    "cat' and 'chat clone' in english and french:"
   ]
  },
  {
   "cell_type": "code",
   "execution_count": null,
   "metadata": {},
   "outputs": [],
   "source": [
    "query_str = \"\"\"\n",
    "    PREFIX wd: <http://www.wikidata.org/entity/>\n",
    "    PREFIX wdt: <http://www.wikidata.org/prop/direct/>\n",
    "    PREFIX wikibase: <http://wikiba.se/ontology#>\n",
    "    PREFIX bd: <http://www.bigdata.com/rdf#>\n",
    "    SELECT ?s ?p_remote ?o_remote\n",
    "    WHERE {     \n",
    "        ?s ?p ?o.\n",
    "            \n",
    "        service <https://query.wikidata.org/sparql>\n",
    "        {\n",
    "            SELECT ?p_remote ?o_remote\n",
    "            WHERE {\n",
    "                BIND(<http://schema.org/description> as ?p_remote)\n",
    "                ?s ?p_remote ?o_remote .\n",
    "                FILTER(LANG(?o_remote)=?languages)\n",
    "                VALUES(?languages){('en')('fr')}\n",
    "            }\n",
    "        }\n",
    "    \n",
    "    }\n",
    "\"\"\"\n",
    "res = graph.query(query_str)\n",
    "list(res)"
   ]
  },
  {
   "cell_type": "markdown",
   "metadata": {},
   "source": [
    "### Broken Example: Query two remote endpoints"
   ]
  },
  {
   "cell_type": "markdown",
   "metadata": {},
   "source": [
    "This example attempts to show a way to run two parallel service queries using rdflib.\n",
    "There is an issue with the way the results are aggregated at the end. Overall, there may\n",
    "not be a way to do this easily:"
   ]
  },
  {
   "cell_type": "code",
   "execution_count": null,
   "metadata": {},
   "outputs": [],
   "source": [
    "graph = Graph()\n",
    "query_str = \"\"\"\n",
    "    SELECT ?s\n",
    "    WHERE {\n",
    "        {\n",
    "            service <https://query.wikidata.org/sparql> \n",
    "            {\n",
    "                SELECT DISTINCT ?s\n",
    "                WHERE {?s ?p ?o}\n",
    "                LIMIT 4                \n",
    "            }\n",
    "       }\n",
    "          UNION\n",
    "       {\n",
    "             service <https://query.wikidata.org/sparql> \n",
    "            {\n",
    "                SELECT DISTINCT ?s\n",
    "                WHERE {?s ?p ?o}\n",
    "                LIMIT 4   \n",
    "                OFFSET 4\n",
    "            }\n",
    "       }\n",
    "    }\n",
    "\"\"\"\n",
    "res = graph.query(query_str)\n",
    "assert len(res) <= 8\n",
    "list(res)"
   ]
  },
  {
   "cell_type": "markdown",
   "metadata": {},
   "source": [
    "### Broken Example: Nested Service Calls using rdflib"
   ]
  },
  {
   "cell_type": "markdown",
   "metadata": {},
   "source": [
    "rdflib does not currently support nested service calls. The following is an example of\n",
    "what NOT to do when querying both an in-memory graph and a remote graph. This results in\n",
    "a RecursionError: maximum recursion depth exceeded:"
   ]
  },
  {
   "cell_type": "code",
   "execution_count": null,
   "metadata": {},
   "outputs": [],
   "source": [
    "query_str = \"\"\"\n",
    "PREFIX wd: <http://www.wikidata.org/entity/>\n",
    "PREFIX wdt: <http://www.wikidata.org/prop/direct/>\n",
    "PREFIX wikibase: <http://wikiba.se/ontology#>\n",
    "PREFIX bd: <http://www.bigdata.com/rdf#>\n",
    "\n",
    "SELECT ?item1 ?item2\n",
    "WHERE {\n",
    "    \n",
    "    service <https://query.wikidata.org/sparql> \n",
    "    {\n",
    "        SELECT ?item1 ?item2\n",
    "        WHERE \n",
    "        {\n",
    "        \n",
    "          ?item1 wdt:P31 wd:Q146 .\n",
    "          \n",
    "          service <https://query.wikidata.org/sparql>\n",
    "          { \n",
    "            SELECT ?item2\n",
    "            WHERE {\n",
    "                ?item2 wdt:P31 wd:Q146 .\n",
    "            }\n",
    "            LIMIT 10\n",
    "          }\n",
    "        } \n",
    "        LIMIT 10\n",
    "    }\n",
    "}\n",
    "\n",
    "\"\"\""
   ]
  }
 ],
 "metadata": {
  "kernelspec": {
   "display_name": "Python 3",
   "language": "python",
   "name": "python3"
  },
  "language_info": {
   "codemirror_mode": {
    "name": "ipython",
    "version": 3
   },
   "file_extension": ".py",
   "mimetype": "text/x-python",
   "name": "python",
   "nbconvert_exporter": "python",
   "pygments_lexer": "ipython3",
   "version": "3.7.8"
  }
 },
 "nbformat": 4,
 "nbformat_minor": 4
}
