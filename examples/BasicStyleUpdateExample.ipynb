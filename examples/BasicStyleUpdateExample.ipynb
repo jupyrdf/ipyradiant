{
 "cells": [
  {
   "cell_type": "code",
   "execution_count": 50,
   "id": "atlantic-pregnancy",
   "metadata": {},
   "outputs": [],
   "source": [
    "import ipycytoscape\n",
    "\n",
    "\n",
    "data = {\n",
    "        'nodes': [\n",
    "            { 'data': {\n",
    "                'id': '1',\n",
    "                'label': 'top left',\n",
    "                'classes': 'top-left',\n",
    "                'type_': 'type1'\n",
    "                }},\n",
    "        {'data': {'id': '2', 'label': 'top center', 'classes': 'top-center', 'type_': 'type2'}},\n",
    "        {'data': {'id': '3', 'label': 'top right', 'classes': 'top-right', 'type_': 'type2'}},\n",
    "\n",
    "        {'data': {'id': '4', 'label': 'center left', 'classes': 'center-left', 'type_': 'type2'}},\n",
    "        ]\n",
    "    }\n",
    "\n",
    "\n",
    "cytoscapeobj = ipycytoscape.CytoscapeWidget()\n",
    "cytoscapeobj.graph.add_graph_from_json(data)\n",
    "\n",
    "cytoscapeobj.set_style([\n",
    "                        {\n",
    "                        'selector': 'node[classes]',\n",
    "                             'style': {\n",
    "                                  'font-family': 'helvetica',\n",
    "                                  'font-size': '20px',\n",
    "                        }},\n",
    "                        {\n",
    "                        'selector': 'node[classes]',\n",
    "                        'style': {\n",
    "                          'label': 'data(label)'\n",
    "                        }\n",
    "                      },\n",
    "                      {\n",
    "                        'selector': 'node[id = \"1\"]',\n",
    "                        'style': {\n",
    "                            'background-color': 'red'\n",
    "                        }\n",
    "                      },\n",
    "                      {\n",
    "                        'selector': 'node[id = \"2\"]',\n",
    "                        'style': {\n",
    "                          'background-color': 'blue'\n",
    "                        }\n",
    "                      },\n",
    "                      {\n",
    "                        'selector': 'node[id = \"3\"]',\n",
    "                        'style': {\n",
    "                          'background-color': 'green'\n",
    "                        }\n",
    "                      }\n",
    "])\n",
    "\n",
    "cytoscapeobj.set_layout(name='grid')"
   ]
  },
  {
   "cell_type": "code",
   "execution_count": 51,
   "id": "toxic-lighting",
   "metadata": {},
   "outputs": [
    {
     "data": {
      "application/vnd.jupyter.widget-view+json": {
       "model_id": "4c49507ad88f4aafa8d7a01ab389b50b",
       "version_major": 2,
       "version_minor": 0
      },
      "text/plain": [
       "CytoscapeWidget(cytoscape_layout={'name': 'grid'}, cytoscape_style=[{'selector': 'node[classes]', 'style': {'f…"
      ]
     },
     "metadata": {},
     "output_type": "display_data"
    }
   ],
   "source": [
    "cytoscapeobj"
   ]
  },
  {
   "cell_type": "code",
   "execution_count": 48,
   "id": "fleet-configuration",
   "metadata": {},
   "outputs": [],
   "source": [
    "old_style = list(cytoscapeobj.get_style())  # must be a copy!!!!!!\n",
    "old_style.extend(\n",
    "    [\n",
    "      {\n",
    "        'selector': 'node[type_ = \"type2\"]',\n",
    "        'style': {\n",
    "            'color': 'rgb(255,255,255)',\n",
    "            'background-color': 'rgb(255,255,255)'  #  'rgb(255,18,237)'  # or can use hex e.g. #FF12ED\n",
    "        }\n",
    "      }\n",
    "    ]\n",
    ")\n",
    "cytoscapeobj.set_style(old_style)"
   ]
  },
  {
   "cell_type": "markdown",
   "id": "included-percentage",
   "metadata": {},
   "source": [
    "> Note: cytoscape takes the last selector, so if there are multiple for the same node it will take the last in the list"
   ]
  },
  {
   "cell_type": "code",
   "execution_count": 49,
   "id": "periodic-motor",
   "metadata": {},
   "outputs": [],
   "source": [
    "old_style = list(cytoscapeobj.get_style())  # must be a copy!!!!!!\n",
    "old_style.extend(\n",
    "    [\n",
    "      {\n",
    "        'selector': 'node[type_ = \"type2\"]',\n",
    "        'style': {\n",
    "            'color': 'black',\n",
    "            'background-color': 'black'\n",
    "        }\n",
    "      }\n",
    "    ]\n",
    ")\n",
    "cytoscapeobj.set_style(old_style)"
   ]
  },
  {
   "cell_type": "code",
   "execution_count": 53,
   "id": "parental-wilderness",
   "metadata": {},
   "outputs": [],
   "source": [
    "old_style = list(cytoscapeobj.get_style())  # must be a copy!!!!!!\n",
    "old_style.extend(\n",
    "    [\n",
    "      {\n",
    "        'selector': 'node[classes = \"center-left\"]',\n",
    "        'style': {\n",
    "            'visibility': 'visible',  # hidden\n",
    "        }\n",
    "      }\n",
    "    ]\n",
    ")\n",
    "cytoscapeobj.set_style(old_style)"
   ]
  },
  {
   "cell_type": "code",
   "execution_count": 41,
   "id": "overhead-trunk",
   "metadata": {},
   "outputs": [
    {
     "name": "stdout",
     "output_type": "stream",
     "text": [
      "-top-left-\n",
      "-top-center-\n",
      "-top-right-\n",
      "-center-left-\n"
     ]
    }
   ],
   "source": [
    "for node in cytoscapeobj.graph.nodes:\n",
    "    print(f\"-{node.data['classes']}-\")"
   ]
  },
  {
   "cell_type": "code",
   "execution_count": null,
   "id": "fuzzy-massage",
   "metadata": {},
   "outputs": [],
   "source": []
  }
 ],
 "metadata": {
  "kernelspec": {
   "display_name": "Python 3",
   "language": "python",
   "name": "python3"
  },
  "language_info": {
   "codemirror_mode": {
    "name": "ipython",
    "version": 3
   },
   "file_extension": ".py",
   "mimetype": "text/x-python",
   "name": "python",
   "nbconvert_exporter": "python",
   "pygments_lexer": "ipython3",
   "version": "3.7.10"
  }
 },
 "nbformat": 4,
 "nbformat_minor": 5
}
