{
 "cells": [
  {
   "cell_type": "code",
   "execution_count": null,
   "id": "dying-hundred",
   "metadata": {},
   "outputs": [],
   "source": [
    "import rdflib\n",
    "\n",
    "from ipyradiant import FileManager, PathLoader"
   ]
  },
  {
   "cell_type": "code",
   "execution_count": null,
   "id": "streaming-malaysia",
   "metadata": {},
   "outputs": [],
   "source": [
    "lw = FileManager(loader=PathLoader(path=\"data\"))\n",
    "# here we hard set what we want the file to be, but ideally a user can choose a file to work with.\n",
    "lw.loader.file_picker.value = lw.loader.file_picker.options[\"starwars.ttl\"]\n",
    "rdf_graph = lw.graph\n",
    "qres = lw.graph.query(\n",
    "    \"\"\"\n",
    "    PREFIX planet: <https://swapi.co/resource/planet/>\n",
    "    PREFIX human: <https://swapi.co/resource/human/>\n",
    "    PREFIX droid: <https://swapi.co/resource/droid/>\n",
    "    PREFIX gungan: <https://swapi.co/resource/gungan/>\n",
    "    PREFIX film: <https://swapi.co/resource/film/>\n",
    "    \n",
    "    CONSTRUCT {\n",
    "        ?s ?p ?o .\n",
    "    }\n",
    "    WHERE {\n",
    "        ?s ?p ?o .\n",
    "        \n",
    "        VALUES (?s) {\n",
    "            (human:1)\n",
    "            (human:4)\n",
    "            (human:5)\n",
    "            (human:14)\n",
    "            (human:22)\n",
    "            (human:67)\n",
    "            (human:69)\n",
    "            (human:85)\n",
    "            (human:88)\n",
    "            (gungan:36)\n",
    "            (droid:2)\n",
    "            (droid:3)\n",
    "            (droid:23)\n",
    "            (droid:87)\n",
    "            (film:1)\n",
    "            (film:2)\n",
    "            (film:3)\n",
    "            (film:4)\n",
    "            (film:5)\n",
    "            (film:6)\n",
    "            (film:7)\n",
    "            (planet:1)\n",
    "            (planet:2)\n",
    "            (planet:3)\n",
    "            (planet:4)\n",
    "            (planet:5)\n",
    "            (planet:6)\n",
    "            (planet:7)\n",
    "        }\n",
    "    }\n",
    "    \"\"\"\n",
    ")\n",
    "\n",
    "simple_graph = rdflib.graph.Graph().parse(data=qres.serialize(format=\"xml\"))"
   ]
  },
  {
   "cell_type": "code",
   "execution_count": null,
   "id": "thirty-bronze",
   "metadata": {},
   "outputs": [],
   "source": [
    "cv = CytoscapeViewer(animate=True, node_labels=True, edge_labels=True)\n",
    "cv.graph = simple_graph\n",
    "# a little easier to see\n",
    "cv.cytoscape_widget.layout.height = \"80vh\""
   ]
  },
  {
   "cell_type": "code",
   "execution_count": null,
   "id": "blessed-absolute",
   "metadata": {},
   "outputs": [],
   "source": [
    "cv"
   ]
  },
  {
   "cell_type": "code",
   "execution_count": null,
   "id": "moved-energy",
   "metadata": {},
   "outputs": [],
   "source": [
    "# get types (in order to color-code)\n",
    "from ipyradiant.query.api import SPARQLQueryFramer"
   ]
  },
  {
   "cell_type": "code",
   "execution_count": null,
   "id": "heated-sarah",
   "metadata": {},
   "outputs": [],
   "source": [
    "# note: need to make this available in the class for users to extend based on their unique predicates for type specification\n",
    "class TypeCount(SPARQLQueryFramer):\n",
    "    sparql = \"\"\"\n",
    "    SELECT DISTINCT ?type_ (COUNT(?node) AS ?count)\n",
    "    WHERE {\n",
    "        ?node a ?type_ .\n",
    "    }\n",
    "    GROUP BY ?type_\n",
    "    \"\"\"\n",
    "    \n",
    "type_count = TypeCount.run_query(simple_graph).sort_values(by=[\"count\"], ascending=False)\n",
    "types = set(type_count.type_)"
   ]
  },
  {
   "cell_type": "code",
   "execution_count": null,
   "id": "registered-greece",
   "metadata": {},
   "outputs": [],
   "source": [
    "type_count"
   ]
  },
  {
   "cell_type": "code",
   "execution_count": null,
   "id": "spatial-venture",
   "metadata": {},
   "outputs": [],
   "source": [
    "import ipywidgets as W\n",
    "from ipyradiant.basic_tools.custom_uri_ref import CustomURIRef\n",
    "\n",
    "\n",
    "def get_desc(uri, namespaces, count=None):\n",
    "    shorthand = str(CustomURIRef(uri, namespaces=namespaces))\n",
    "    if count:\n",
    "        return f\"{shorthand}  [{count}]\""
   ]
  },
  {
   "cell_type": "code",
   "execution_count": null,
   "id": "animal-companion",
   "metadata": {},
   "outputs": [],
   "source": [
    "# Has to be a multi-select so that we can get the URI from the CustomURIRef class\n",
    "# How to we auto-construct classes for the types/predicates, and assign nodes in the cytoscape graph to that class?"
   ]
  },
  {
   "cell_type": "code",
   "execution_count": null,
   "id": "sized-pathology",
   "metadata": {},
   "outputs": [],
   "source": [
    "# map type URIs to their css class name for ipycytoscape\n",
    "uri_to_string_type = {\n",
    "    uri: str(CustomURIRef(uri, namespaces=simple_graph.namespace_manager)).replace(\":\", \"-\")\n",
    "    for uri in type_count.type_\n",
    "}\n",
    "uri_to_string_type[\"multi-type\"] = \"multi-type\"\n",
    "uri_to_string_type"
   ]
  },
  {
   "cell_type": "code",
   "execution_count": null,
   "id": "quiet-anime",
   "metadata": {},
   "outputs": [],
   "source": [
    "# convert to css format\n",
    "color_list_css = [f\"rgb({r},{g},{b})\" for r, g, b in color_list]\n",
    "\n",
    "# assign colors to css classes\n",
    "assert len(uri_to_string_type.keys()) <= len(color_list), f\"Cannot render more than {len(color_list)} visually disctinct colors.\"\n",
    "color_type_map = list(zip([*uri_to_string_type.values(), \"multi-type\"], color_list_css))\n",
    "color_type_map"
   ]
  },
  {
   "cell_type": "code",
   "execution_count": null,
   "id": "spoken-orientation",
   "metadata": {},
   "outputs": [],
   "source": [
    "import rdflib\n",
    "\n",
    "from ipyradiant.visualization.explore.interactive_exploration import add_cyto_class, remove_cyto_class\n",
    "\n",
    "# assign CSS classes to nodes based on their rdf:type\n",
    "for node in cv.cytoscape_widget.graph.nodes:\n",
    "    node_types = node.data.get(\"rdf:type\", [])\n",
    "    if type(node_types) == rdflib.term.URIRef:\n",
    "        node_types = (node_types,)\n",
    "        \n",
    "    if len(node_types) == 1:\n",
    "        # assign specific class to node\n",
    "        assert node_types[0] in uri_to_string_type\n",
    "        css_class = uri_to_string_type[node_types[0]]\n",
    "        node.data[\"type_\"] = css_class\n",
    "    else:\n",
    "        # assign multiple classes to node and assign aggregate_type for coloring\n",
    "#         for node_type in node_types:\n",
    "#             assert node_type in uri_to_string_type\n",
    "#             css_class = uri_to_string_type[node_type]\n",
    "#             node.classes = add_cyto_class(node, css_class)\n",
    "        node.data[\"type_\"] = \"multi-type\""
   ]
  },
  {
   "cell_type": "markdown",
   "id": "foreign-aging",
   "metadata": {},
   "source": [
    "> NOTE: classes have to match exactly. i.e. if the style is for classes='test' and the node classes are 'test other' the style __will not be applied__.\n",
    "\n",
    "> NOTE: classes must be set on the node/edge __data__, e.g. `node.data['classes'] = \"class1 class2\"`\n",
    "\n",
    "> NOTE: the above two statements are correct when using a data attribute `classes` i.e. node.data[\"classes\"]. However, CSS classes are specified on the element directly, i.e. node.classes. These are composable."
   ]
  },
  {
   "cell_type": "code",
   "execution_count": null,
   "id": "welsh-pizza",
   "metadata": {},
   "outputs": [],
   "source": [
    "# use css data attribute style to color based on type\n",
    "color_classes = []\n",
    "for class_name, rgb_code in color_type_map:\n",
    "    color_classes.append(\n",
    "        {\n",
    "            'selector': f\"node[type_ = '{class_name}']\",\n",
    "            'style': {\n",
    "                'background-color': f\"{rgb_code}\",\n",
    "            }\n",
    "        }\n",
    "    )"
   ]
  },
  {
   "cell_type": "code",
   "execution_count": null,
   "id": "threaded-holocaust",
   "metadata": {},
   "outputs": [],
   "source": [
    "# visibility classes\n",
    "invisible_node_class = {\n",
    "    'selector': 'node.invisible',\n",
    "    'style': {\n",
    "        'visibility': 'hidden',\n",
    "    }\n",
    "}\n",
    "invisible_edge_class = {\n",
    "    'selector': 'edge.invisible',\n",
    "    'style': {\n",
    "        'visibility': 'hidden',\n",
    "    }\n",
    "}"
   ]
  },
  {
   "cell_type": "markdown",
   "id": "weekly-possession",
   "metadata": {},
   "source": [
    "# TODO\n",
    "* [X] toggle visibility of edges\n",
    "* [X] update to multiselect\n",
    "* [X] use `visibility` on css (visibility in CSS)\n",
    "* [X] update example to more nodes\n",
    "* [X] investigate layout options and see if it changes\n",
    "* [X] investigate node.classes vs node.data[\"classes\"] for the selectors (ideally only use node.classes)\n",
    "* [ ] color types\n",
    "* colorpicker for types?\n",
    "* move from SVG to canvas renderer?"
   ]
  },
  {
   "cell_type": "code",
   "execution_count": null,
   "id": "placed-apparel",
   "metadata": {},
   "outputs": [],
   "source": [
    "# change the cytoscape widget style\n",
    "old_style = list(cv.cytoscape_widget.get_style())  # must be a copy!!!!!!\n",
    "old_style.extend([*color_classes, invisible_node_class, invisible_edge_class])\n",
    "cv.cytoscape_widget.set_style(old_style)"
   ]
  },
  {
   "cell_type": "code",
   "execution_count": null,
   "id": "saving-newcastle",
   "metadata": {},
   "outputs": [],
   "source": [
    "# node_iri to node (for mapping to edges)\n",
    "# TODO is there a way to enhance the adjacency matrix?\n",
    "iri_to_node = {\n",
    "    str(node.data[\"iri\"]): node\n",
    "    for node in cv.cytoscape_widget.graph.nodes\n",
    "}"
   ]
  },
  {
   "cell_type": "code",
   "execution_count": null,
   "id": "dirty-buffer",
   "metadata": {},
   "outputs": [],
   "source": [
    "from typing import Union\n",
    "import ipycytoscape as cyto\n",
    "\n",
    "from ipyradiant.visualization.explore.interactive_exploration import add_cyto_class, remove_cyto_class\n",
    "\n",
    "\n",
    "def update_classes(change):\n",
    "    \"\"\"Updates the CSS classes for nodes/edges.\n",
    "    \n",
    "    TODO need to optimize so that we don't have to iterate through every node/edge\n",
    "    \"\"\"\n",
    "    assert all([uri in uri_to_string_type for uri in change.new])\n",
    "    visible_iris = set(change.new)\n",
    "    \n",
    "    for node in cv.cytoscape_widget.graph.nodes:\n",
    "        raw_types = node.data[\"rdf:type\"]\n",
    "        types = raw_types if type(raw_types) is tuple else (raw_types,)\n",
    "        if not any([_type in visible_iris for _type in types]):\n",
    "            node.classes = 'invisible'\n",
    "        else:\n",
    "            node.classes = ''\n",
    "            \n",
    "    for edge in cv.cytoscape_widget.graph.edges:\n",
    "        source_node = iri_to_node[edge.data[\"source\"]]\n",
    "        target_node = iri_to_node[edge.data[\"target\"]]\n",
    "\n",
    "        if \"invisible\" in source_node.classes or \"invisible\" in target_node.classes:\n",
    "            edge.classes = 'invisible'\n",
    "        else:\n",
    "            edge.classes = 'directed'\n",
    "    \n",
    "    # update front-end (option 1 - jarring update)\n",
    "    #cv.cytoscape_widget.relayout()\n",
    "    \n",
    "    # update front-end (option 2 - instant, trigger with replicated style)\n",
    "    cv.cytoscape_widget.set_style(list(cv.cytoscape_widget.get_style()))"
   ]
  },
  {
   "cell_type": "code",
   "execution_count": null,
   "id": "broken-journalist",
   "metadata": {},
   "outputs": [],
   "source": [
    "ms_options = []\n",
    "for uri, count in type_count.values:\n",
    "    description = get_desc(uri, simple_graph.namespace_manager, count)\n",
    "    ms_options.append((description, uri))\n",
    "    \n",
    "ms_ex = W.SelectMultiple(\n",
    "    value=tuple(uri for _, uri in ms_options),\n",
    "    options=ms_options,\n",
    "    layout=W.Layout(\n",
    "        border='solid 1px',\n",
    "        flex='auto'\n",
    "    )\n",
    ")\n",
    "ms_ex.observe(update_classes, \"value\")\n",
    "ms_ex"
   ]
  },
  {
   "cell_type": "code",
   "execution_count": null,
   "id": "primary-heritage",
   "metadata": {},
   "outputs": [],
   "source": [
    "cv"
   ]
  },
  {
   "cell_type": "code",
   "execution_count": null,
   "id": "organized-pacific",
   "metadata": {},
   "outputs": [],
   "source": [
    "cv.cytoscape_widget.graph.nodes[0].data[\"type_\"]"
   ]
  },
  {
   "cell_type": "code",
   "execution_count": null,
   "id": "necessary-performer",
   "metadata": {},
   "outputs": [],
   "source": [
    "cv.cytoscape_widget.get_style()"
   ]
  },
  {
   "cell_type": "code",
   "execution_count": null,
   "id": "cultural-sweet",
   "metadata": {},
   "outputs": [],
   "source": []
  }
 ],
 "metadata": {
  "kernelspec": {
   "display_name": "Python 3",
   "language": "python",
   "name": "python3"
  },
  "language_info": {
   "codemirror_mode": {
    "name": "ipython",
    "version": 3
   },
   "file_extension": ".py",
   "mimetype": "text/x-python",
   "name": "python",
   "nbconvert_exporter": "python",
   "pygments_lexer": "ipython3",
   "version": "3.7.10"
  }
 },
 "nbformat": 4,
 "nbformat_minor": 5
}
