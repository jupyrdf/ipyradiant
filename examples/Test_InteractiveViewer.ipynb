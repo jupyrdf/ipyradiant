{
 "cells": [
  {
   "cell_type": "markdown",
   "metadata": {},
   "source": [
    "# Graph Exploration Testing"
   ]
  },
  {
   "cell_type": "code",
   "execution_count": null,
   "metadata": {},
   "outputs": [],
   "source": [
    "import importnb\n",
    "import rdflib\n",
    "\n",
    "from ipyradiant import FileManager, GetOutgoingPredicateObjects, PathLoader\n",
    "\n",
    "with importnb.Notebook():\n",
    "    try:\n",
    "        from .Improved_Vis import iv\n",
    "    except ImportError:\n",
    "        from Improved_Vis import iv"
   ]
  },
  {
   "cell_type": "markdown",
   "metadata": {},
   "source": [
    "## We will start by loading in the `InteractiveViewer` instance found in the `Improved_Vis.ipynb` notebook."
   ]
  },
  {
   "cell_type": "code",
   "execution_count": null,
   "metadata": {},
   "outputs": [],
   "source": [
    "iv"
   ]
  },
  {
   "cell_type": "markdown",
   "metadata": {},
   "source": [
    "### We can now run manual tests to make sure the different features are working correctly.\n",
    "\n",
    "We will start by testing the expanding node feature."
   ]
  },
  {
   "cell_type": "code",
   "execution_count": null,
   "metadata": {},
   "outputs": [],
   "source": [
    "# to start, get the correct amount of nodes that should be present when expanding upon Darth Vader\n",
    "lw = FileManager(loader=PathLoader(path=\"data\"))\n",
    "# here we hard set what we want the file to be, but ideally a user can choose a file to work with.\n",
    "lw.loader.file_picker.value = lw.loader.file_picker.options[\"starwars.ttl\"]\n",
    "rdf_graph = lw.graph\n",
    "new_data = GetOutgoingPredicateObjects.run_query(\n",
    "    graph=rdf_graph, subject=\"https://swapi.co/resource/human/4\"\n",
    ")"
   ]
  },
  {
   "cell_type": "markdown",
   "metadata": {},
   "source": [
    "We know the correct amount of nodes after expanding upon darth vader should be 10, for\n",
    "the 8 nodes from the expansion as well as Luke Skywalker, which was not connected\n",
    "before. We can now manually expand on Darth Vader and make sure that's the case."
   ]
  },
  {
   "cell_type": "code",
   "execution_count": null,
   "metadata": {},
   "outputs": [],
   "source": [
    "for node in iv.cytoscape_widget.graph.nodes:\n",
    "    if node.data[\"rdfs:label\"] == \"Darth Vader\":\n",
    "        iv.selected_node = node\n",
    "iv.expand_button_clicked(None)\n",
    "assert (\n",
    "    len(iv.cytoscape_widget.graph.nodes) == 10\n",
    "), \"Improper amount of nodes in the graph after expansion.\""
   ]
  },
  {
   "cell_type": "markdown",
   "metadata": {},
   "source": [
    "We can now test the undo expansion function of the graph, which should return the graph\n",
    "to only three nodes."
   ]
  },
  {
   "cell_type": "code",
   "execution_count": null,
   "metadata": {},
   "outputs": [],
   "source": [
    "iv.undo_expansion(None)\n",
    "assert (\n",
    "    len(iv.cytoscape_widget.graph.nodes) == 3\n",
    "), \"Improper amount of nodes in the graph after undoing expansion.\""
   ]
  },
  {
   "cell_type": "markdown",
   "metadata": {},
   "source": [
    "We now want to test the removal of all temporary nodes from the graph. In order to do\n",
    "this we will expand on Darth Vader, make one of the temporary nodes permanent by\n",
    "changing the class, and then remove all the temporary nodes to test that the new\n",
    "permanent node still remains in the graph."
   ]
  },
  {
   "cell_type": "code",
   "execution_count": null,
   "metadata": {},
   "outputs": [],
   "source": [
    "# expand upon darth vader\n",
    "for node in iv.cytoscape_widget.graph.nodes:\n",
    "    if node.data.get(\"rdfs:label\") == \"Darth Vader\":\n",
    "        iv.selected_node = node\n",
    "iv.expand_button_clicked(None)\n",
    "# change class of one of the temp nodes, lets say return of the jedi\n",
    "for node in iv.cytoscape_widget.graph.nodes:\n",
    "    if str(node.data[\"_label\"]) == \"Return of the Jedi\":\n",
    "        node.classes = \"clicked\"\n",
    "iv.remove_temp_nodes(None)\n",
    "assert len(iv.cytoscape_widget.graph.nodes) == 4"
   ]
  }
 ],
 "metadata": {
  "kernelspec": {
   "display_name": "Python 3",
   "language": "python",
   "name": "python3"
  },
  "language_info": {
   "codemirror_mode": {
    "name": "ipython",
    "version": 3
   },
   "file_extension": ".py",
   "mimetype": "text/x-python",
   "name": "python",
   "nbconvert_exporter": "python",
   "pygments_lexer": "ipython3",
   "version": "3.7.8"
  }
 },
 "nbformat": 4,
 "nbformat_minor": 4
}
