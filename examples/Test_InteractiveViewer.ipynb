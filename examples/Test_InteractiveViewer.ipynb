{
 "cells": [
  {
   "cell_type": "markdown",
   "metadata": {},
   "source": [
    "# A Test for the `InteractiveViewer`"
   ]
  },
  {
   "cell_type": "code",
   "execution_count": null,
   "metadata": {},
   "outputs": [],
   "source": [
    "import json\n",
    "import os\n",
    "import random\n",
    "import time\n",
    "from pathlib import Path\n",
    "\n",
    "import importnb\n",
    "import ipywidgets as W\n",
    "from rdflib import Graph\n",
    "from requests_cache import CachedSession\n",
    "\n",
    "from ipyradiant.query.api import SPARQLQueryFramer\n",
    "\n",
    "with importnb.Notebook():\n",
    "    try:\n",
    "        from .InteractiveViewer import lw, simple_graph, iv\n",
    "    except ImportError:\n",
    "        from InteractiveViewer import lw, simple_graph, iv"
   ]
  },
  {
   "cell_type": "markdown",
   "metadata": {},
   "source": [
    "This notebook is used as part of the `ipyradiant` test suite, where `IPYRADIANT_TESTING`\n",
    "will be set, which will trigger the automated section below."
   ]
  },
  {
   "cell_type": "code",
   "execution_count": null,
   "metadata": {},
   "outputs": [],
   "source": [
    "pl = lw.loader"
   ]
  },
  {
   "cell_type": "code",
   "execution_count": null,
   "metadata": {},
   "outputs": [],
   "source": [
    "IS_TESTING = json.loads(os.environ.get(\"IPYRADIANT_TESTING\", \"false\"))\n",
    "IS_TESTING"
   ]
  },
  {
   "cell_type": "markdown",
   "metadata": {},
   "source": [
    "Tests are implemented as buttons you click."
   ]
  },
  {
   "cell_type": "code",
   "execution_count": null,
   "metadata": {},
   "outputs": [],
   "source": [
    "timings = {}\n",
    "\n",
    "\n",
    "def timestamp(key, msg):\n",
    "    if key not in timings:\n",
    "        timings[key] = []\n",
    "    timings[key] += [time.time()]\n",
    "    delta = 0 if len(timings[key]) == 1 else timings[key][-1] - timings[key][-2]\n",
    "    print(f\"[{key}]\", f\"+{int(delta)}\", msg)"
   ]
  },
  {
   "cell_type": "code",
   "execution_count": null,
   "metadata": {},
   "outputs": [],
   "source": [
    "# TODO extend as needed\n",
    "tests = [\n",
    "    W.Button(description=\"simple_graph\")\n",
    "]"
   ]
  },
  {
   "cell_type": "code",
   "execution_count": null,
   "metadata": {},
   "outputs": [],
   "source": [
    "N_CHECKS = 5  # number of times to run the test selection\n",
    "\n",
    "\n",
    "def _run_test(btn):\n",
    "    p = btn.description\n",
    "    \n",
    "    try:\n",
    "        timestamp(p, \"starting...\")\n",
    "        iv.graph = Graph()\n",
    "        timestamp(p, \"cleaned...\")\n",
    "        assert len(iv.viewer.cytoscape_widget.graph.nodes) == 0\n",
    "        timestamp(p, f\"assigning graph...\")\n",
    "        iv.graph = simple_graph\n",
    "        assert len(iv.viewer.cytoscape_widget.graph.nodes) > 0\n",
    "        timestamp(p, f\"graph updated...\")\n",
    "        \n",
    "        timestamp(p, f\"verifying node visibility...\")\n",
    "        cyto_graph_nodes = iv.viewer.cytoscape_widget.graph.nodes\n",
    "        n_nodes = len(cyto_graph_nodes)\n",
    "        visible_nodes = [node for node in cyto_graph_nodes if 'invisible' not in node.classes]\n",
    "        n_visible_nodes = len(visible_nodes)\n",
    "        assert n_nodes == n_visible_nodes\n",
    "        timestamp(p, f\"interactive viewer initialized w/ graph successfully...\")\n",
    "        \n",
    "        for ii in range(N_CHECKS):\n",
    "            timestamp(p, f\"making selections for iteration #{ii}...\")\n",
    "            # get some number of options from the list (at least one)\n",
    "            selections = random.sample(\n",
    "                iv.type_selector.options, \n",
    "                k=random.choice(range(1,len(iv.type_selector.options)))\n",
    "            )\n",
    "            selection_values = tuple([_[1] for _ in selections])\n",
    "            # make the selections\n",
    "            iv.type_selector.value = selection_values\n",
    "\n",
    "            # get visible nodes\n",
    "            timestamp(p, f\"get visible nodes for iteration #{ii}...\")\n",
    "            visible_nodes = [node for node in cyto_graph_nodes if 'invisible' not in node.classes]\n",
    "            n_visible_nodes = len(visible_nodes)\n",
    "\n",
    "            timestamp(p, f\"calculating expected number of visible nodes for iteration #{ii}...\")\n",
    "            n_ex_visible = 0\n",
    "            for node in cyto_graph_nodes:\n",
    "                if type(node.data['rdf:type']) is tuple:\n",
    "                    types = set(node.data['rdf:type'])\n",
    "                else:\n",
    "                    types = set([node.data['rdf:type']])\n",
    "\n",
    "                if any([visible_type in types for visible_type in selection_values]):\n",
    "                    n_ex_visible += 1\n",
    "\n",
    "            assert n_ex_visible == n_visible_nodes\n",
    "            timestamp(p, f\"expected matches visible for iteration #{ii}...\")\n",
    "        \n",
    "        timestamp(p, \"OK!\")\n",
    "    except Exception as err:\n",
    "        timestamp(p, \"ERROR\")\n",
    "        timestamp(p, err)\n",
    "        raise Exception(f\"{p} failed\") from err\n",
    "        \n",
    "[d.on_click(_run_test) for d in tests]"
   ]
  },
  {
   "cell_type": "markdown",
   "metadata": {},
   "source": [
    "## Show the Test Application"
   ]
  },
  {
   "cell_type": "code",
   "execution_count": null,
   "metadata": {},
   "outputs": [],
   "source": [
    "W.VBox([iv, W.HBox([W.Label(\"Start Test\"), *tests])])"
   ]
  },
  {
   "cell_type": "markdown",
   "metadata": {},
   "source": [
    "# Run Test Automatically"
   ]
  },
  {
   "cell_type": "code",
   "execution_count": null,
   "metadata": {},
   "outputs": [],
   "source": [
    "if IS_TESTING:\n",
    "    for test in tests:\n",
    "        test.click()"
   ]
  }
 ],
 "metadata": {
  "kernelspec": {
   "display_name": "Python 3",
   "language": "python",
   "name": "python3"
  },
  "language_info": {
   "codemirror_mode": {
    "name": "ipython",
    "version": 3
   },
   "file_extension": ".py",
   "mimetype": "text/x-python",
   "name": "python",
   "nbconvert_exporter": "python",
   "pygments_lexer": "ipython3",
   "version": "3.7.10"
  }
 },
 "nbformat": 4,
 "nbformat_minor": 4
}
