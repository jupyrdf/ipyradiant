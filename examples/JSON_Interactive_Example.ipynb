{
 "cells": [
  {
   "cell_type": "markdown",
   "metadata": {},
   "source": [
    "## Combine a graph exploring widget with a JSON viewer when clicking on nodes."
   ]
  },
  {
   "cell_type": "code",
   "execution_count": null,
   "metadata": {},
   "outputs": [],
   "source": [
    "import json\n",
    "\n",
    "import ipycytoscape\n",
    "import ipywidgets as W\n",
    "import networkx as nx\n",
    "import rdflib\n",
    "from IPython.display import JSON, display\n",
    "from rdflib.namespace import RDFS\n",
    "\n",
    "from ipyradiant import CytoscapeViewer, FileManager, PathLoader"
   ]
  },
  {
   "cell_type": "markdown",
   "metadata": {},
   "source": [
    "#### First, we will set up a widget instance using the basic Star Wars example used in other examples.\n",
    "\n",
    "We will create a small example graph for use in the visualization."
   ]
  },
  {
   "cell_type": "code",
   "execution_count": null,
   "metadata": {},
   "outputs": [],
   "source": [
    "lw = FileManager(loader=PathLoader(path=\"data\"))\n",
    "# here we hard set what we want the file to be, but ideally a user can choose a file to work with.\n",
    "lw.loader.file_picker.value = lw.loader.file_picker.options[\"starwars.ttl\"]\n",
    "rdf_graph = lw.graph\n",
    "qres = lw.graph.query(\n",
    "    \"\"\"\n",
    "    PREFIX hum: <https://swapi.co/resource/human/>\n",
    "    PREFIX film: <https://swapi.co/resource/film/>\n",
    "    \n",
    "    CONSTRUCT {\n",
    "        ?s ?p ?o .\n",
    "    }\n",
    "    WHERE {\n",
    "        ?s ?p ?o .\n",
    "        \n",
    "        VALUES (?s) {\n",
    "            (hum:1)  # Luke\n",
    "            (hum:4)  # Vader\n",
    "            (film:1) # A New Hope\n",
    "        }\n",
    "    }\n",
    "    \"\"\"\n",
    ")\n",
    "\n",
    "simple_graph = rdflib.graph.Graph().parse(data=qres.serialize(format=\"xml\"))"
   ]
  },
  {
   "cell_type": "code",
   "execution_count": null,
   "metadata": {},
   "outputs": [],
   "source": [
    "# instantiate the widget\n",
    "cv = CytoscapeViewer(graph=simple_graph)"
   ]
  },
  {
   "cell_type": "markdown",
   "metadata": {},
   "source": [
    "#### Then, we will need a class that is composed of both the graph widget and the `JSON` viewer. We will use these in an `ipywidgets.VBox`"
   ]
  },
  {
   "cell_type": "code",
   "execution_count": null,
   "metadata": {},
   "outputs": [],
   "source": [
    "class CombinedExample(W.VBox):\n",
    "    def __init__(self, *args, **kwargs):\n",
    "        super().__init__(*args, **kwargs)\n",
    "        self.json_output = W.Output()\n",
    "        self.graph_widget = kwargs[\"graph_widget\"]\n",
    "        self.children = [self.graph_widget, self.json_output]\n",
    "        self.graph_widget.cytoscape_widget.on(\"node\", \"click\", self.load_json)\n",
    "\n",
    "    def load_json(self, node):\n",
    "        data = node[\"data\"]\n",
    "        data.pop(\"_label\", None)\n",
    "        data.pop(\"_attrs\", None)\n",
    "        with self.json_output:\n",
    "            self.json_output.clear_output()\n",
    "            display(JSON(data))"
   ]
  },
  {
   "cell_type": "markdown",
   "metadata": {},
   "source": [
    "#### We can now see that if you click on a node in the cytoscape graph, the `JSON` details of that node will be displayed below the graph."
   ]
  },
  {
   "cell_type": "code",
   "execution_count": null,
   "metadata": {},
   "outputs": [],
   "source": [
    "ce = CombinedExample(graph_widget=cv)\n",
    "ce"
   ]
  }
 ],
 "metadata": {
  "kernelspec": {
   "display_name": "Python 3",
   "language": "python",
   "name": "python3"
  },
  "language_info": {
   "codemirror_mode": {
    "name": "ipython",
    "version": 3
   },
   "file_extension": ".py",
   "mimetype": "text/x-python",
   "name": "python",
   "nbconvert_exporter": "python",
   "pygments_lexer": "ipython3",
   "version": "3.7.10"
  }
 },
 "nbformat": 4,
 "nbformat_minor": 4
}
