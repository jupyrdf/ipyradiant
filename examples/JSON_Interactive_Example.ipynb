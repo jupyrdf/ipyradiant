{
 "cells": [
  {
   "cell_type": "markdown",
   "metadata": {},
   "source": [
    "## This is an example of how to combine a graph exploring widget with the JSON viewer when clicking on nodes."
   ]
  },
  {
   "cell_type": "code",
   "execution_count": null,
   "metadata": {},
   "outputs": [],
   "source": [
    "import json\n",
    "\n",
    "from IPython.display import JSON, display\n",
    "\n",
    "import ipycytoscape\n",
    "import ipywidgets as W\n",
    "import networkx as nx\n",
    "import rdflib\n",
    "from ipycytoscape import CytoscapeWidget, Edge, Node\n",
    "from ipyradiant import (\n",
    "    FileManager,\n",
    "    GetOutgoingPredicateObjects,\n",
    "    InteractiveViewer,\n",
    "    PathLoader,\n",
    ")\n",
    "from ipyradiant.rdf2nx import RDF2NX, URItoID, URItoShortID\n",
    "from rdflib.namespace import RDFS"
   ]
  },
  {
   "cell_type": "markdown",
   "metadata": {},
   "source": [
    "## First, we will set up an InteractiveViewer instance using the basic Star Wars example used in other examples."
   ]
  },
  {
   "cell_type": "code",
   "execution_count": null,
   "metadata": {},
   "outputs": [],
   "source": [
    "lw = FileManager(loader=PathLoader(path=\"data\"))\n",
    "# here we hard set what we want the file to be, but ideally a user can choose a file to work with.\n",
    "lw.loader.file_picker.value = lw.loader.file_picker.options[\"starwars.ttl\"]\n",
    "rdf_graph = lw.graph\n",
    "qres = lw.graph.query(\n",
    "    \"\"\"\n",
    "    PREFIX hum: <https://swapi.co/resource/human/>\n",
    "    PREFIX film: <https://swapi.co/resource/film/>\n",
    "    \n",
    "    CONSTRUCT {\n",
    "        ?s ?p ?o .\n",
    "    }\n",
    "    WHERE {\n",
    "        ?s ?p ?o .\n",
    "        \n",
    "        VALUES (?s) {\n",
    "            (hum:1)  # Luke\n",
    "            (hum:4)  # Vader\n",
    "            (film:1) # A New Hope\n",
    "        }\n",
    "    }\n",
    "    \"\"\"\n",
    ")\n",
    "\n",
    "simple_graph = rdflib.graph.Graph().parse(data=qres.serialize(format=\"xml\"))\n",
    "uri = RDFS.label\n",
    "ns = {\"rdfs\": str(RDFS)}\n",
    "initNs = {\n",
    "    \"rdf\": \"http://www.w3.org/1999/02/22-rdf-syntax-ns#\",\n",
    "    \"rdfs\": \"http://www.w3.org/2000/01/rdf-schema#\",\n",
    "    \"res\": \"https://swapi.co/resource/\",\n",
    "    \"voc\": \"https://swapi.co/vocabulary/\",\n",
    "    \"base\": \"https://swapi.co/resource/\",\n",
    "}\n",
    "\n",
    "nx_graph = RDF2NX.convert(simple_graph, namespaces=initNs)\n",
    "directed = ipycytoscape.CytoscapeWidget()\n",
    "directed.graph.add_graph_from_networkx(nx_graph, multiple_edges=True, directed=True)\n",
    "for node in directed.graph.nodes:\n",
    "    # deal with inability to handle colons\n",
    "    node.data[\"_label\"] = node.data.get(\"rdfs:label\", None)\n",
    "    node.data[\"_attrs\"] = json.dumps(node.data, indent=2)\n",
    "\n",
    "# create InteractiveViewer instance\n",
    "iv = InteractiveViewer(rdf_graph=rdf_graph, cyto_graph=directed)"
   ]
  },
  {
   "cell_type": "markdown",
   "metadata": {},
   "source": [
    "## Then, we will need a class that is composed of both the interactive viewer and the `JSON` viewer. We will use these in an `ipywidgets.VBox`"
   ]
  },
  {
   "cell_type": "code",
   "execution_count": null,
   "metadata": {},
   "outputs": [],
   "source": [
    "class CombinedExample(W.VBox):\n",
    "    def __init__(self, *args, **kwargs):\n",
    "        super().__init__(*args, **kwargs)\n",
    "        self.json_output = W.Output()\n",
    "        self.cytoscape_graph = kwargs[\"cyto_graph\"]\n",
    "        self.children = [self.cytoscape_graph, self.json_output]\n",
    "        self.cytoscape_graph.cyto_graph.on(\"node\", \"click\", self.load_json)\n",
    "\n",
    "    def load_json(self, node):\n",
    "        data = node[\"data\"]\n",
    "        data.pop(\"_label\", None)\n",
    "        data.pop(\"_attrs\", None)\n",
    "        with self.json_output:\n",
    "            self.json_output.clear_output()\n",
    "            display(JSON(data))"
   ]
  },
  {
   "cell_type": "code",
   "execution_count": null,
   "metadata": {},
   "outputs": [],
   "source": [
    "ce = CombinedExample(cyto_graph=iv)"
   ]
  },
  {
   "cell_type": "markdown",
   "metadata": {},
   "source": [
    "## We can now see that if you click on a node in the cytoscape graph, the `JSON` details of that node will be displayed below the graph."
   ]
  },
  {
   "cell_type": "code",
   "execution_count": null,
   "metadata": {},
   "outputs": [],
   "source": [
    "ce"
   ]
  }
 ],
 "metadata": {
  "kernelspec": {
   "display_name": "Python 3",
   "language": "python",
   "name": "python3"
  },
  "language_info": {
   "codemirror_mode": {
    "name": "ipython",
    "version": 3
   },
   "file_extension": ".py",
   "mimetype": "text/x-python",
   "name": "python",
   "nbconvert_exporter": "python",
   "pygments_lexer": "ipython3",
   "version": "3.7.8"
  }
 },
 "nbformat": 4,
 "nbformat_minor": 4
}
