{
 "cells": [
  {
   "cell_type": "markdown",
   "metadata": {},
   "source": [
    "# MultiPanelSelect Widget Example\n",
    "\n",
    "The default `ipywidgets` selection widget is good for selecting a few things. However,\n",
    "when we need to pick and choose possibly dozens of things it becomes difficult to ensure\n",
    "that the state of the highlighted (i.e. selected) items is correct. The\n",
    "`MultiPanelSelect` widget attempts to make it cleaner to determine what things are\n",
    "selected at any given time."
   ]
  },
  {
   "cell_type": "code",
   "execution_count": null,
   "metadata": {},
   "outputs": [],
   "source": [
    "import ipywidgets as W\n",
    "from ipyradiant import MultiPanelSelect"
   ]
  },
  {
   "cell_type": "markdown",
   "metadata": {},
   "source": [
    "Generally when using this application, a user will choose from a list of 'things',\n",
    "passed into the `MultiPanelSelect` widget as the 'data' key-word argument. For this\n",
    "example we will use placeholder `Thing`s."
   ]
  },
  {
   "cell_type": "code",
   "execution_count": null,
   "metadata": {},
   "outputs": [],
   "source": [
    "# Some fake data\n",
    "data = [f\"Thing {ii}\" for ii in range(50)]"
   ]
  },
  {
   "cell_type": "code",
   "execution_count": null,
   "metadata": {},
   "outputs": [],
   "source": [
    "sw = MultiPanelSelect(data=data)"
   ]
  },
  {
   "cell_type": "code",
   "execution_count": null,
   "metadata": {},
   "outputs": [],
   "source": [
    "sw"
   ]
  },
  {
   "cell_type": "markdown",
   "metadata": {},
   "source": [
    "#### Trailets that capture the elements of each selection panel"
   ]
  },
  {
   "cell_type": "code",
   "execution_count": null,
   "metadata": {},
   "outputs": [],
   "source": [
    "print(\"Available Things:\", sw.available_things_list[:5])\n",
    "print(\"Selected Things:\", sw.selected_things_list[:5])"
   ]
  }
 ],
 "metadata": {
  "kernelspec": {
   "display_name": "Python 3",
   "language": "python",
   "name": "python3"
  },
  "language_info": {
   "codemirror_mode": {
    "name": "ipython",
    "version": 3
   },
   "file_extension": ".py",
   "mimetype": "text/x-python",
   "name": "python",
   "nbconvert_exporter": "python",
   "pygments_lexer": "ipython3",
   "version": "3.7.8"
  }
 },
 "nbformat": 4,
 "nbformat_minor": 4
}
