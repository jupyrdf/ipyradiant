{
 "cells": [
  {
   "cell_type": "markdown",
   "metadata": {},
   "source": [
    "# TODO\n",
    "Discuss the individual components and how they can be combined in a Widget Application. "
   ]
  },
  {
   "cell_type": "code",
   "execution_count": 2,
   "metadata": {},
   "outputs": [
    {
     "data": {
      "application/vnd.jupyter.widget-view+json": {
       "model_id": "80d8437959de43509f7d3aba1ecbc03e",
       "version_major": 2,
       "version_minor": 0
      },
      "text/plain": [
       "FileManager(children=(PathLoader(children=(Label(value='Select file'), Dropdown(index=4, options={'Select a fi…"
      ]
     },
     "metadata": {},
     "output_type": "display_data"
    }
   ],
   "source": [
    "from ipyradiant import FileManager, PathLoader\n",
    "\n",
    "lw = FileManager(loader=PathLoader(path=\"data\"))\n",
    "lw.loader.file_picker.value = lw.loader.file_picker.options[\"starwars.ttl\"]\n",
    "lw"
   ]
  },
  {
   "cell_type": "code",
   "execution_count": 3,
   "metadata": {},
   "outputs": [
    {
     "data": {
      "application/vnd.jupyter.widget-view+json": {
       "model_id": "c515fc73d48f492da4ba3259e0299146",
       "version_major": 2,
       "version_minor": 0
      },
      "text/plain": [
       "QueryPreview(children=(Textarea(value='CONSTRUCT {\\n    ?s ?p ?o .\\n    voc:Character a rdfs:Class .\\n} WHERE …"
      ]
     },
     "metadata": {},
     "output_type": "display_data"
    }
   ],
   "source": [
    "from ipyradiant.query.visualize import QueryPreview\n",
    "\n",
    "qp = QueryPreview()\n",
    "qp.query = \"\"\"\\\n",
    "CONSTRUCT {\n",
    "    ?s ?p ?o .\n",
    "    voc:Character a rdfs:Class .\n",
    "} WHERE {\n",
    "    {\n",
    "      SELECT DISTINCT ?s\n",
    "      WHERE {\n",
    "          ?s a voc:Character .\n",
    "      }\n",
    "      LIMIT 3\n",
    "    }\n",
    "    ?s ?p ?o .\n",
    "}\n",
    "\"\"\"\n",
    "qp"
   ]
  },
  {
   "cell_type": "code",
   "execution_count": 4,
   "metadata": {},
   "outputs": [
    {
     "data": {
      "application/vnd.jupyter.widget-view+json": {
       "model_id": "fbe22d2aab044cc0b6c604c9e708a4bd",
       "version_major": 2,
       "version_minor": 0
      },
      "text/plain": [
       "QueryResultsGrid(children=(Output(layout=Layout(max_height='60vh')),))"
      ]
     },
     "metadata": {},
     "output_type": "display_data"
    }
   ],
   "source": [
    "from ipyradiant.query.visualize import QueryResultsGrid\n",
    "\n",
    "qrg = QueryResultsGrid(namespaces=dict(lw.graph.namespaces()))\n",
    "qrg.query_result = lw.graph.query(qp.query)\n",
    "qrg"
   ]
  },
  {
   "cell_type": "code",
   "execution_count": 5,
   "metadata": {},
   "outputs": [
    {
     "data": {
      "application/vnd.jupyter.widget-view+json": {
       "model_id": "9db462fd714c41f0bb219a64c2695ab9",
       "version_major": 2,
       "version_minor": 0
      },
      "text/plain": [
       "QueryWidget(children=(QueryPreview(children=(Textarea(value='CONSTRUCT {\\n    ?s ?p ?o .\\n    voc:Character a …"
      ]
     },
     "metadata": {},
     "output_type": "display_data"
    }
   ],
   "source": [
    "from ipyradiant.query.app import QueryWidget\n",
    "\n",
    "qw = QueryWidget(graph=lw.graph)\n",
    "qw.query = \"\"\"\\\n",
    "CONSTRUCT {\n",
    "    ?s ?p ?o .\n",
    "    voc:Character a rdfs:Class .\n",
    "} WHERE {\n",
    "    {\n",
    "      SELECT DISTINCT ?s\n",
    "      WHERE {\n",
    "          ?s a voc:Character .\n",
    "      }\n",
    "      LIMIT 3\n",
    "    }\n",
    "    ?s ?p ?o .\n",
    "}\n",
    "\"\"\"\n",
    "qw.run_button.click()\n",
    "qw"
   ]
  },
  {
   "cell_type": "code",
   "execution_count": null,
   "metadata": {},
   "outputs": [],
   "source": []
  }
 ],
 "metadata": {
  "kernelspec": {
   "display_name": "Python 3",
   "language": "python",
   "name": "python3"
  },
  "language_info": {
   "codemirror_mode": {
    "name": "ipython",
    "version": 3
   },
   "file_extension": ".py",
   "mimetype": "text/x-python",
   "name": "python",
   "nbconvert_exporter": "python",
   "pygments_lexer": "ipython3",
   "version": "3.7.9"
  }
 },
 "nbformat": 4,
 "nbformat_minor": 4
}
