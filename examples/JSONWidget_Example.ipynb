{
 "cells": [
  {
   "cell_type": "code",
   "execution_count": null,
   "metadata": {},
   "outputs": [],
   "source": [
    "import json\n",
    "\n",
    "from IPython.display import JSON, display\n",
    "\n",
    "import ipycytoscape\n",
    "import ipywidgets as W\n",
    "import networkx as nx\n",
    "import rdflib\n",
    "from ipycytoscape import CytoscapeWidget, Edge, Node\n",
    "from ipyradiant import FileManager, PathLoader\n",
    "from ipyradiant.rdf2nx import RDF2NX, URItoID, URItoShortID\n",
    "from rdflib.namespace import RDFS"
   ]
  },
  {
   "cell_type": "markdown",
   "metadata": {},
   "source": [
    "## Start by creating a simple cytoscape graph with some node data (using the RDF to LPG conversions)\n",
    "\n",
    "### We will use the Star Wars dataset again."
   ]
  },
  {
   "cell_type": "code",
   "execution_count": null,
   "metadata": {},
   "outputs": [],
   "source": [
    "lw = FileManager(loader=PathLoader(path=\"data\"))\n",
    "# here we hard set what we want the file to be, but ideally a user can choose a file to work with.\n",
    "lw.loader.file_picker.value = lw.loader.file_picker.options[\"starwars.ttl\"]\n",
    "rdf_graph = lw.graph\n",
    "qres = lw.graph.query(\n",
    "    \"\"\"\n",
    "    PREFIX hum: <https://swapi.co/resource/human/>\n",
    "    PREFIX film: <https://swapi.co/resource/film/>\n",
    "    \n",
    "    CONSTRUCT {\n",
    "        ?s ?p ?o .\n",
    "    }\n",
    "    WHERE {\n",
    "        ?s ?p ?o .\n",
    "        \n",
    "        VALUES (?s) {\n",
    "            (hum:1)  # Luke\n",
    "            (hum:4)  # Vader\n",
    "            (film:1) # A New Hope\n",
    "        }\n",
    "    }\n",
    "    \"\"\"\n",
    ")\n",
    "\n",
    "simple_graph = rdflib.graph.Graph().parse(data=qres.serialize(format=\"xml\"))\n",
    "uri = RDFS.label\n",
    "ns = {\"rdfs\": str(RDFS)}\n",
    "initNs = {\n",
    "    \"rdf\": \"http://www.w3.org/1999/02/22-rdf-syntax-ns#\",\n",
    "    \"rdfs\": \"http://www.w3.org/2000/01/rdf-schema#\",\n",
    "    \"res\": \"https://swapi.co/resource/\",\n",
    "    \"voc\": \"https://swapi.co/vocabulary/\",\n",
    "    \"base\": \"https://swapi.co/resource/\",\n",
    "}\n",
    "\n",
    "nx_graph = RDF2NX.convert(simple_graph, namespaces=initNs)\n",
    "directed = ipycytoscape.CytoscapeWidget()\n",
    "directed.graph.add_graph_from_networkx(nx_graph, multiple_edges=True, directed=True)\n",
    "for node in directed.graph.nodes:\n",
    "    # deal with inability to handle colons\n",
    "    node.data[\"_label\"] = node.data.get(\"rdfs:label\", None)\n",
    "    node.data[\"_attrs\"] = json.dumps(node.data, indent=2)\n",
    "directed.set_layout(\n",
    "    name=\"dagre\", animate=False, randomize=False, maxSimulationTime=2000\n",
    ")\n",
    "# Workaround for style overwriting\n",
    "directed.set_style(\n",
    "    [\n",
    "        {\n",
    "            \"selector\": \"node\",\n",
    "            \"css\": {\n",
    "                \"label\": \"data(_label)\",\n",
    "                \"text-wrap\": \"wrap\",\n",
    "                \"text-max-width\": \"150px\",\n",
    "                \"text-valign\": \"center\",\n",
    "                \"text-halign\": \"center\",\n",
    "                \"font-size\": \"10\",\n",
    "                \"font-family\": '\"Gill Sans\", sans-serif',\n",
    "                \"color\": \"blue\",\n",
    "            },\n",
    "        },\n",
    "        {\n",
    "            \"selector\": \"edge\",\n",
    "            \"css\": {\n",
    "                \"label\": \"data(_label)\",\n",
    "                \"text-wrap\": \"wrap\",\n",
    "                \"text-max-width\": \"150px\",\n",
    "                \"text-valign\": \"center\",\n",
    "                \"text-halign\": \"center\",\n",
    "                \"font-size\": \"10\",\n",
    "                \"font-family\": '\"Gill Sans\", sans-serif',\n",
    "                \"color\": \"green\",\n",
    "            },\n",
    "        },\n",
    "        {\n",
    "            \"selector\": \"edge.directed\",\n",
    "            \"style\": {\n",
    "                \"curve-style\": \"bezier\",\n",
    "                \"target-arrow-shape\": \"triangle\",\n",
    "            },\n",
    "        },\n",
    "        {\"selector\": \"edge.multiple_edges\", \"style\": {\"curve-style\": \"bezier\"}},\n",
    "        {\n",
    "            \"selector\": \":active \",\n",
    "            \"css\": {\n",
    "                \"label\": \"data(_attrs)\",\n",
    "                \"text-wrap\": \"wrap\",\n",
    "                \"text-max-width\": \"500px\",\n",
    "                \"text-valign\": \"bottom\",\n",
    "                \"text-halign\": \"right\",\n",
    "                \"text-background-opacity\": 0.9,\n",
    "                \"text-background-color\": \"white\",\n",
    "                \"text-background-shape\": \"roundrectangle\",\n",
    "                \"color\": \"black\",\n",
    "            },\n",
    "        },\n",
    "    ]\n",
    ")"
   ]
  },
  {
   "cell_type": "markdown",
   "metadata": {},
   "source": [
    "## We now have a simple cytoscape graph with the desired style and layout characteristics.\n",
    "\n",
    "### Let's take a look at the graph."
   ]
  },
  {
   "cell_type": "code",
   "execution_count": null,
   "metadata": {},
   "outputs": [],
   "source": [
    "directed"
   ]
  },
  {
   "cell_type": "markdown",
   "metadata": {},
   "source": [
    "## While this graph is useful in providing relationships between nodes and subjects in the graph, a user might want to view all the specific data that has been collapsed onto the nodes in the `Cytoscape` graph. To do this, we will incorporate a JSONWidget that can be synced with the graph to show the data. This requires two steps:\n",
    "\n",
    "1. Set up the necessary interaction events with the cytoscape graph\n",
    "2. Create the output widget to display the JSON data. In this example, I'll be putting\n",
    "   the JSON next to the graph in an `ipywidgets.GridBox`"
   ]
  },
  {
   "cell_type": "code",
   "execution_count": null,
   "metadata": {},
   "outputs": [],
   "source": [
    "# set up necessary interaction events with the cytoscape graph\n",
    "def log_node_clicks(node):\n",
    "    full_display.selected_node = node\n",
    "    data = node[\"data\"]\n",
    "    data.pop(\"_label\", None)\n",
    "    data.pop(\"_attrs\", None)\n",
    "    with json_output:\n",
    "        json_output.clear_output()\n",
    "        display(JSON(data))\n",
    "\n",
    "\n",
    "directed.on(\"node\", \"click\", log_node_clicks)\n",
    "\n",
    "# create output widget\n",
    "json_output = W.Output()\n",
    "full_display = W.GridBox(\n",
    "    children=[directed, json_output],\n",
    "    layout=W.Layout(grid_template_columns=\"repeat(2, 500px)\", height=\"450px\"),\n",
    ")"
   ]
  },
  {
   "cell_type": "code",
   "execution_count": null,
   "metadata": {},
   "outputs": [],
   "source": [
    "full_display"
   ]
  },
  {
   "cell_type": "markdown",
   "metadata": {},
   "source": [
    "## As seen above, we can now see the `JSON` data attached to the nodes."
   ]
  }
 ],
 "metadata": {
  "kernelspec": {
   "display_name": "Python 3",
   "language": "python",
   "name": "python3"
  },
  "language_info": {
   "codemirror_mode": {
    "name": "ipython",
    "version": 3
   },
   "file_extension": ".py",
   "mimetype": "text/x-python",
   "name": "python",
   "nbconvert_exporter": "python",
   "pygments_lexer": "ipython3",
   "version": "3.7.8"
  }
 },
 "nbformat": 4,
 "nbformat_minor": 4
}
