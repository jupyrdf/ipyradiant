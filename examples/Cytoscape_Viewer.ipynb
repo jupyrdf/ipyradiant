{
 "cells": [
  {
   "cell_type": "markdown",
   "id": "equivalent-publisher",
   "metadata": {},
   "source": [
    "# CytoscapeViewer Example\n",
    "\n",
    "In this notebook we show how to simply draw a cytoscape graph."
   ]
  },
  {
   "cell_type": "code",
   "execution_count": null,
   "id": "grateful-dependence",
   "metadata": {},
   "outputs": [],
   "source": [
    "import rdflib\n",
    "\n",
    "from ipyradiant import FileManager, PathLoader\n",
    "from ipyradiant.visualization import CytoscapeViewer"
   ]
  },
  {
   "cell_type": "markdown",
   "id": "protected-tomorrow",
   "metadata": {},
   "source": [
    "Let's start by getting our graph loaded in."
   ]
  },
  {
   "cell_type": "markdown",
   "id": "about-smart",
   "metadata": {},
   "source": [
    "Explain why we need a subgraph (too many nodes causes issues with cytoscape)."
   ]
  },
  {
   "cell_type": "code",
   "execution_count": null,
   "id": "grand-lingerie",
   "metadata": {},
   "outputs": [],
   "source": [
    "lw = FileManager(loader=PathLoader(path=\"data\"))\n",
    "# here we hard set what we want the file to be, but ideally a user can choose a file to work with.\n",
    "lw.loader.file_picker.value = lw.loader.file_picker.options[\"starwars.ttl\"]\n",
    "rdf_graph = lw.graph\n",
    "qres = lw.graph.query(\n",
    "    \"\"\"\n",
    "    PREFIX planet: <https://swapi.co/resource/planet/>\n",
    "    PREFIX human: <https://swapi.co/resource/human/>\n",
    "    PREFIX film: <https://swapi.co/resource/film/>\n",
    "    \n",
    "    CONSTRUCT {\n",
    "        ?s ?p ?o .\n",
    "    }\n",
    "    WHERE {\n",
    "        ?s ?p ?o .\n",
    "        \n",
    "        VALUES (?s) {\n",
    "            (human:1)\n",
    "            (human:4)\n",
    "            (human:5)\n",
    "            (film:1)\n",
    "            (film:4)\n",
    "            (planet:1)\n",
    "            (planet:2)\n",
    "        }\n",
    "    }\n",
    "    \"\"\"\n",
    ")\n",
    "\n",
    "simple_graph = rdflib.graph.Graph().parse(data=qres.serialize(format=\"xml\"))"
   ]
  },
  {
   "cell_type": "markdown",
   "id": "excessive-mixer",
   "metadata": {},
   "source": [
    "## Now we can initiate the `CytoscapeViewer` object, which allows us to get a nice representation of an RDF or networkx graph"
   ]
  },
  {
   "cell_type": "code",
   "execution_count": null,
   "id": "accompanied-plymouth",
   "metadata": {},
   "outputs": [],
   "source": [
    "# Try changing edge_labels=False for a cleaner (if less informative) visualization\n",
    "cv = CytoscapeViewer(animate=True, node_labels=True, edge_labels=True)\n",
    "cv.graph = simple_graph"
   ]
  },
  {
   "cell_type": "code",
   "execution_count": null,
   "id": "infrared-renaissance",
   "metadata": {},
   "outputs": [],
   "source": [
    "cv"
   ]
  },
  {
   "cell_type": "markdown",
   "id": "hearing-coverage",
   "metadata": {},
   "source": [
    "> The literal data from the RDF graph is collapsed onto the node based on the `RDF2NX`\n",
    "> converter. For more information see [this example](RDF_to_NX.ipynb).\n",
    "\n",
    "> For a method to link the cytoscape graph to a JSON viewer in order to inspect node\n",
    "> data, see [this example](JSON_Interactive_Example.ipynb)."
   ]
  }
 ],
 "metadata": {
  "kernelspec": {
   "display_name": "Python 3",
   "language": "python",
   "name": "python3"
  },
  "language_info": {
   "codemirror_mode": {
    "name": "ipython",
    "version": 3
   },
   "file_extension": ".py",
   "mimetype": "text/x-python",
   "name": "python",
   "nbconvert_exporter": "python",
   "pygments_lexer": "ipython3",
   "version": "3.7.9"
  }
 },
 "nbformat": 4,
 "nbformat_minor": 5
}
