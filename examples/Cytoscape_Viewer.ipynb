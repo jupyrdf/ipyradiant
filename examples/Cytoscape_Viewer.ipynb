{
 "cells": [
  {
   "cell_type": "markdown",
   "id": "provincial-apparel",
   "metadata": {},
   "source": [
    "### In this notebook we aim to develop a universal cytoscape viewer that somebody can use to view an rdf or networkx object."
   ]
  },
  {
   "cell_type": "code",
   "execution_count": null,
   "id": "technical-brand",
   "metadata": {},
   "outputs": [],
   "source": [
    "from ipyradiant import FileManager, PathLoader\n",
    "from ipyradiant.visualization import CytoscapeViewer\n",
    "import rdflib"
   ]
  },
  {
   "cell_type": "markdown",
   "id": "whole-pierre",
   "metadata": {},
   "source": [
    "Let's start by getting our graph loaded in."
   ]
  },
  {
   "cell_type": "code",
   "execution_count": null,
   "id": "italian-living",
   "metadata": {},
   "outputs": [],
   "source": [
    "lw = FileManager(loader=PathLoader(path=\"data\"))\n",
    "# here we hard set what we want the file to be, but ideally a user can choose a file to work with.\n",
    "lw.loader.file_picker.value = lw.loader.file_picker.options[\"starwars.ttl\"]\n",
    "rdf_graph = lw.graph\n",
    "qres = lw.graph.query(\n",
    "    \"\"\"\n",
    "    PREFIX hum: <https://swapi.co/resource/human/>\n",
    "    PREFIX film: <https://swapi.co/resource/film/>\n",
    "    \n",
    "    CONSTRUCT {\n",
    "        ?s ?p ?o .\n",
    "    }\n",
    "    WHERE {\n",
    "        ?s ?p ?o .\n",
    "        \n",
    "        VALUES (?s) {\n",
    "            (hum:1)  # Luke\n",
    "            (hum:4)  # Vader\n",
    "            (film:1) # A New Hope\n",
    "        }\n",
    "    }\n",
    "    \"\"\"\n",
    ")\n",
    "\n",
    "simple_graph = rdflib.graph.Graph().parse(data=qres.serialize(format=\"xml\"))"
   ]
  },
  {
   "cell_type": "markdown",
   "id": "bridal-operations",
   "metadata": {},
   "source": [
    "## Now we can initiate the `CytoscapeViewer` object, which allows us to get a nice representation of an RDF or networkx graph"
   ]
  },
  {
   "cell_type": "code",
   "execution_count": null,
   "id": "elder-decimal",
   "metadata": {},
   "outputs": [],
   "source": [
    "cv = CytoscapeViewer()\n",
    "cv.cytoscape_widget.data = simple_graph"
   ]
  },
  {
   "cell_type": "code",
   "execution_count": null,
   "id": "angry-skill",
   "metadata": {},
   "outputs": [],
   "source": [
    "cv"
   ]
  },
  {
   "cell_type": "code",
   "execution_count": null,
   "id": "announced-madrid",
   "metadata": {},
   "outputs": [],
   "source": []
  }
 ],
 "metadata": {
  "kernelspec": {
   "display_name": "Python 3",
   "language": "python",
   "name": "python3"
  },
  "language_info": {
   "codemirror_mode": {
    "name": "ipython",
    "version": 3
   },
   "file_extension": ".py",
   "mimetype": "text/x-python",
   "name": "python",
   "nbconvert_exporter": "python",
   "pygments_lexer": "ipython3",
   "version": "3.7.9"
  }
 },
 "nbformat": 4,
 "nbformat_minor": 5
}
