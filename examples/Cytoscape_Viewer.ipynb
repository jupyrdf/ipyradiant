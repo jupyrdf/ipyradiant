{
 "cells": [
  {
   "cell_type": "markdown",
   "id": "twelve-nothing",
   "metadata": {},
   "source": [
    "# CytoscapeViewer Example\n",
    "In this notebook we show how to simply draw a cytoscape graph."
   ]
  },
  {
   "cell_type": "code",
   "execution_count": null,
   "id": "graduate-pantyhose",
   "metadata": {},
   "outputs": [],
   "source": [
    "import rdflib\n",
    "\n",
    "from ipyradiant import FileManager, PathLoader\n",
    "from ipyradiant.visualization import CytoscapeViewer"
   ]
  },
  {
   "cell_type": "markdown",
   "id": "latest-outdoors",
   "metadata": {},
   "source": [
    "Let's start by getting our graph loaded in."
   ]
  },
  {
   "cell_type": "markdown",
   "id": "alpine-peace",
   "metadata": {},
   "source": [
    "Explain why we need a subgraph (too many nodes causes issues with cytoscape). "
   ]
  },
  {
   "cell_type": "code",
   "execution_count": null,
   "id": "western-pension",
   "metadata": {},
   "outputs": [],
   "source": [
    "lw = FileManager(loader=PathLoader(path=\"data\"))\n",
    "# here we hard set what we want the file to be, but ideally a user can choose a file to work with.\n",
    "lw.loader.file_picker.value = lw.loader.file_picker.options[\"starwars.ttl\"]\n",
    "rdf_graph = lw.graph\n",
    "qres = lw.graph.query(\n",
    "    \"\"\"\n",
    "    PREFIX planet: <https://swapi.co/resource/planet/>\n",
    "    PREFIX human: <https://swapi.co/resource/human/>\n",
    "    PREFIX film: <https://swapi.co/resource/film/>\n",
    "    \n",
    "    CONSTRUCT {\n",
    "        ?s ?p ?o .\n",
    "    }\n",
    "    WHERE {\n",
    "        ?s ?p ?o .\n",
    "        \n",
    "        VALUES (?s) {\n",
    "            (human:1)  # Luke\n",
    "            (human:2)\n",
    "            (human:3)\n",
    "            (human:4)  # Vader\n",
    "            (human:5)\n",
    "            (human:6)\n",
    "            (human:7)\n",
    "            (film:1) # A New Hope\n",
    "            (film:2)\n",
    "            (film:3)\n",
    "            (film:4)\n",
    "            (planet:1)\n",
    "            (planet:2)\n",
    "            (planet:3)\n",
    "        }\n",
    "    }\n",
    "    \"\"\"\n",
    ")\n",
    "\n",
    "simple_graph = rdflib.graph.Graph().parse(data=qres.serialize(format=\"xml\"))"
   ]
  },
  {
   "cell_type": "markdown",
   "id": "public-rental",
   "metadata": {},
   "source": [
    "## Now we can initiate the `CytoscapeViewer` object, which allows us to get a nice representation of an RDF or networkx graph"
   ]
  },
  {
   "cell_type": "code",
   "execution_count": null,
   "id": "chemical-prerequisite",
   "metadata": {},
   "outputs": [],
   "source": [
    "cv = CytoscapeViewer(animate=True, labels=False)\n",
    "cv.graph = simple_graph"
   ]
  },
  {
   "cell_type": "code",
   "execution_count": null,
   "id": "unlimited-madness",
   "metadata": {},
   "outputs": [],
   "source": [
    "cv"
   ]
  },
  {
   "cell_type": "markdown",
   "id": "transparent-white",
   "metadata": {},
   "source": [
    "> Note: the literal data from the RDF graph is collapsed onto the node based on the `RDF2NX` converter. For more information on the converter, see [INSERT RDF2NX NOTEBOOK LINK HERE]. For a method to link the cytoscape graph to a JSON viewer in order to inspect node data, see [INSERT JSON EXAMPLE HERE]. "
   ]
  }
 ],
 "metadata": {
  "kernelspec": {
   "display_name": "Python 3",
   "language": "python",
   "name": "python3"
  },
  "language_info": {
   "codemirror_mode": {
    "name": "ipython",
    "version": 3
   },
   "file_extension": ".py",
   "mimetype": "text/x-python",
   "name": "python",
   "nbconvert_exporter": "python",
   "pygments_lexer": "ipython3",
   "version": "3.7.9"
  }
 },
 "nbformat": 4,
 "nbformat_minor": 5
}
