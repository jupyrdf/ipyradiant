{
 "cells": [
  {
   "cell_type": "markdown",
   "id": "headed-opera",
   "metadata": {},
   "source": [
    "# In this notebook we show how to simply draw a cytoscape graph."
   ]
  },
  {
   "cell_type": "code",
   "execution_count": null,
   "id": "dependent-archives",
   "metadata": {},
   "outputs": [],
   "source": [
    "import rdflib\n",
    "\n",
    "from ipyradiant import FileManager, PathLoader\n",
    "from ipyradiant.visualization import CytoscapeViewer"
   ]
  },
  {
   "cell_type": "markdown",
   "id": "printable-hostel",
   "metadata": {},
   "source": [
    "Let's start by getting our graph loaded in."
   ]
  },
  {
   "cell_type": "code",
   "execution_count": null,
   "id": "pleased-richmond",
   "metadata": {},
   "outputs": [],
   "source": [
    "lw = FileManager(loader=PathLoader(path=\"data\"))\n",
    "# here we hard set what we want the file to be, but ideally a user can choose a file to work with.\n",
    "lw.loader.file_picker.value = lw.loader.file_picker.options[\"starwars.ttl\"]\n",
    "rdf_graph = lw.graph\n",
    "qres = lw.graph.query(\n",
    "    \"\"\"\n",
    "    PREFIX hum: <https://swapi.co/resource/human/>\n",
    "    PREFIX film: <https://swapi.co/resource/film/>\n",
    "    \n",
    "    CONSTRUCT {\n",
    "        ?s ?p ?o .\n",
    "    }\n",
    "    WHERE {\n",
    "        ?s ?p ?o .\n",
    "        \n",
    "        VALUES (?s) {\n",
    "            (hum:1)  # Luke\n",
    "            (hum:4)  # Vader\n",
    "            (film:1) # A New Hope\n",
    "        }\n",
    "    }\n",
    "    \"\"\"\n",
    ")\n",
    "\n",
    "simple_graph = rdflib.graph.Graph().parse(data=qres.serialize(format=\"xml\"))"
   ]
  },
  {
   "cell_type": "markdown",
   "id": "closing-revolution",
   "metadata": {},
   "source": [
    "## Now we can initiate the `CytoscapeViewer` object, which allows us to get a nice representation of an RDF or networkx graph"
   ]
  },
  {
   "cell_type": "code",
   "execution_count": null,
   "id": "regular-celebration",
   "metadata": {},
   "outputs": [],
   "source": [
    "cv = CytoscapeViewer()\n",
    "cv.data = simple_graph"
   ]
  },
  {
   "cell_type": "code",
   "execution_count": null,
   "id": "suitable-alloy",
   "metadata": {},
   "outputs": [],
   "source": [
    "cv"
   ]
  }
 ],
 "metadata": {
  "kernelspec": {
   "display_name": "Python 3",
   "language": "python",
   "name": "python3"
  },
  "language_info": {
   "codemirror_mode": {
    "name": "ipython",
    "version": 3
   },
   "file_extension": ".py",
   "mimetype": "text/x-python",
   "name": "python",
   "nbconvert_exporter": "python",
   "pygments_lexer": "ipython3",
   "version": "3.7.9"
  }
 },
 "nbformat": 4,
 "nbformat_minor": 5
}
