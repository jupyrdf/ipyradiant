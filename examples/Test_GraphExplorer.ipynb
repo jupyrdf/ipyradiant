{
 "cells": [
  {
   "cell_type": "markdown",
   "metadata": {},
   "source": [
    "# A Test for the Graph Explorer Widget\n",
    "\n",
    "This uses [importnb](https://pypi.org/project/importnb) to load the\n",
    "[GraphExplorer](./GraphExplorer.ipynb) for interactive and automated testing.\n",
    "\n",
    "Current implementation tests the ipyradiant widgets only (not RDF2NX code in notebook)."
   ]
  },
  {
   "cell_type": "code",
   "execution_count": null,
   "metadata": {},
   "outputs": [],
   "source": [
    "import json\n",
    "import os\n",
    "import time\n",
    "from pathlib import Path\n",
    "\n",
    "import importnb\n",
    "import ipywidgets as W\n",
    "from rdflib import Graph\n",
    "from requests_cache import CachedSession\n",
    "\n",
    "with importnb.Notebook():\n",
    "    try:\n",
    "        from GraphExplorer import NODE_TO_SELECT, SSSW_VALUES, TSSW_VALUES, ge, lw\n",
    "    except GraphExplorer:\n",
    "        from .GraphExplorer import NODE_TO_SELECT, SSSW_VALUES, TSSW_VALUES, ge, lw"
   ]
  },
  {
   "cell_type": "code",
   "execution_count": null,
   "metadata": {},
   "outputs": [],
   "source": [
    "fp = lw.loader.file_picker\n",
    "tssw = ge.node_select.type_select.select_widget\n",
    "sssw = ge.node_select.subject_select.select_widget"
   ]
  },
  {
   "cell_type": "markdown",
   "metadata": {},
   "source": [
    "This notebook is used as part of the `ipyradiant` test suite, where `IPYRADIANT_TESTING`\n",
    "will be set, which will trigger the automted section below."
   ]
  },
  {
   "cell_type": "code",
   "execution_count": null,
   "metadata": {},
   "outputs": [],
   "source": [
    "IS_TESTING = json.loads(os.environ.get(\"IPYRADIANT_TESTING\", \"false\"))\n",
    "IS_TESTING"
   ]
  },
  {
   "cell_type": "markdown",
   "metadata": {},
   "source": [
    "Tests are implemented as buttons you can click. Only using `starwars` graphs for\n",
    "testing."
   ]
  },
  {
   "cell_type": "code",
   "execution_count": null,
   "metadata": {},
   "outputs": [],
   "source": [
    "tests = [\n",
    "    W.Button(description=f\"{k}\") for k, v in fp.options.items() if v and \"starwars\" in k\n",
    "]"
   ]
  },
  {
   "cell_type": "code",
   "execution_count": null,
   "metadata": {},
   "outputs": [],
   "source": [
    "timings = {}\n",
    "\n",
    "\n",
    "def timestamp(key, msg):\n",
    "    if key not in timings:\n",
    "        timings[key] = []\n",
    "    timings[key] += [time.time()]\n",
    "    delta = 0 if len(timings[key]) == 1 else timings[key][-1] - timings[key][-2]\n",
    "    print(f\"[{key}]\", f\"+{int(delta)}\", msg)"
   ]
  },
  {
   "cell_type": "code",
   "execution_count": null,
   "metadata": {},
   "outputs": [],
   "source": [
    "def _run_test(btn):\n",
    "    # TODO improve the json tests and node selection using asyncio.Queue\n",
    "    p = btn.description\n",
    "\n",
    "    try:\n",
    "        timestamp(p, \"starting...\")\n",
    "        ge.rdf_graph = Graph()\n",
    "        timestamp(p, \"cleaned...\")\n",
    "        assert not tssw.value\n",
    "        assert not sssw.value\n",
    "        timestamp(p, f\"loading...\")\n",
    "        fp.value = fp.options[p]\n",
    "        timestamp(p, f\"... {len(lw.graph)} triples loaded\")\n",
    "        ge.rdf_graph = lw.graph\n",
    "        assert len(ge.rdf_graph), \"Graph failed to populate.\"\n",
    "        assert len(tssw.options), \"Type Select options failed to populate.\"\n",
    "        assert len(sssw.options) == 0, f\"{len(sssw.options)} != 0\"\n",
    "        tssw.value = TSSW_VALUES\n",
    "        timestamp(p, f\"type selections made...\")\n",
    "        assert len(sssw.options), \"Failed to populate Subject Select options.\"\n",
    "        sssw.value = SSSW_VALUES\n",
    "        timestamp(p, f\"subject selections made...\")\n",
    "        timestamp(p, f\"checking viewer graphs...\")\n",
    "        assert len(ge.interactive_viewer.cytoscape_widget.graph.nodes) == len(\n",
    "            SSSW_VALUES\n",
    "        )\n",
    "        timestamp(p, f\"choosing node...\")\n",
    "        ge.interactive_viewer.selected_node = NODE_TO_SELECT\n",
    "        timestamp(p, \"OK!\")\n",
    "    except Exception as err:\n",
    "        timestamp(p, \"ERROR\")\n",
    "        timestamp(p, err)\n",
    "        raise Exception(f\"{p} failed\") from err\n",
    "\n",
    "\n",
    "[d.on_click(_run_test) for d in tests]"
   ]
  },
  {
   "cell_type": "markdown",
   "metadata": {},
   "source": [
    "## Show the Test Application"
   ]
  },
  {
   "cell_type": "code",
   "execution_count": null,
   "metadata": {},
   "outputs": [],
   "source": [
    "W.VBox([ge, W.HBox([W.Label(\"Start Test\"), *tests])])"
   ]
  },
  {
   "cell_type": "markdown",
   "metadata": {},
   "source": [
    "## (Maybe) Run the test automatically"
   ]
  },
  {
   "cell_type": "code",
   "execution_count": null,
   "metadata": {},
   "outputs": [],
   "source": [
    "SKIP_TEST = True  # known issues prevent us from testing this capability currently\n",
    "if IS_TESTING and not SKIP_TEST:\n",
    "    for test in tests:\n",
    "        test.click()"
   ]
  }
 ],
 "metadata": {
  "kernelspec": {
   "display_name": "Python 3",
   "language": "python",
   "name": "python3"
  },
  "language_info": {
   "codemirror_mode": {
    "name": "ipython",
    "version": 3
   },
   "file_extension": ".py",
   "mimetype": "text/x-python",
   "name": "python",
   "nbconvert_exporter": "python",
   "pygments_lexer": "ipython3",
   "version": "3.7.10"
  }
 },
 "nbformat": 4,
 "nbformat_minor": 4
}
