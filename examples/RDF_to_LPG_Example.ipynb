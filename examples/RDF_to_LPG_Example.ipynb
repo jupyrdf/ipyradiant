{
 "cells": [
  {
   "cell_type": "code",
   "execution_count": null,
   "metadata": {},
   "outputs": [],
   "source": [
    "import rdflib\n",
    "from ipyradiant import (\n",
    "    CustomURIRef,\n",
    "    FileManager,\n",
    "    MultiPanelSelect,\n",
    "    PathLoader,\n",
    "    PredicateMultiselectApp,\n",
    "    collapse_predicates,\n",
    ")\n",
    "from rdflib import URIRef"
   ]
  },
  {
   "cell_type": "markdown",
   "metadata": {},
   "source": [
    "## In this notebook we will show an example of how a user can take an RDF Graph (`rdf.graph.Graph`) and collapse predicates down while adding object data to subject nodes. This converts the graph from an `rdf.graph.Graph` instance to and LPG graph, in this case a `networkx.Graph` object."
   ]
  },
  {
   "cell_type": "markdown",
   "metadata": {},
   "source": [
    "## Start by using the `PredicateMultiselectApp`\n",
    "\n",
    "### We also utilize the `CustomURIRef` class from `ipyradiant`. This allows us to get a 'pretty' representation of a URIRef while mainting access to the valuable URIRef."
   ]
  },
  {
   "cell_type": "markdown",
   "metadata": {},
   "source": [
    "We can borrow the loading widgets seen in other examples like the Tab App in order to\n",
    "get a graph to play around with."
   ]
  },
  {
   "cell_type": "code",
   "execution_count": null,
   "metadata": {},
   "outputs": [],
   "source": [
    "lw = FileManager(loader=PathLoader(path=\"data\"))\n",
    "# here we hard set what we want the file to be, but ideally a user can choose a file to work with.\n",
    "lw.loader.file_picker.value = lw.loader.file_picker.options[\"oa.jsonld\"]\n",
    "lw"
   ]
  },
  {
   "cell_type": "markdown",
   "metadata": {},
   "source": [
    "Now we can use the `PredicateMultiselectApp` to move predicates around based on what we\n",
    "which ones we want to select. The 'Add predicates where object is a literal' button will\n",
    "automatically move all predicates to the 'predicates to collapse' side if that predicate\n",
    "is _always_ associated with a literal object."
   ]
  },
  {
   "cell_type": "code",
   "execution_count": null,
   "metadata": {},
   "outputs": [],
   "source": [
    "graph = lw.graph\n",
    "pma = PredicateMultiselectApp(\n",
    "    graph=graph, namespaces={URIRef(\"http://www.w3.org/\"): \"w3\"}\n",
    ")\n",
    "pma"
   ]
  },
  {
   "cell_type": "markdown",
   "metadata": {},
   "source": [
    "## Collapsing of Graph"
   ]
  },
  {
   "cell_type": "markdown",
   "metadata": {},
   "source": [
    "### Step 1. We start by getting all the predicates from the `PredicateMultiselectApp` above. For this example we are taking all the predicates where the object is always a literal (can received by clicking the button in the above application)."
   ]
  },
  {
   "cell_type": "markdown",
   "metadata": {},
   "source": [
    "For the sake of the example, we will manually hit the button so that the\n",
    "`pma.multiselect.selected_things_list` is populated."
   ]
  },
  {
   "cell_type": "code",
   "execution_count": null,
   "metadata": {},
   "outputs": [],
   "source": [
    "b = \"\"\n",
    "pma.populate_predicates(b)"
   ]
  },
  {
   "cell_type": "code",
   "execution_count": null,
   "metadata": {},
   "outputs": [],
   "source": [
    "predicates_to_collapse = [_.uri for _ in pma.multiselect.selected_things_list]"
   ]
  },
  {
   "cell_type": "markdown",
   "metadata": {},
   "source": [
    "### Step 2. Now we can call the `ipyradiant` fuction `collapse_predicates` that will collapse down the data in the graph based on the specified `predicates_to_collapse`."
   ]
  },
  {
   "cell_type": "code",
   "execution_count": null,
   "metadata": {},
   "outputs": [],
   "source": [
    "# for the `collapse_predicates` function, we will use the same namespaces as we did with the `PredicateMultiselectApp`\n",
    "netx_graph = collapse_predicates(\n",
    "    graph, predicates_to_collapse, namespaces=pma.namespaces\n",
    ")"
   ]
  },
  {
   "cell_type": "markdown",
   "metadata": {},
   "source": [
    "## Evidence of Correct Operation\n",
    "\n",
    "Here we can see what the first node in the graph looks like now. We can see that\n",
    "`rdfs:comment`, a previous predicate, has been collapsed onto the node and the\n",
    "corresponding object, \"A object of the relationship is a copy of the Source resource's\n",
    "representation, appropriate for the Annotation.\" is attached to it."
   ]
  },
  {
   "cell_type": "code",
   "execution_count": null,
   "metadata": {},
   "outputs": [],
   "source": [
    "netx_graph.nodes[rdflib.term.URIRef(\"http://www.w3.org/ns/oa#cachedSource\")]"
   ]
  },
  {
   "cell_type": "markdown",
   "metadata": {},
   "source": [
    "With this collapsing algorithm, if an object is a `URIRef` as well as a subject of a\n",
    "different object in the graph, it will not be collapsed. However, the data will still be\n",
    "moved onto the subject node if the user wishes to collapse said predicate. If the object\n",
    "is a literal, then that node will disappear from the graph and the predicate will be\n",
    "collapsed onto the subject, with all of the data being moved onto the node and erased\n",
    "from the graph. Examples of these behaviors are seen below:"
   ]
  },
  {
   "cell_type": "markdown",
   "metadata": {},
   "source": [
    "We will focus on two triples.. The first is\n",
    "`(rdflib.term.URIRef('http://www.w3.org/ns/oa#Motivation'), rdflib.term.URIRef('http://www.w3.org/2000/01/rdf-schema#subClassOf'), rdflib.term.URIRef('http://www.w3.org/2004/02/skos/core#Concept'))`.\n",
    "Since this object is not a subject, when we collapse this predicate we can expect the\n",
    "node `rdflib.term.URIRef('http://www.w3.org/2000/01/rdf-schema#subClassOf'` to\n",
    "disappear."
   ]
  },
  {
   "cell_type": "code",
   "execution_count": null,
   "metadata": {},
   "outputs": [],
   "source": [
    "example_1 = collapse_predicates(\n",
    "    graph,\n",
    "    predicates_to_collapse=[\n",
    "        rdflib.term.URIRef(\"http://www.w3.org/2000/01/rdf-schema#subClassOf\")\n",
    "    ],\n",
    "    namespaces=pma.namespaces,\n",
    ")\n",
    "# we can see the data on the node\n",
    "print(example_1.nodes[rdflib.term.URIRef(\"http://www.w3.org/ns/oa#Motivation\")])\n",
    "# we can see the object node does not exist anymore\n",
    "try:\n",
    "    print(\n",
    "        example_1.nodes[\n",
    "            rdflib.term.URIRef(\n",
    "                rdflib.term.URIRef(\"http://www.w3.org/2004/02/skos/core#Concept\")\n",
    "            )\n",
    "        ]\n",
    "    )\n",
    "except:\n",
    "    print(\"The node has been removed from the graph.\")"
   ]
  },
  {
   "cell_type": "markdown",
   "metadata": {},
   "source": [
    "The second triple to focus on is\n",
    "`(rdflib.term.URIRef('http://www.w3.org/ns/oa#cachedSource'), rdflib.term.URIRef('http://www.w3.org/2000/01/rdf-schema#isDefinedBy'), rdflib.term.URIRef('http://www.w3.org/ns/oa#'))`.\n",
    "Since this object is also a subject, when we collapse the predicate we can expect the\n",
    "node `rdflib.term.URIRef('http://www.w3.org/ns/oa#')` to still be in the graph."
   ]
  },
  {
   "cell_type": "code",
   "execution_count": null,
   "metadata": {},
   "outputs": [],
   "source": [
    "example_2 = collapse_predicates(\n",
    "    graph,\n",
    "    predicates_to_collapse=[\n",
    "        rdflib.term.URIRef(\"http://www.w3.org/2000/01/rdf-schema#isDefinedBy\")\n",
    "    ],\n",
    "    namespaces=pma.namespaces,\n",
    ")\n",
    "# we can see the data on the node\n",
    "print(example_2.nodes[rdflib.term.URIRef(\"http://www.w3.org/ns/oa#cachedSource\")])\n",
    "# we can see the object node is still in the graph\n",
    "try:\n",
    "    node_data = example_2.nodes[rdflib.term.URIRef(\"http://www.w3.org/ns/oa#\")]\n",
    "    # just look at one bit of sample data on the node to show it still exists\n",
    "    print(\"The node still exists.\")\n",
    "except:\n",
    "    print(\"The node has been removed from the graph.\")"
   ]
  }
 ],
 "metadata": {
  "kernelspec": {
   "display_name": "Python 3",
   "language": "python",
   "name": "python3"
  },
  "language_info": {
   "codemirror_mode": {
    "name": "ipython",
    "version": 3
   },
   "file_extension": ".py",
   "mimetype": "text/x-python",
   "name": "python",
   "nbconvert_exporter": "python",
   "pygments_lexer": "ipython3",
   "version": "3.7.8"
  }
 },
 "nbformat": 4,
 "nbformat_minor": 4
}
