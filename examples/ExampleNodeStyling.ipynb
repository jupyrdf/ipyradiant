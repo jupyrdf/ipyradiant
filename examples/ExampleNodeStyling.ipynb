{
 "cells": [
  {
   "cell_type": "code",
   "execution_count": 1,
   "metadata": {},
   "outputs": [],
   "source": [
    "import ipycytoscape"
   ]
  },
  {
   "cell_type": "code",
   "execution_count": 2,
   "metadata": {},
   "outputs": [],
   "source": [
    "data = {\n",
    "        'nodes': [\n",
    "            {'data': {'id': '1', 'label': 'top left', 'classes': 'top-left'}},\n",
    "            {'data': {'id': '2', 'label': 'top center', 'classes': 'top-center'}},\n",
    "            {'data': {'id': '3', 'label': 'top right', 'classes': 'top-right'}},\n",
    "        ]\n",
    "    }"
   ]
  },
  {
   "cell_type": "code",
   "execution_count": 3,
   "metadata": {},
   "outputs": [],
   "source": [
    "cytoscapeobj = ipycytoscape.CytoscapeWidget()\n",
    "cytoscapeobj.graph.add_graph_from_json(data)"
   ]
  },
  {
   "cell_type": "code",
   "execution_count": 4,
   "metadata": {},
   "outputs": [],
   "source": [
    "DEFAULT_STYLE = [\n",
    "    {\n",
    "        'selector': 'node[classes]',\n",
    "        'style': {\n",
    "            'font-family': 'helvetica',\n",
    "            'font-size': '20px',\n",
    "        }\n",
    "    },\n",
    "    {\n",
    "        'selector': 'node[classes]',\n",
    "        'style': {\n",
    "            'label': 'data(label)'\n",
    "        }\n",
    "    },\n",
    "    {\n",
    "        'selector': 'node[classes=\"top-left\"]',\n",
    "        'style': {\n",
    "            'color': 'red',\n",
    "            'text-valign': 'top',\n",
    "            'text-halign': 'left'\n",
    "        }\n",
    "    },\n",
    "    {\n",
    "        'selector': 'node[classes=\"top-center\"]',\n",
    "        'style': {\n",
    "            'color': 'blue',\n",
    "            'text-valign': 'top',\n",
    "            'text-halign': 'center'\n",
    "        }\n",
    "    },\n",
    "    {\n",
    "        'selector': 'node[classes=\"top-right\"]',\n",
    "        'style': {\n",
    "            'text-valign': 'top',\n",
    "            'text-halign': 'right'\n",
    "        }\n",
    "    },\n",
    "    {\n",
    "        'selector': 'node.clicked',\n",
    "        'style': {\n",
    "            'color': 'green',\n",
    "            \"background-color\": \"blue\"\n",
    "        }\n",
    "    }\n",
    "]\n"
   ]
  },
  {
   "cell_type": "code",
   "execution_count": 5,
   "metadata": {},
   "outputs": [],
   "source": [
    "class CytoscapeEventWrapper:\n",
    "    def __init__(self, cytoscape_widget: ipycytoscape.CytoscapeWidget):\n",
    "        \"\"\"TODO default_style\"\"\"\n",
    "        self.cytoscape = cytoscape_widget\n",
    "        self.cytoscape.set_style(DEFAULT_STYLE)\n",
    "        self.cytoscape.on(\"node\", \"click\", self.change_style)\n",
    "        # TODO graph_ids map for nodes to find_by_id (maybe like a cache)\n",
    "        \n",
    "    def get_node(self, node):\n",
    "        for node_obj in self.cytoscape.graph.nodes:\n",
    "            if node_obj.data[\"id\"] == node[\"data\"][\"id\"]:\n",
    "                return node_obj\n",
    "        raise ValueError(\"Node not found in cytoscape.graph.nodes.\")\n",
    "        \n",
    "    def change_style(self, node):\n",
    "        # TODO would be nice to skip if \"clicked\" already in classes\n",
    "        try:\n",
    "            node_object = self.get_node(node)\n",
    "        except ValueError:\n",
    "            # logger.warn\n",
    "            print(f\"\"\"Node '{node.data[\"id\"]}' not found in cytoscape graph.\"\"\")\n",
    "            \n",
    "        try:\n",
    "            classes = set(node_object.classes.split(\" \"))\n",
    "        except AttributeError:\n",
    "            classes = set()\n",
    "        classes.add(\"clicked\")\n",
    "        node_object.classes = \" \".join(classes)               \n",
    "    \n",
    "cw = CytoscapeEventWrapper(cytoscape_widget=cytoscapeobj)"
   ]
  },
  {
   "cell_type": "code",
   "execution_count": 6,
   "metadata": {},
   "outputs": [
    {
     "data": {
      "application/vnd.jupyter.widget-view+json": {
       "model_id": "ffd6978ea6e0403ca2af9fa46998f98e",
       "version_major": 2,
       "version_minor": 0
      },
      "text/plain": [
       "CytoscapeWidget(cytoscape_layout={'name': 'cola'}, cytoscape_style=[{'selector': 'node[classes]', 'style': {'f…"
      ]
     },
     "metadata": {},
     "output_type": "display_data"
    }
   ],
   "source": [
    "cw.cytoscape"
   ]
  },
  {
   "cell_type": "code",
   "execution_count": 10,
   "metadata": {},
   "outputs": [],
   "source": [
    "cw.cytoscape.graph.nodes[-1].classes = 'clicked'\n",
    "cw.cytoscape.send({'temp':'temp'})"
   ]
  },
  {
   "cell_type": "code",
   "execution_count": 11,
   "metadata": {},
   "outputs": [],
   "source": [
    "from ipycytoscape import Node\n",
    "node = Node(\n",
    "            data={'id':20},\n",
    "            classes=' '\n",
    "    )\n",
    "cw.cytoscape.graph.add_node(node)"
   ]
  },
  {
   "cell_type": "code",
   "execution_count": 12,
   "metadata": {},
   "outputs": [],
   "source": [
    "node.classes = 'clicked'"
   ]
  },
  {
   "cell_type": "code",
   "execution_count": 13,
   "metadata": {},
   "outputs": [],
   "source": [
    "cw.cytoscape.send({'temp':'temp'})"
   ]
  },
  {
   "cell_type": "code",
   "execution_count": 14,
   "metadata": {},
   "outputs": [
    {
     "data": {
      "application/vnd.jupyter.widget-view+json": {
       "model_id": "ffd6978ea6e0403ca2af9fa46998f98e",
       "version_major": 2,
       "version_minor": 0
      },
      "text/plain": [
       "CytoscapeWidget(cytoscape_layout={'name': 'cola'}, cytoscape_style=[{'selector': 'node[classes]', 'style': {'f…"
      ]
     },
     "metadata": {},
     "output_type": "display_data"
    }
   ],
   "source": [
    "cw.cytoscape"
   ]
  },
  {
   "cell_type": "code",
   "execution_count": null,
   "metadata": {},
   "outputs": [],
   "source": []
  }
 ],
 "metadata": {
  "kernelspec": {
   "display_name": "Python 3",
   "language": "python",
   "name": "python3"
  },
  "language_info": {
   "codemirror_mode": {
    "name": "ipython",
    "version": 3
   },
   "file_extension": ".py",
   "mimetype": "text/x-python",
   "name": "python",
   "nbconvert_exporter": "python",
   "pygments_lexer": "ipython3",
   "version": "3.7.8"
  }
 },
 "nbformat": 4,
 "nbformat_minor": 4
}
