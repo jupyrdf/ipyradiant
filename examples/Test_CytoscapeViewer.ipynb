{
 "cells": [
  {
   "cell_type": "markdown",
   "metadata": {},
   "source": [
    "# A Basic Test for the Cytoscape Viewer"
   ]
  },
  {
   "cell_type": "code",
   "execution_count": null,
   "metadata": {},
   "outputs": [],
   "source": [
    "import json\n",
    "import os\n",
    "import time\n",
    "from pathlib import Path\n",
    "\n",
    "import importnb\n",
    "from rdflib import Graph as RDFGraph\n",
    "from rdflib import Literal\n",
    "from rdflib.namespace import RDF, RDFS, Namespace\n",
    "from requests_cache import CachedSession\n",
    "\n",
    "from ipyradiant.visualization import CytoscapeViewer"
   ]
  },
  {
   "cell_type": "markdown",
   "metadata": {},
   "source": [
    "This notebook is used as part of the `ipyradiant` test suite, where `IPYRADIANT_TESTING`\n",
    "will be set, which will trigger the automted section below."
   ]
  },
  {
   "cell_type": "code",
   "execution_count": null,
   "metadata": {},
   "outputs": [],
   "source": [
    "# test graph\n",
    "EXPECTED_LEN_RDF = 0\n",
    "EXPECTED_LEN_NX_NODES = 0\n",
    "EXPECTED_LEN_NX_EDGES = 0\n",
    "\n",
    "EX = Namespace(\"https://www.example.com/\")\n",
    "graph = RDFGraph()\n",
    "graph.namespace_manager.bind(\"ex\", EX)\n",
    "\n",
    "s1 = EX.subject_1\n",
    "graph.add((s1, RDF.type, EX.Thing))\n",
    "graph.add((s1, RDFS.label, Literal(\"Thing 1\")))\n",
    "EXPECTED_LEN_RDF += 2\n",
    "EXPECTED_LEN_NX_NODES += 1\n",
    "\n",
    "s2 = EX.subject_2\n",
    "graph.add((s2, RDF.type, EX.Thing))\n",
    "graph.add((s2, RDFS.label, Literal(\"Thing 2\")))\n",
    "EXPECTED_LEN_RDF += 2\n",
    "EXPECTED_LEN_NX_NODES += 1\n",
    "\n",
    "graph.add((s1, EX.relatedTo, s2))\n",
    "EXPECTED_LEN_RDF += 1\n",
    "EXPECTED_LEN_NX_EDGES += 1"
   ]
  },
  {
   "cell_type": "code",
   "execution_count": null,
   "metadata": {},
   "outputs": [],
   "source": [
    "def timestamp(msg):\n",
    "    print(f\"[{time.time()}]\", msg)"
   ]
  },
  {
   "cell_type": "code",
   "execution_count": null,
   "metadata": {},
   "outputs": [],
   "source": [
    "try:\n",
    "    timestamp(\"initiating...\")\n",
    "    cv = CytoscapeViewer()\n",
    "    timestamp(\"initiated...\")\n",
    "    assert cv.graph is None\n",
    "    timestamp(\"setting rdf graph...\")\n",
    "    assert len(graph) == EXPECTED_LEN_RDF\n",
    "    cv.graph = graph\n",
    "    assert len(cv.graph), \"Graph failed to populate.\"\n",
    "    timestamp(\"graph set successfully\")\n",
    "    assert len(cv.cytoscape_widget.graph.nodes) > 0, \"CytoscapeWidget failed to update.\"\n",
    "    assert len(cv.cytoscape_widget.graph.nodes) == EXPECTED_LEN_NX_NODES\n",
    "    assert len(cv.cytoscape_widget.graph.edges) == EXPECTED_LEN_NX_EDGES\n",
    "    timestamp(\"graph converted successfully...\")\n",
    "    timestamp(\"OK!\")\n",
    "except Exception as err:\n",
    "    timestamp(\"ERROR\")\n",
    "    timestamp(err)\n",
    "    raise Exception(f\"{p} failed\") from err"
   ]
  }
 ],
 "metadata": {
  "kernelspec": {
   "display_name": "Python 3",
   "language": "python",
   "name": "python3"
  },
  "language_info": {
   "codemirror_mode": {
    "name": "ipython",
    "version": 3
   },
   "file_extension": ".py",
   "mimetype": "text/x-python",
   "name": "python",
   "nbconvert_exporter": "python",
   "pygments_lexer": "ipython3",
   "version": "3.7.9"
  }
 },
 "nbformat": 4,
 "nbformat_minor": 4
}
