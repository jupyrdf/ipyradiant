{
 "cells": [
  {
   "cell_type": "markdown",
   "metadata": {},
   "source": [
    "## Library Widget for Graph Exploration\n",
    "In this early example, we are demonstrating the ability to explore a graph using the `GraphExplorer` widget. The [InteractiveViewer](Improved_Vis.ipynb) widget is used to explore the graph, and the [GraphExploreNodeSelection](GraphExploreNodeSelection.ipynb) widget is used to populate the initial graph. \n",
    "\n",
    "This is an early iteration on the graph exploration capability and is expected to be a bit rough around the edges. Please submit critical bugs to the [issue tracker](https://github.com/jupyrdf/ipyradiant/issues/). "
   ]
  },
  {
   "cell_type": "markdown",
   "metadata": {},
   "source": [
    "## Load an RDF graph\n",
    "\n",
    "In this example, we will use the `ipyradiant` `FileManager`."
   ]
  },
  {
   "cell_type": "code",
   "execution_count": null,
   "metadata": {},
   "outputs": [],
   "source": [
    "from ipyradiant import FileManager, PathLoader\n",
    "\n",
    "lw = FileManager(loader=PathLoader(path=\"data\"))\n",
    "# here we hard set what we want the file to be, but ideally a user can choose a file to work with.\n",
    "lw.loader.file_picker.value = lw.loader.file_picker.options[\"starwars.ttl\"]\n",
    "lw"
   ]
  },
  {
   "cell_type": "markdown",
   "metadata": {},
   "source": [
    "## GraphExplorer\n",
    "The purpose of the `GraphExplorer` widget is to allow users to explore an RDF graph in a way that is easy and intuitive. Exploring RDF graphs helps understand where information is stored, and how things are connected. Greater understanding of the graph's structure will help in downstream tasks such as query development. \n",
    "\n",
    "### How To:\n",
    "In this early version of the `GraphExplorer`, the left-hand panel is used to select an initial set of nodes to populate the graph. \n",
    "\n",
    "#### 1. Type Select\n",
    "From the `Available types:`, choose one or more types that you want to select subject nodes from (e.g. `voc:Droid`, `voc:Film`).\n",
    "\n",
    "#### 2. Subject Select\n",
    "From the `Available subjects:` (which should have populated once a type is selected), choose one or more subjects to add to the initial graph.\n",
    "\n",
    "#### 3. Interactive Viewer\n",
    "When subjects are selected, nodes should be immediately populated in the interactive viewer. The initially populated nodes are passed through the [RDF2NX](RDF_to_NX.ipynb) process, which means they are LPG nodes with data collapsed from the RDF graph. You can select nodes and the JSON data for the node will be displayed below the main widget viewing area. \n",
    "\n",
    "> Note: expanded nodes (i.e. not the initial nodes) are not yet passed through `RDF2NX`. This means that only the initially populated nodes will have all their data from the collapsing process. This will be remedied in a future update to the library. \n",
    "\n",
    "##### a. expand a node\n",
    "When exploring an RDF graph, we can expand upon a node and display connections that are other non-Literal nodes. Once a node is selected, click the `Expand Upon Selected Node` button, which will add all outgoing connections. All node/edges added to the graph are a different color to indicate that they are `temporary`. \n",
    "\n",
    "> Note: Only connections to URIRef nodes are included to simplify the representation\n",
    "\n",
    "\n",
    "##### b. undo last expansion\n",
    "Exploration is a back-and-forth process. If a node is expanded and it is desired to undo the expansion, the `Undo Last Expansion` will remove all nodes and edges from the last expansion (including nodes locked as `permanent`). \n",
    "\n",
    "##### c. make temporary nodes/edges permanent\n",
    "As nodes are discovered that seem valuable, they can be locked in the graph to prevent removal. Nodes that are `clicked` will have their JSON data visualized, and when clicked <b>again</b> will be locked into the graph. You can confirm this by observing the change in node style. \n",
    "\n",
    "> Note: edge style for permanent edges isn't updated until the graph is reset (e.g. upon temporary node removal). This is a known issue with `ipycytoscape` and will be addressed in a future version.\n",
    "\n",
    "##### d. remove temporary nodes\n",
    "As the graph gets larger, it may become useful to prune temporary nodes/edges from the viewing area (and underlying graph). The `Remove Temporary Nodes` button will delete all temporary nodes/edges from the graph and reduce the complexity of the visualization. "
   ]
  },
  {
   "cell_type": "code",
   "execution_count": null,
   "metadata": {},
   "outputs": [],
   "source": [
    "from ipyradiant.visualization.explore import GraphExplorer"
   ]
  },
  {
   "cell_type": "code",
   "execution_count": null,
   "metadata": {},
   "outputs": [],
   "source": [
    "ge = GraphExplorer()\n",
    "ge.rdf_graph = lw.graph\n",
    "ge"
   ]
  },
  {
   "cell_type": "markdown",
   "metadata": {},
   "source": [
    "##### Perform a selection automatically\n",
    "This allows the notebook to be run completely while still demonstrating the capability (i.e. without human interaction)."
   ]
  },
  {
   "cell_type": "code",
   "execution_count": null,
   "metadata": {},
   "outputs": [],
   "source": [
    "from rdflib import URIRef\n",
    "\n",
    "# this sets our selection in the widget so that we don't have to click manually\n",
    "# CAPS vars are used for testing\n",
    "TSSW_VALUES = (\n",
    "    URIRef('https://swapi.co/vocabulary/Droid'),\n",
    "    URIRef('https://swapi.co/vocabulary/Film')\n",
    ")\n",
    "ge.node_select.type_select.select_widget.value = TSSW_VALUES\n",
    "\n",
    "SSSW_VALUES = (\n",
    "    URIRef('https://swapi.co/resource/film/1'),\n",
    "    URIRef('https://swapi.co/resource/droid/2'),\n",
    "    URIRef('https://swapi.co/resource/droid/3')\n",
    ")\n",
    "ge.node_select.subject_select.select_widget.value = SSSW_VALUES"
   ]
  },
  {
   "cell_type": "code",
   "execution_count": null,
   "metadata": {},
   "outputs": [],
   "source": [
    "# Select a node automatically (create var for testing)\n",
    "NODE_TO_SELECT = ge.interactive_viewer.cyto_graph.graph.nodes[0]\n",
    "ge.interactive_viewer.selected_node = NODE_TO_SELECT"
   ]
  }
 ],
 "metadata": {
  "kernelspec": {
   "display_name": "Python 3",
   "language": "python",
   "name": "python3"
  },
  "language_info": {
   "codemirror_mode": {
    "name": "ipython",
    "version": 3
   },
   "file_extension": ".py",
   "mimetype": "text/x-python",
   "name": "python",
   "nbconvert_exporter": "python",
   "pygments_lexer": "ipython3",
   "version": "3.7.8"
  }
 },
 "nbformat": 4,
 "nbformat_minor": 4
}
