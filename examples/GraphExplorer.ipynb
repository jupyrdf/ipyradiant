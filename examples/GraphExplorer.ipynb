{
 "cells": [
  {
   "cell_type": "markdown",
   "metadata": {},
   "source": [
    "## Library Widgets for Graph Exploration"
   ]
  },
  {
   "cell_type": "markdown",
   "metadata": {},
   "source": [
    "### Load an RDF graph\n",
    "\n",
    "In this example, we will use the `ipyradiant` `FileManager`."
   ]
  },
  {
   "cell_type": "code",
   "execution_count": null,
   "metadata": {},
   "outputs": [],
   "source": [
    "from ipyradiant import FileManager, PathLoader\n",
    "\n",
    "lw = FileManager(loader=PathLoader(path=\"data\"))\n",
    "# here we hard set what we want the file to be, but ideally a user can choose a file to work with.\n",
    "lw.loader.file_picker.value = lw.loader.file_picker.options[\"starwars.ttl\"]\n",
    "lw"
   ]
  },
  {
   "cell_type": "code",
   "execution_count": null,
   "metadata": {},
   "outputs": [],
   "source": [
    "from ipyradiant.visualization.explore import GraphExploreNodeSelection\n",
    "\n",
    "ge_selector = GraphExploreNodeSelection()\n",
    "ge_selector.graph = lw.graph\n",
    "ge_selector"
   ]
  },
  {
   "cell_type": "markdown",
   "metadata": {},
   "source": [
    "For the example, we will automatically select: \n",
    "1. Available types: `voc:Droid`, `voc:Film`\n",
    "2. Available subjects: `A New Hope`, `C-3PO`, `R2-D2`"
   ]
  },
  {
   "cell_type": "code",
   "execution_count": null,
   "metadata": {},
   "outputs": [],
   "source": [
    "from rdflib import URIRef\n",
    "\n",
    "# this sets our selection in the widget so that we don't have to manually click them for the demo\n",
    "ge_selector.type_select.select_widget.value = (\n",
    "    URIRef('https://swapi.co/vocabulary/Droid'),\n",
    "    URIRef('https://swapi.co/vocabulary/Film')\n",
    ")\n",
    "ge_selector.subject_select.select_widget.value = (\n",
    "    URIRef('https://swapi.co/resource/film/1'),\n",
    "    URIRef('https://swapi.co/resource/droid/2'),\n",
    "    URIRef('https://swapi.co/resource/droid/3')\n",
    ")"
   ]
  },
  {
   "cell_type": "code",
   "execution_count": null,
   "metadata": {},
   "outputs": [],
   "source": [
    "[val for val in ge_selector.subject_select.select_widget_value]"
   ]
  },
  {
   "cell_type": "code",
   "execution_count": null,
   "metadata": {},
   "outputs": [],
   "source": [
    "[ge_selector.subject_select.container.uri_dict[val] for val in ge_selector.subject_select.select_widget_value]"
   ]
  },
  {
   "cell_type": "code",
   "execution_count": null,
   "metadata": {},
   "outputs": [],
   "source": [
    "EXPECTED_SELECTIONS = set([\n",
    "    URIRef('https://swapi.co/resource/droid/2'),\n",
    "    URIRef('https://swapi.co/resource/film/1'),\n",
    "    URIRef('https://swapi.co/resource/droid/3'),\n",
    "])\n",
    "assert set(ge_selector.subject_select.select_widget.value) == EXPECTED_SELECTIONS, \\\n",
    "    \"Make sure to select the correct items for the example.\""
   ]
  },
  {
   "cell_type": "markdown",
   "metadata": {},
   "source": [
    "### Pass to RDF2NX"
   ]
  },
  {
   "cell_type": "code",
   "execution_count": null,
   "metadata": {},
   "outputs": [],
   "source": [
    "from ipyradiant.rdf2nx import RDF2NX\n",
    "\n",
    "nx_graph = RDF2NX.convert_nodes(node_uris=ge_selector.subject_select.select_widget.value, rdf_graph=lw.graph)"
   ]
  },
  {
   "cell_type": "code",
   "execution_count": null,
   "metadata": {},
   "outputs": [],
   "source": [
    "import json\n",
    "\n",
    "import ipycytoscape\n",
    "import ipywidgets as W"
   ]
  },
  {
   "cell_type": "code",
   "execution_count": null,
   "metadata": {},
   "outputs": [],
   "source": [
    "directed = ipycytoscape.CytoscapeWidget()\n",
    "directed.graph.add_graph_from_networkx(nx_graph, multiple_edges=True, directed=True)"
   ]
  },
  {
   "cell_type": "code",
   "execution_count": null,
   "metadata": {},
   "outputs": [],
   "source": [
    "for node in directed.graph.nodes:\n",
    "    # deal with inability to handle `:` e.g. thing:data\n",
    "    node.data[\"_label\"] = node.data.get(\"rdfs:label\", None)\n",
    "    node.data[\"_attrs\"] = json.dumps(node.data, indent=2)"
   ]
  },
  {
   "cell_type": "code",
   "execution_count": null,
   "metadata": {},
   "outputs": [],
   "source": [
    "directed.set_layout(\n",
    "    name=\"dagre\", animate=False, randomize=False, maxSimulationTime=2000\n",
    ")\n",
    "# Workaround for style overwriting\n",
    "directed.set_style(\n",
    "    [\n",
    "        {\n",
    "            \"selector\": \"node\",\n",
    "            \"css\": {\n",
    "                \"label\": \"data(_label)\",\n",
    "                \"text-wrap\": \"wrap\",\n",
    "                \"text-max-width\": \"150px\",\n",
    "                \"text-valign\": \"center\",\n",
    "                \"text-halign\": \"center\",\n",
    "                \"font-size\": \"10\",\n",
    "                \"font-family\": '\"Gill Sans\", sans-serif',\n",
    "                \"color\": \"blue\",\n",
    "            },\n",
    "        },\n",
    "        {\n",
    "            \"selector\": \"edge\",\n",
    "            \"css\": {\n",
    "                \"label\": \"data(_label)\",\n",
    "                \"text-wrap\": \"wrap\",\n",
    "                \"text-max-width\": \"150px\",\n",
    "                \"text-valign\": \"center\",\n",
    "                \"text-halign\": \"center\",\n",
    "                \"font-size\": \"10\",\n",
    "                \"font-family\": '\"Gill Sans\", sans-serif',\n",
    "                \"color\": \"green\",\n",
    "            },\n",
    "        },\n",
    "        {\n",
    "            \"selector\": \"edge.directed\",\n",
    "            \"style\": {\n",
    "                \"curve-style\": \"bezier\",\n",
    "                \"target-arrow-shape\": \"triangle\",\n",
    "            },\n",
    "        },\n",
    "        {\"selector\": \"edge.multiple_edges\", \"style\": {\"curve-style\": \"bezier\"}},\n",
    "        {\n",
    "            \"selector\": \":active \",\n",
    "            \"css\": {\n",
    "                \"label\": \"data(_attrs)\",\n",
    "                \"text-wrap\": \"wrap\",\n",
    "                \"text-max-width\": \"500px\",\n",
    "                \"text-valign\": \"bottom\",\n",
    "                \"text-halign\": \"right\",\n",
    "                \"text-background-opacity\": 0.9,\n",
    "                \"text-background-color\": \"white\",\n",
    "                \"text-background-shape\": \"roundrectangle\",\n",
    "                \"color\": \"black\",\n",
    "            },\n",
    "        },\n",
    "    ]\n",
    ")"
   ]
  },
  {
   "cell_type": "code",
   "execution_count": null,
   "metadata": {},
   "outputs": [],
   "source": [
    "directed"
   ]
  },
  {
   "cell_type": "markdown",
   "metadata": {},
   "source": [
    "## Old Code"
   ]
  },
  {
   "cell_type": "raw",
   "metadata": {},
   "source": [
    "# Example of instantiating widgets independently\n",
    "ts = RDFTypeSelectMultiple(label=\"Set custom label (e.g. Available types):\")\n",
    "ts.graph = lw.graph\n",
    "\n",
    "ss = RDFSubjectSelectMultiple(label=\"Set custom label (e.g. Available subjects):\")\n",
    "ss.graph = lw.graph\n",
    "ss._values = {\"type\": ts.selections}\n",
    "\n",
    "# TODO how to index so that we can do something like `type_select.value = [something here]`\n",
    "# For now, choose `voc:Droid` and `voc:Film`.\n",
    "# TODO `ts.selections` still being rewritten to a list of strings. "
   ]
  }
 ],
 "metadata": {
  "kernelspec": {
   "display_name": "Python 3",
   "language": "python",
   "name": "python3"
  },
  "language_info": {
   "codemirror_mode": {
    "name": "ipython",
    "version": 3
   },
   "file_extension": ".py",
   "mimetype": "text/x-python",
   "name": "python",
   "nbconvert_exporter": "python",
   "pygments_lexer": "ipython3",
   "version": "3.7.8"
  }
 },
 "nbformat": 4,
 "nbformat_minor": 4
}
