{
 "cells": [
  {
   "cell_type": "code",
   "execution_count": null,
   "metadata": {},
   "outputs": [],
   "source": [
    "from typing import Union\n",
    "\n",
    "import traitlets as T\n",
    "\n",
    "import ipywidgets as W\n",
    "from ipyradiant import FileManager, MultiPanelSelect, PathLoader\n",
    "from rdflib import Graph, Namespace, URIRef\n",
    "from rdflib.namespace import NamespaceManager"
   ]
  },
  {
   "cell_type": "markdown",
   "metadata": {},
   "source": [
    "## Start with creating a class composing of a checkbox, and the multipanel select.\n",
    "\n",
    "### We will also create a CustomURIRef class in order to get a 'pretty' representation of a URIRef while maintaining access to the full URI."
   ]
  },
  {
   "cell_type": "code",
   "execution_count": null,
   "metadata": {},
   "outputs": [],
   "source": [
    "class CustomURIRef:\n",
    "    # TODO: investigate using rdflib.URIRef as a baseclass\n",
    "    # TODO: investigate better way to handle namespace collapsing via __repr__\n",
    "    def __init__(self, uri: URIRef, namespaces: Union[dict, NamespaceManager]):\n",
    "        self.uri = URIRef(uri)\n",
    "        self.namespaces = namespaces\n",
    "\n",
    "    # TODO: test this (pass in different data types)\n",
    "    def __repr__(self):\n",
    "        if type(self.namespaces) == dict:\n",
    "            g = Graph()\n",
    "            for key, value in self.namespaces.items():\n",
    "                g.namespace_manager.bind(key, value)\n",
    "            return URIRef(self.uri).n3(g.namespace_manager)\n",
    "        return URIRef(self.uri).n3(self.namespaces)\n",
    "\n",
    "    # todo: can we support other = URIRef?\n",
    "    def __eq__(self, other):\n",
    "        if type(other) == URIRef:\n",
    "            return self.uri == other\n",
    "        return self.uri == other.uri"
   ]
  },
  {
   "cell_type": "code",
   "execution_count": null,
   "metadata": {},
   "outputs": [],
   "source": [
    "# turn each of these checks into a test\n",
    "CustomURIRef(\n",
    "    uri=URIRef(\"www.example.org/1\"), namespaces={\"ex\": \"www.example.org/\"}\n",
    ") == URIRef(\"www.example.org/1\"), CustomURIRef(\n",
    "    uri=URIRef(\"www.example.org/1\"), namespaces={\"ex\": \"www.example.org/\"}\n",
    ") == CustomURIRef(\n",
    "    uri=URIRef(\"www.example.org/1\"), namespaces={\"ex\": \"www.example.org/\"}\n",
    ")"
   ]
  },
  {
   "cell_type": "code",
   "execution_count": null,
   "metadata": {},
   "outputs": [],
   "source": [
    "# __repr__ test\n",
    "str(\n",
    "    CustomURIRef(uri=URIRef(\"www.example.org/1\"), namespaces={\"ex\": \"www.example.org/\"})\n",
    ") == \"ex:1\"\n",
    "# test 2 should be passing in namespace manager"
   ]
  },
  {
   "cell_type": "code",
   "execution_count": null,
   "metadata": {},
   "outputs": [],
   "source": [
    "class objectLiteralApp(W.VBox):\n",
    "    graph = T.Instance(Graph, allow_none=True)\n",
    "    lit_button = T.Instance(W.Button)\n",
    "    multiselect = T.Instance(MultiPanelSelect)\n",
    "    namespaces = T.Dict(default_value={}, allow_none=True)\n",
    "\n",
    "    def __init__(self, graph: Graph = None, *args, **kwargs):\n",
    "        if graph is not None:\n",
    "            kwargs[\"graph\"] = graph\n",
    "        if \"layout\" not in kwargs:\n",
    "            kwargs[\"layout\"] = {\n",
    "                \"min_height\": \"400px\",\n",
    "                \"flex\": \"1\",\n",
    "            }\n",
    "        super().__init__(*args, **kwargs)\n",
    "\n",
    "        for key, value in self.namespaces.items():\n",
    "            self.graph.namespace_manager.bind(key, value)\n",
    "\n",
    "        self.lit_button.on_click(self.populate_predicates)\n",
    "        self.children = [self.multiselect, self.lit_button]\n",
    "\n",
    "    @T.default(\"graph\")\n",
    "    def make_default_graph(self):\n",
    "        return Graph()\n",
    "\n",
    "    @T.default(\"lit_button\")\n",
    "    def make_default_button(self):\n",
    "\n",
    "        layout = W.Layout(width=\"300px\", height=\"40px\")  # set width and height\n",
    "\n",
    "        button = W.Button(\n",
    "            description=\"Add predicates where object is a literal\",\n",
    "            disabled=False,\n",
    "            layout=layout,\n",
    "        )\n",
    "\n",
    "        return button\n",
    "\n",
    "    @T.observe(\"graph\")\n",
    "    def _update_multiselect(self, change):\n",
    "        self.multiselect = self.make_default_multiselect()\n",
    "\n",
    "    @T.default(\"multiselect\")\n",
    "    def make_default_multiselect(self):\n",
    "        self.all_preds = list(set(list(self.graph.predicates())))\n",
    "        self.all_predicates = []\n",
    "        for pred in self.all_preds:\n",
    "            self.all_predicates.append(\n",
    "                CustomURIRef(uri=pred, namespaces=self.graph.namespace_manager)\n",
    "            )\n",
    "        return MultiPanelSelect(\n",
    "            data=self.all_predicates,\n",
    "            left_panel_text=\"Available Predicates\",\n",
    "            right_panel_text=\"Predicates to Collapse\",\n",
    "        )\n",
    "\n",
    "    def populate_predicates(self, b):\n",
    "        # query for all predicates where object is not literal\n",
    "        predicates_to_uris = \"\"\"\n",
    "            SELECT DISTINCT  ?p \n",
    "            WHERE {\n",
    "                    ?s ?p ?o .\n",
    "                FILTER (!isLiteral(?o))\n",
    "                } \n",
    "            \"\"\"\n",
    "        q1 = self.graph.query(predicates_to_uris)\n",
    "        q1_results = set([result[0] for result in q1])\n",
    "\n",
    "        # query for predicates where object IS literal\n",
    "        predicates_to_literals = \"\"\"\n",
    "            SELECT DISTINCT  ?p \n",
    "            WHERE {\n",
    "                    ?s ?p ?o .\n",
    "                FILTER isLiteral(?o)\n",
    "                } \n",
    "            \"\"\"\n",
    "        q2 = self.graph.query(predicates_to_literals)\n",
    "        q2_results = set([result[0] for result in q2])\n",
    "        # take difference of sets and turn to list\n",
    "\n",
    "        selected_things = list(q2_results - q1_results)\n",
    "        available_things = list(q1_results - q2_results)\n",
    "        truncated_selected_uris = []\n",
    "        truncated_available_uris = []\n",
    "        for ref in selected_things:\n",
    "            truncated_selected_uris.append(\n",
    "                CustomURIRef(uri=ref, namespaces=self.graph.namespace_manager)\n",
    "            )\n",
    "        for ref in available_things:\n",
    "            truncated_available_uris.append(\n",
    "                CustomURIRef(uri=ref, namespaces=self.graph.namespace_manager)\n",
    "            )\n",
    "        # make sure things arent on both sides\n",
    "        self.multiselect.available_things_list = truncated_available_uris\n",
    "        self.multiselect.selected_things_list = truncated_selected_uris"
   ]
  },
  {
   "cell_type": "markdown",
   "metadata": {},
   "source": [
    "We can borrow the loading widgets seen in other examples like the Tab App in order to\n",
    "get a graph to play around with."
   ]
  },
  {
   "cell_type": "code",
   "execution_count": null,
   "metadata": {},
   "outputs": [],
   "source": [
    "lw = FileManager(loader=PathLoader(path=\"data\"))\n",
    "lw"
   ]
  },
  {
   "cell_type": "code",
   "execution_count": null,
   "metadata": {},
   "outputs": [],
   "source": [
    "graph = lw.graph\n",
    "ola = objectLiteralApp(graph=graph, namespaces={URIRef(\"http://www.w3.org/\"): \"w3\"})\n",
    "ola"
   ]
  },
  {
   "cell_type": "markdown",
   "metadata": {},
   "source": [
    "Now lets say we want to access one of the predicates. We can do this while retaining\n",
    "full access to the URI as follows:"
   ]
  },
  {
   "cell_type": "code",
   "execution_count": null,
   "metadata": {},
   "outputs": [],
   "source": [
    "first_pred = ola.multiselect.selected_things_list[0]\n",
    "first_pred.uri"
   ]
  },
  {
   "cell_type": "code",
   "execution_count": null,
   "metadata": {},
   "outputs": [],
   "source": [
    "# For future reference:\n",
    "import networkx as nx\n",
    "\n",
    "nx_graph = nx.graph.Graph()\n",
    "nx_graph.add_node(\"001\", **{\"color\": \"blue\", \"children\": [\"002\"]})\n",
    "nx_graph.add_node(\"002\")"
   ]
  },
  {
   "cell_type": "code",
   "execution_count": null,
   "metadata": {},
   "outputs": [],
   "source": [
    "nx_graph.nodes[\"001\"][\"children\"]"
   ]
  }
 ],
 "metadata": {
  "kernelspec": {
   "display_name": "Python 3",
   "language": "python",
   "name": "python3"
  },
  "language_info": {
   "codemirror_mode": {
    "name": "ipython",
    "version": 3
   },
   "file_extension": ".py",
   "mimetype": "text/x-python",
   "name": "python",
   "nbconvert_exporter": "python",
   "pygments_lexer": "ipython3",
   "version": "3.7.8"
  }
 },
 "nbformat": 4,
 "nbformat_minor": 4
}
