{
 "cells": [
  {
   "cell_type": "code",
   "execution_count": null,
   "metadata": {},
   "outputs": [],
   "source": [
    "import traitlets as T\n",
    "\n",
    "import ipywidgets as W\n",
    "from ipyradiant import MultiPanelSelect, PathLoader\n",
    "from rdflib import Graph"
   ]
  },
  {
   "cell_type": "markdown",
   "metadata": {},
   "source": [
    "## Start with creating a class composing of a checkbox, and the multipanel select."
   ]
  },
  {
   "cell_type": "code",
   "execution_count": null,
   "metadata": {},
   "outputs": [],
   "source": [
    "class objectLiteralApp(W.VBox):\n",
    "    graph = T.Instance(Graph, allow_none=True)\n",
    "    literal_checkbox = T.Instance(W.Checkbox)\n",
    "    multiselect = T.Instance(MultiPanelSelect)\n",
    "    check_value = T.Bool()\n",
    "\n",
    "    def __init__(self, graph: Graph = None, *args, **kwargs):\n",
    "        if graph is not None:\n",
    "            kwargs[\"graph\"] = graph\n",
    "        if \"layout\" not in kwargs:\n",
    "            kwargs[\"layout\"] = {\n",
    "                \"min_height\": \"400px\",\n",
    "                \"flex\": \"1\",\n",
    "            }\n",
    "        super().__init__(*args, **kwargs)\n",
    "\n",
    "        self.children = [self.multiselect, self.literal_checkbox]\n",
    "\n",
    "    @T.default(\"graph\")\n",
    "    def make_default_graph(self):\n",
    "        return Graph()\n",
    "\n",
    "    @T.default(\"literal_checkbox\")\n",
    "    def make_default_checkbox(self):\n",
    "        style = {\"description_width\": \"initial\"}\n",
    "        checkbox = W.Checkbox(\n",
    "            description=\"Add predicates where object is literal\", style=style\n",
    "        )\n",
    "        T.link((checkbox, \"value\"), (self, \"check_value\"))\n",
    "        return checkbox\n",
    "\n",
    "    @T.default(\"multiselect\")\n",
    "    def make_default_multiselect(self):\n",
    "        return MultiPanelSelect(data=[])\n",
    "\n",
    "    @T.observe(\"check_value\")\n",
    "    def populate_graph(self, change):\n",
    "        if self.check_value == True:\n",
    "            self.multiselect.data = [1, 2, 3]\n",
    "            query1 = \"\"\"\n",
    "                SELECT DISTINCT  ?p \n",
    "                WHERE {\n",
    "                        ?s ?p ?o .\n",
    "                    FILTER (!isLiteral(?o))\n",
    "                    } \n",
    "                \"\"\"\n",
    "            q1 = self.graph.query(query1)\n",
    "            results = []\n",
    "            for result in q1:\n",
    "                results.append(result[0])\n",
    "\n",
    "            query2 = \"\"\"\n",
    "                SELECT DISTINCT  ?p \n",
    "                WHERE {\n",
    "                        ?s ?p ?o .\n",
    "                    FILTER isLiteral(?o)\n",
    "                    } \n",
    "                \"\"\"\n",
    "            q2 = self.graph.query(query2)\n",
    "            final_results = []\n",
    "            for result in q2:\n",
    "                if result[0] not in results:\n",
    "                    final_results.append(result[0])\n",
    "            self.multiselect = MultiPanelSelect(data=final_results)\n",
    "            self.children = [self.multiselect, self.literal_checkbox]"
   ]
  },
  {
   "cell_type": "markdown",
   "metadata": {},
   "source": [
    "We can borrow the loading widgets seen in other examples like the Tab App in order to\n",
    "get a graph to play around with."
   ]
  },
  {
   "cell_type": "code",
   "execution_count": null,
   "metadata": {},
   "outputs": [],
   "source": [
    "from ipyradiant import FileManager\n",
    "\n",
    "lw = FileManager(loader=PathLoader(path=\"data\"))\n",
    "lw"
   ]
  },
  {
   "cell_type": "code",
   "execution_count": null,
   "metadata": {},
   "outputs": [],
   "source": [
    "graph = lw.graph\n",
    "ola = objectLiteralApp(graph=graph)\n",
    "ola"
   ]
  }
 ],
 "metadata": {
  "kernelspec": {
   "display_name": "Python 3",
   "language": "python",
   "name": "python3"
  },
  "language_info": {
   "codemirror_mode": {
    "name": "ipython",
    "version": 3
   },
   "file_extension": ".py",
   "mimetype": "text/x-python",
   "name": "python",
   "nbconvert_exporter": "python",
   "pygments_lexer": "ipython3",
   "version": "3.7.8"
  }
 },
 "nbformat": 4,
 "nbformat_minor": 4
}
