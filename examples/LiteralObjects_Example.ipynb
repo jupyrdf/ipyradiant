{
 "cells": [
  {
   "cell_type": "code",
   "execution_count": null,
   "metadata": {},
   "outputs": [],
   "source": [
    "from ipyradiant import (\n",
    "    CustomURIRef,\n",
    "    FileManager,\n",
    "    MultiPanelSelect,\n",
    "    ObjectLiteralApp,\n",
    "    PathLoader,\n",
    "    collapse_preds,\n",
    ")\n",
    "from rdflib import URIRef"
   ]
  },
  {
   "cell_type": "markdown",
   "metadata": {},
   "source": [
    "## Start by using the `ObjectLiteralApp`\n",
    "\n",
    "### We also utilize the `CustomURIRef` class from `ipyradiant`. This allows us to get a 'pretty' representation of a URIRef while mainting access to the valuable URIRef."
   ]
  },
  {
   "cell_type": "markdown",
   "metadata": {},
   "source": [
    "We can borrow the loading widgets seen in other examples like the Tab App in order to\n",
    "get a graph to play around with."
   ]
  },
  {
   "cell_type": "code",
   "execution_count": null,
   "metadata": {},
   "outputs": [],
   "source": [
    "lw = FileManager(loader=PathLoader(path=\"data\"))\n",
    "lw"
   ]
  },
  {
   "cell_type": "markdown",
   "metadata": {},
   "source": [
    "Now we can use the `ObjectLiteralApp` to move predicates around based on what we which\n",
    "ones we want to select. The 'Add predicates where object is a literal' button will\n",
    "automatically move all predicates to the 'predicates to collapse' side if that predicate\n",
    "is _always_ associated with a literal object."
   ]
  },
  {
   "cell_type": "code",
   "execution_count": null,
   "metadata": {},
   "outputs": [],
   "source": [
    "graph = lw.graph\n",
    "ola = ObjectLiteralApp(graph=graph, namespaces={URIRef(\"http://www.w3.org/\"): \"w3\"})\n",
    "ola"
   ]
  },
  {
   "cell_type": "markdown",
   "metadata": {},
   "source": [
    "Now lets say we want to access one of the predicates. We can do this while retaining\n",
    "full access to the URI as follows:"
   ]
  },
  {
   "cell_type": "code",
   "execution_count": null,
   "metadata": {},
   "outputs": [],
   "source": [
    "try:\n",
    "    first_pred = ola.multiselect.selected_things_list[0]\n",
    "    print(first_pred.uri)\n",
    "except:\n",
    "    print(\"need to put some data in the graph and move it around for this to work.\")"
   ]
  },
  {
   "cell_type": "markdown",
   "metadata": {},
   "source": [
    "## Transformations of Graph"
   ]
  },
  {
   "cell_type": "code",
   "execution_count": null,
   "metadata": {},
   "outputs": [],
   "source": [
    "import networkx as nx\n",
    "import rdflib\n",
    "from rdflib.extras.external_graph_libs import (\n",
    "    rdflib_to_networkx_graph,\n",
    "    rdflib_to_networkx_multidigraph,\n",
    ")"
   ]
  },
  {
   "cell_type": "code",
   "execution_count": null,
   "metadata": {},
   "outputs": [],
   "source": [
    "netx_graph = rdflib_to_networkx_graph(graph)"
   ]
  },
  {
   "cell_type": "markdown",
   "metadata": {},
   "source": [
    "We will collapse all the predicates that consistently have literal objects, and then see\n",
    "how it effects the graph."
   ]
  },
  {
   "cell_type": "code",
   "execution_count": null,
   "metadata": {},
   "outputs": [],
   "source": [
    "preds_to_collapse = ola.multiselect.selected_things_list\n",
    "preds_to_collapse = [_.uri for _ in preds_to_collapse]"
   ]
  },
  {
   "cell_type": "markdown",
   "metadata": {},
   "source": [
    "Here we get a list of all subject nodes so that we do not remove an object that is also\n",
    "a subject."
   ]
  },
  {
   "cell_type": "code",
   "execution_count": null,
   "metadata": {},
   "outputs": [],
   "source": [
    "subjects = [s for s, o in netx_graph.edges]"
   ]
  },
  {
   "cell_type": "markdown",
   "metadata": {},
   "source": [
    "Now we can collapse down the data in the graph, and then later take a look at how that\n",
    "impacted the visualization of the graph."
   ]
  },
  {
   "cell_type": "code",
   "execution_count": null,
   "metadata": {},
   "outputs": [],
   "source": [
    "# loop through edges, if the predicate is in this list, then flag to remove\n",
    "netx_graph = collapse_preds(\n",
    "    netx_graph,\n",
    "    preds_to_collapse,\n",
    "    subjects,\n",
    "    namespaces={URIRef(\"http://www.w3.org/\"): \"w3\"},\n",
    ")"
   ]
  },
  {
   "cell_type": "code",
   "execution_count": null,
   "metadata": {},
   "outputs": [],
   "source": [
    "try:\n",
    "    print(netx_graph.nodes[list(netx_graph.nodes)[0]])\n",
    "except:\n",
    "    print(\"need to have a non-empty networkx graph\")"
   ]
  }
 ],
 "metadata": {
  "kernelspec": {
   "display_name": "Python 3",
   "language": "python",
   "name": "python3"
  },
  "language_info": {
   "codemirror_mode": {
    "name": "ipython",
    "version": 3
   },
   "file_extension": ".py",
   "mimetype": "text/x-python",
   "name": "python",
   "nbconvert_exporter": "python",
   "pygments_lexer": "ipython3",
   "version": "3.7.8"
  }
 },
 "nbformat": 4,
 "nbformat_minor": 4
}
