{
 "cells": [
  {
   "cell_type": "code",
   "execution_count": null,
   "metadata": {},
   "outputs": [],
   "source": [
    "import traitlets as T\n",
    "import ipywidgets as W\n",
    "from ipyradiant import MultiPanelSelect, PathLoader, FileManager\n",
    "from rdflib import Graph, Namespace, URIRef\n",
    "from rdflib.namespace import NamespaceManager"
   ]
  },
  {
   "cell_type": "markdown",
   "metadata": {},
   "source": [
    "## Start with creating a class composing of a checkbox, and the multipanel select.\n",
    "### We will also create a CustomURIRef class in order to get a 'pretty' representation of a URIRef while maintaining access to the full URI."
   ]
  },
  {
   "cell_type": "code",
   "execution_count": null,
   "metadata": {},
   "outputs": [],
   "source": [
    "class CustomURIRef:\n",
    "    # TODO: investigate using rdflib.URIRef as a baseclass\n",
    "    def __init__(self, uri, namespace_manager):\n",
    "        self.uri = URIRef(uri)\n",
    "        self.namespace_manager = namespace_manager\n",
    "\n",
    "    \n",
    "    def __repr__(self):\n",
    "        return URIRef(self.uri).n3(self.namespace_manager)"
   ]
  },
  {
   "cell_type": "code",
   "execution_count": null,
   "metadata": {},
   "outputs": [],
   "source": [
    "class objectLiteralApp(W.VBox):\n",
    "    graph = T.Instance(Graph, allow_none=True)\n",
    "    lit_button = T.Instance(W.Button)\n",
    "    multiselect = T.Instance(MultiPanelSelect)\n",
    "    namespaces = T.Dict(default_value={}, allow_none = True)\n",
    "\n",
    "\n",
    "\n",
    "    def __init__(self, graph: Graph = None, *args, **kwargs):\n",
    "        if graph is not None:\n",
    "            kwargs[\"graph\"] = graph\n",
    "        if \"layout\" not in kwargs:\n",
    "            kwargs[\"layout\"] = {\n",
    "                \"min_height\": \"400px\",\n",
    "                \"flex\": \"1\",\n",
    "            }\n",
    "        super().__init__(*args, **kwargs)\n",
    "        \n",
    "        for key,value in self.namespaces.items():\n",
    "            self.graph.namespace_manager.bind(key, value)\n",
    "        \n",
    "        self.lit_button.on_click(self.populate_predicates)\n",
    "        self.children = [self.multiselect, self.lit_button]\n",
    "\n",
    "    @T.default(\"graph\")\n",
    "    def make_default_graph(self):\n",
    "        return Graph()\n",
    "\n",
    "    @T.default(\"lit_button\")\n",
    "    def make_default_button(self):\n",
    "        \n",
    "        layout = W.Layout(width='300px', height='40px') #set width and height\n",
    "\n",
    "        button = W.Button(\n",
    "            description='Add predicates where object is a literal',\n",
    "            disabled=False,\n",
    "            layout = layout\n",
    "        )    \n",
    "\n",
    "        return button\n",
    "\n",
    "    @T.default(\"multiselect\")\n",
    "    def make_default_multiselect(self):\n",
    "        return MultiPanelSelect(data=[], left_panel_text=\"Available Predicates\", right_panel_text=\"Predicates to Collapse\")\n",
    "    \n",
    "\n",
    "    def populate_predicates(self, b):\n",
    "        # query for all predicates where object is not literal\n",
    "        predicates_to_uris = \"\"\"\n",
    "            SELECT DISTINCT  ?p \n",
    "            WHERE {\n",
    "                    ?s ?p ?o .\n",
    "                FILTER (!isLiteral(?o))\n",
    "                } \n",
    "            \"\"\"\n",
    "        q1 = self.graph.query(predicates_to_uris)\n",
    "        q1_results = set([result[0] for result in q1])\n",
    "\n",
    "        # query for predicates where object IS literal\n",
    "        predicates_to_literals = \"\"\"\n",
    "            SELECT DISTINCT  ?p \n",
    "            WHERE {\n",
    "                    ?s ?p ?o .\n",
    "                FILTER isLiteral(?o)\n",
    "                } \n",
    "            \"\"\"\n",
    "        q2 = self.graph.query(predicates_to_literals)\n",
    "        q2_results = set([result[0] for result in q2])\n",
    "        #take difference of sets and turn to list\n",
    "        set_diff = list(q2_results-q1_results)\n",
    "        \n",
    "        \n",
    "        truncated_uris = []\n",
    "        for ref in set_diff:\n",
    "            truncated_uris.append(CustomURIRef(uri = ref, namespace_manager = self.graph.namespace_manager))\n",
    "        self.multiselect.selected_things_list = truncated_uris\n",
    "            "
   ]
  },
  {
   "cell_type": "markdown",
   "metadata": {},
   "source": [
    "We can borrow the loading widgets seen in other examples like the Tab App in order to get a graph to play around with."
   ]
  },
  {
   "cell_type": "code",
   "execution_count": null,
   "metadata": {},
   "outputs": [],
   "source": [
    "lw = FileManager(loader=PathLoader(path=\"data\"))\n",
    "lw"
   ]
  },
  {
   "cell_type": "code",
   "execution_count": null,
   "metadata": {},
   "outputs": [],
   "source": [
    "graph = lw.graph\n",
    "ola = objectLiteralApp(graph=graph, namespaces={URIRef('http://www.w3.org/'):'w3'})\n",
    "ola"
   ]
  },
  {
   "cell_type": "markdown",
   "metadata": {},
   "source": [
    "Now lets say we want to access one of the predicates. We can do this while retaining full access to the URI as follows:"
   ]
  },
  {
   "cell_type": "code",
   "execution_count": null,
   "metadata": {},
   "outputs": [],
   "source": [
    "first_pred = ola.multiselect.selected_things_list[0]\n",
    "first_pred.uri"
   ]
  }
 ],
 "metadata": {
  "kernelspec": {
   "display_name": "Python 3",
   "language": "python",
   "name": "python3"
  },
  "language_info": {
   "codemirror_mode": {
    "name": "ipython",
    "version": 3
   },
   "file_extension": ".py",
   "mimetype": "text/x-python",
   "name": "python",
   "nbconvert_exporter": "python",
   "pygments_lexer": "ipython3",
   "version": "3.7.8"
  }
 },
 "nbformat": 4,
 "nbformat_minor": 4
}
