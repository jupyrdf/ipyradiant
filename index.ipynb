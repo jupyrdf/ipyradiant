{
 "cells": [
  {
   "cell_type": "markdown",
   "metadata": {},
   "source": [
    "# <img style=\"float: right\" src=\"./design/assets/jupyrdf.png\" width=\"100\" height=\"100\"/> ipyradiant Index Page\n",
    "The following examples illustrate ways to use the widgets available in the `ipyradiant` package. Click on an example link to launch the notebook. "
   ]
  },
  {
   "cell_type": "markdown",
   "metadata": {},
   "source": [
    "## Examples\n",
    "### 1. Basic Widgets\n",
    "- <a href=\"examples/MultiPanelSelectWidget.ipynb\">A multi-panel selection tool</a>\n",
    "\n",
    "### 2. RDF Utility Widgets\n",
    "- <a href=\"examples/FileManager.ipynb\">FileManager for loading local RDF data</a>\n",
    "\n",
    "### 3. Graph Visualization Widgets\n",
    "- <a href=\"examples/Cytoscape_Example.ipynb\">Cytoscape for Small Interactive Graphs</a>\n",
    "- <a href=\"examples/Cytoscape_Viewer.ipynb\">Cytoscape with RDF to LPG converter for Visualizing Small Graphs</a>\n",
    "- <a href=\"examples/InteractiveViewer.ipynb\">View RDF graphs as LPG, with the ability to toggle visiblity of `rdf:type`s.</a>\n",
    "- <a href=\"examples/Datashader_Example.ipynb\">Datashader for Large Graphs</a>\n",
    "\n",
    "### 4. Aggregated Widget Tools\n",
    "- <a href=\"examples/Tab_App_Example.ipynb\">Load, Query, and Visualization Tab Application</a>\n",
    "\n",
    "### 5. Query Usage\n",
    "- <a href=\"examples/QueryWidget.ipynb\">Basic Query Widget</a>\n",
    "- <a href=\"examples/RemoteQuery_Example.ipynb\">Remote Query Examples</a>\n",
    "- <a href=\"examples/FederatedQuery_Example.ipynb\">Federated Query Examples</a>\n",
    "\n",
    "### 6. RDF to `networkx`\n",
    "- <a href=\"examples/RDF_to_NX.ipynb\">Collapsing RDF to a Latent Property Graph (networkx)</a>\n",
    "- <a href=\"examples/RDF_to_NX_Custom.ipynb\">Customizing the RDF2NX behavior</a>\n",
    "- <a href=\"examples/URI_Converter_Examples.ipynb\">URI Converters for RDF2NX process</a>\n",
    "\n",
    "### Other\n",
    "- <a href=\"examples/SPARQL_Metaclass_Queries.ipynb\">SPARQLQueryFramer and Metaclasses</a>"
   ]
  },
  {
   "cell_type": "markdown",
   "metadata": {},
   "source": [
    "## Planning\n",
    "### - Architecture Diagram\n",
    "This work in progress architecture reflects the current proposed structure of widgets within the `ipyradiant` pacakage. \n",
    "\n",
    "[![ideas][]][ideas]\n",
    "\n",
    "[ideas]: ./design/architecture/architecture.dio.svg"
   ]
  }
 ],
 "metadata": {
  "kernelspec": {
   "display_name": "Python 3 (ipykernel)",
   "language": "python",
   "name": "python3"
  },
  "language_info": {
   "codemirror_mode": {
    "name": "ipython",
    "version": 3
   },
   "file_extension": ".py",
   "mimetype": "text/x-python",
   "name": "python",
   "nbconvert_exporter": "python",
   "pygments_lexer": "ipython3",
   "version": "3.9.12"
  }
 },
 "nbformat": 4,
 "nbformat_minor": 4
}
