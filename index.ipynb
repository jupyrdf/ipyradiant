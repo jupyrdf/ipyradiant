{
 "cells": [
  {
   "cell_type": "markdown",
   "metadata": {},
   "source": [
    "# <img style=\"float: right\" src=\"./design/assets/jupyrdf.png\" width=\"100\" height=\"100\"/> ipyradiant Index Page\n",
    "The following examples illustrate ways to use the widgets available in the `ipyradiant` package. Click on an example link to launch the notebook. "
   ]
  },
  {
   "cell_type": "markdown",
   "metadata": {},
   "source": [
    "## Examples\n",
    "### - Basic Widgets\n",
    "- <a href=\"examples/MultiPanelSelectWidget.ipynb\">A multi-panel selection tool</a>\n",
    "\n",
    "### - RDF Utility Widgets\n",
    "- <a href=\"examples/FileManager.ipynb\">FileManager for loading local RDF data</a>\n",
    "\n",
    "### - Graph Visualization Widgets\n",
    "- <a href=\"examples/Cytoscape_Example.ipynb\">Cytoscape for Small Interactive Graphs</a>\n",
    "- <a href=\"examples/Datashader_Example.ipynb\">Datashader for Large Graphs</a>\n",
    "\n",
    "### - Aggregated Widget Tools\n",
    "- <a href=\"examples/Tab_App_Example.ipynb\">Load, Query, and Visualization Tab Application</a>\n",
    "\n"
   ]
  },
  {
   "cell_type": "markdown",
   "metadata": {},
   "source": [
    "## Planning\n",
    "### - Architecture Diagram\n",
    "This work in progress architecture reflects the current proposed structure of widgets within the `ipyradiant` pacakage. \n",
    "\n",
    "[![ideas][]][ideas]\n",
    "\n",
    "[ideas]: ./design/architecture/architecture.dio.svg"
   ]
  }
 ],
 "metadata": {
  "kernelspec": {
   "display_name": "Python 3",
   "language": "python",
   "name": "python3"
  },
  "language_info": {
   "codemirror_mode": {
    "name": "ipython",
    "version": 3
   },
   "file_extension": ".py",
   "mimetype": "text/x-python",
   "name": "python",
   "nbconvert_exporter": "python",
   "pygments_lexer": "ipython3",
   "version": "3.7.8"
  }
 },
 "nbformat": 4,
 "nbformat_minor": 4
}
